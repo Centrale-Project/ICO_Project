{
 "cells": [
  {
   "cell_type": "code",
   "execution_count": 578,
   "metadata": {},
   "outputs": [],
   "source": [
    "import os.path\n",
    "import sys\n",
    "\n",
    "import os\n",
    "\n",
    "# Récupère le chemin d'accès parent de sys.path[0]\n",
    "parent_dir = os.path.dirname(sys.path[0])\n",
    "\n",
    "sys.path.append(os.path.abspath(parent_dir))\n",
    "import importlib\n",
    "import algorithmes\n",
    "importlib.reload(algorithmes)\n",
    "from algorithmes import *\n",
    "import random\n",
    "import mesa"
   ]
  },
  {
   "attachments": {},
   "cell_type": "markdown",
   "metadata": {},
   "source": [
    "## L'implimentation d'un systeme multi agent qui suit le Protocole Ennemie"
   ]
  },
  {
   "attachments": {},
   "cell_type": "markdown",
   "metadata": {},
   "source": [
    "## Création des Agents"
   ]
  },
  {
   "cell_type": "code",
   "execution_count": 580,
   "metadata": {},
   "outputs": [],
   "source": [
    "class Recuit_sem(mesa.Agent):\n",
    "    \n",
    "    # Création d'agent Recuit simulé \n",
    "\n",
    "\n",
    "    def __init__(self, model,parameters,pool_key):\n",
    "        \n",
    "        super().__init__(self,model)\n",
    "        self.parameters = parameters\n",
    "        self.pool_key = pool_key # le pool qui va etre amélioré par l'algorithme\n",
    "        \n",
    "\n",
    "    def execute(self):\n",
    "\n",
    "        # Tirer une solution aléatoire du Pool et la remplacer par une solution améliorer par Recuit simulé\n",
    "        solution_index = np.random.randint(len(self.model.Pool[self.pool_key]))\n",
    "        new_solution, meilleure_valeur , _  = recuit_simule(self.model.Pool[self.pool_key][solution_index],self.parameters['temperature_initiale'] , self.parameters['temperature_finale'],alpha=0.99)\n",
    "        self.model.Pool[self.pool_key][solution_index] = new_solution\n",
    "        \n",
    "            \n",
    "    def step(self):\n",
    "        \n",
    "        self.execute()"
   ]
  },
  {
   "cell_type": "code",
   "execution_count": 582,
   "metadata": {},
   "outputs": [],
   "source": [
    "class Tabou(mesa.Agent):\n",
    "    \n",
    "    # Création d'agent Tabou \n",
    "\n",
    "    def __init__(self,  model,parameters,pool_key):\n",
    "        super().__init__(self,model)\n",
    "      \n",
    "        self.parameters = parameters\n",
    "        self.pool_key = pool_key # le pool qui va etre amélioré par l'algorithme\n",
    "\n",
    "    def execute(self):\n",
    "\n",
    "        # Tirer une solution aléatoire du Pool et la remplacer par une solution améliorer par Tabou\n",
    "        solution_index = np.random.randint(len(self.model.Pool[self.pool_key]))\n",
    "        new_solution, meilleure_valeur , _ = tabou(self.model.Pool[self.pool_key][solution_index] ,self.parameters['taille_tabou'],self.parameters['max_iterations'],self.parameters['n_voisin'])\n",
    "        self.model.Pool[self.pool_key][solution_index] = new_solution\n",
    "\n",
    "            \n",
    "    def step(self):\n",
    "        self.execute()"
   ]
  },
  {
   "cell_type": "code",
   "execution_count": 663,
   "metadata": {},
   "outputs": [],
   "source": [
    "class Genetic(mesa.Agent):\n",
    "    \n",
    "    # Création d'agent genetique \n",
    "\n",
    "    def __init__(self,  model,parameters,pool_key):\n",
    "\n",
    "        super().__init__(self,model)\n",
    "        self.parameters = parameters\n",
    "        self.pool_key = pool_key\n",
    "\n",
    "    def execute(self):\n",
    "\n",
    "        # Prendre le Pool comme une population initial et la remplacer par une population améliorer par l'algo genetique\n",
    "        new_solution, meilleure_valeur , _ ,population = genetique(self.model.Pool[self.pool_key],self.parameters['taux_mutation'],self.parameters['max_iterations'])\n",
    "        self.model.Pool[self.pool_key] = copy.deepcopy(population)\n",
    "        \n",
    "            \n",
    "    def step(self):\n",
    "        self.execute()"
   ]
  },
  {
   "cell_type": "code",
   "execution_count": 589,
   "metadata": {},
   "outputs": [],
   "source": [
    "def compute_Pool_avg(model):\n",
    "\n",
    "    # Calculer le cout moyenne des solutions dans le Pool\n",
    "    couts = [cout(get_route_version2(model.Pool[i], time_window, Q)) for i in range(len(model.Pool))]\n",
    "    \n",
    "    return sum(couts)/len(couts)\n",
    "\n",
    "def compute_Pool_min(model):\n",
    "    \n",
    "    # Calculer le cout minimum des solution dans le Pool\n",
    "    couts = [cout(get_route_version2(model.Pool[i], time_window, Q)) for i in range(len(model.Pool))]\n",
    "\n",
    "    return min(couts)\n",
    "\n",
    "def get_the_best_solution(model):\n",
    "\n",
    "    # Récupérer la meilleur solution dans le Pool\n",
    "    couts = np.array([cout(get_route_version2(model.Pool[i], time_window, Q)) for i in range(len(model.Pool))])\n",
    "\n",
    "    return model.Pool[np.argmin(couts)]"
   ]
  },
  {
   "cell_type": "code",
   "execution_count": 593,
   "metadata": {},
   "outputs": [],
   "source": [
    "def compute_cout_pool1(model):\n",
    "    \n",
    "    # Calculer le cout moyenne des solutions dans le Pool\n",
    "    couts = [cout(get_route_version2(model.Pool['pool1'][i], time_window, Q)) for i in range(len(model.Pool['pool1']))]\n",
    "\n",
    "    return min(couts)\n",
    "\n",
    "\n",
    "def compute_cout_pool2(model):\n",
    "    \n",
    "    # Calculer le cout moyenne des solutions dans le Pool\n",
    "    couts = [cout(get_route_version2(model.Pool['pool2'][i], time_window, Q)) for i in range(len(model.Pool['pool2']))]\n",
    "\n",
    "    return min(couts)"
   ]
  },
  {
   "cell_type": "code",
   "execution_count": 596,
   "metadata": {},
   "outputs": [],
   "source": [
    "def compute_1(model):\n",
    "    \n",
    "    # Calculer le cout moyenne des solutions dans le Pool\n",
    "    return model.resultats['equipe1']\n",
    "\n",
    "\n",
    "def compute_2(model):\n",
    "    \n",
    "    # Calculer le cout moyenne des solutions dans le Pool\n",
    "\n",
    "    return model.resultats['equipe2']"
   ]
  },
  {
   "cell_type": "code",
   "execution_count": 645,
   "metadata": {},
   "outputs": [],
   "source": [
    "## Les paramètres des Algorithmes \n",
    "num_clients = 25\n",
    "parameters = {'rs' : {'temperature_initiale' : 1  , 'temperature_finale' : 1e-6 } , 'tabou' : {'taille_tabou' : nombre_client , 'max_iterations' : 100 , 'n_voisin' : 2} , 'genetic'  : {'taux_mutation' : 0.5 ,'max_iterations' : 10 }}"
   ]
  },
  {
   "cell_type": "code",
   "execution_count": 647,
   "metadata": {},
   "outputs": [],
   "source": [
    "class SMA_ENNEMIE(mesa.Model):\n",
    "    \n",
    "    \"\"\"Création d'environnement de communication entre les agents\"\"\"\n",
    "\n",
    "\n",
    "    def __init__(self,Pool,parameters):\n",
    "        \n",
    "        self.schedule1 = mesa.time.RandomActivation(self)\n",
    "        self.schedule2 = mesa.time.RandomActivation(self)\n",
    "        self.Pool = Pool\n",
    "        self.resultats = {}\n",
    "\n",
    "        # Instanciation des agents \n",
    "        self.optimazers = {'equipe1' : [Recuit_sem(self,parameters['rs'],'pool1'), Genetic(self,parameters['genetic'],'pool1')], 'equipe2' : [Tabou(self,parameters['tabou'],'pool2'), Genetic(self,parameters['genetic'],'pool2')] }\n",
    "        self.schedule1.add(self.optimazers['equipe1'][0])\n",
    "        self.schedule2.add(self.optimazers['equipe2'][0])\n",
    "\n",
    "\n",
    "        ## Récuperer à chaque step la meilleur solution dans le Pool et son cout\n",
    "        self.datacollector1 = mesa.DataCollector(\n",
    "            model_reporters={\"pool_1\": compute_cout_pool1  } )\n",
    "        \n",
    "        self.datacollector2 = mesa.DataCollector(\n",
    "            model_reporters={\"pool_2\": compute_cout_pool2 } )\n",
    "\n",
    "\n",
    "    def step1(self):\n",
    "\n",
    "        \n",
    "        self.schedule1.step()\n",
    "        self.resultats['equipe1'] = compute_cout_pool1(self)\n",
    "        self.datacollector1.collect(self)\n",
    "\n",
    "\n",
    "    def step2(self):\n",
    "\n",
    "        self.schedule2.step()\n",
    "        self.resultats['equipe2'] = compute_cout_pool2(self)\n",
    "        self.datacollector2.collect(self)\n"
   ]
  },
  {
   "cell_type": "code",
   "execution_count": 656,
   "metadata": {},
   "outputs": [],
   "source": [
    "## Création du Pool\n",
    "POOL = {}\n",
    "Pool = []\n",
    "list_client_initial = [i for i in range(num_clients)]\n",
    "for j in range(2): \n",
    "    x  = copy.deepcopy(list_client_initial)\n",
    "    random.shuffle(x)\n",
    "    Pool.append(x)\n",
    "    POOL['pool1'] = Pool\n",
    "    \n",
    "Pool = []\n",
    "for j in range(2): \n",
    "    x  = copy.deepcopy(list_client_initial)\n",
    "    random.shuffle(x)\n",
    "    Pool.append(x)\n",
    "    POOL['pool2'] = Pool"
   ]
  },
  {
   "cell_type": "code",
   "execution_count": 658,
   "metadata": {},
   "outputs": [],
   "source": [
    "sma_env = SMA_ENNEMIE(POOL,parameters)"
   ]
  },
  {
   "cell_type": "code",
   "execution_count": null,
   "metadata": {},
   "outputs": [],
   "source": []
  },
  {
   "cell_type": "code",
   "execution_count": null,
   "metadata": {},
   "outputs": [],
   "source": []
  },
  {
   "attachments": {},
   "cell_type": "markdown",
   "metadata": {},
   "source": [
    "### Exécution de notre Système multu agent ennemie"
   ]
  },
  {
   "cell_type": "code",
   "execution_count": 674,
   "metadata": {},
   "outputs": [],
   "source": [
    "# initiation\n",
    "\n",
    "sma_env = SMA_ENNEMIE(POOL,parameters)\n",
    "\n",
    "for i in range(5) : \n",
    "\n",
    "    sma_env.step1()\n",
    "    sma_env.step2()\n",
    "\n",
    "    if i%10 == 0 :\n",
    "\n",
    "        sma_env.optimazers['equipe1'][1].execute()\n",
    "        sma_env.optimazers['equipe2'][1].execute()\n",
    "    \n",
    "\n",
    "cout_equipe1 = sma_env.resultats['equipe1']\n",
    "cout_equipe2 = sma_env.resultats['equipe2']"
   ]
  },
  {
   "cell_type": "code",
   "execution_count": 669,
   "metadata": {},
   "outputs": [
    {
     "data": {
      "text/plain": [
       "(412.3525726762663, 771.9651053877202)"
      ]
     },
     "execution_count": 669,
     "metadata": {},
     "output_type": "execute_result"
    }
   ],
   "source": [
    "cout_equipe1 , cout_equipe2"
   ]
  },
  {
   "cell_type": "code",
   "execution_count": 675,
   "metadata": {},
   "outputs": [
    {
     "ename": "KeyboardInterrupt",
     "evalue": "",
     "output_type": "error",
     "traceback": [
      "\u001b[1;31m---------------------------------------------------------------------------\u001b[0m",
      "\u001b[1;31mKeyboardInterrupt\u001b[0m                         Traceback (most recent call last)",
      "Cell \u001b[1;32mIn[675], line 9\u001b[0m\n\u001b[0;32m      5\u001b[0m \u001b[39mwhile\u001b[39;00m cout_equipe1 \u001b[39m<\u001b[39m cout_equipe2 : \n\u001b[0;32m      7\u001b[0m     \u001b[39mfor\u001b[39;00m k \u001b[39min\u001b[39;00m \u001b[39mrange\u001b[39m(\u001b[39m15\u001b[39m) :\n\u001b[1;32m----> 9\u001b[0m         sma_env\u001b[39m.\u001b[39;49mstep2()\n\u001b[0;32m     11\u001b[0m         \u001b[39mif\u001b[39;00m k\u001b[39m%\u001b[39m\u001b[39m10\u001b[39m \u001b[39m==\u001b[39m \u001b[39m0\u001b[39m :\n\u001b[0;32m     12\u001b[0m             sma_env\u001b[39m.\u001b[39moptimazers[\u001b[39m'\u001b[39m\u001b[39mequipe2\u001b[39m\u001b[39m'\u001b[39m][\u001b[39m1\u001b[39m]\u001b[39m.\u001b[39mexecute()\n",
      "Cell \u001b[1;32mIn[647], line 37\u001b[0m, in \u001b[0;36mSMA_ENNEMIE.step2\u001b[1;34m(self)\u001b[0m\n\u001b[0;32m     35\u001b[0m \u001b[39mdef\u001b[39;00m \u001b[39mstep2\u001b[39m(\u001b[39mself\u001b[39m):\n\u001b[1;32m---> 37\u001b[0m     \u001b[39mself\u001b[39;49m\u001b[39m.\u001b[39;49mschedule2\u001b[39m.\u001b[39;49mstep()\n\u001b[0;32m     38\u001b[0m     \u001b[39mself\u001b[39m\u001b[39m.\u001b[39mresultats[\u001b[39m'\u001b[39m\u001b[39mequipe2\u001b[39m\u001b[39m'\u001b[39m] \u001b[39m=\u001b[39m compute_cout_pool2(\u001b[39mself\u001b[39m)\n\u001b[0;32m     39\u001b[0m     \u001b[39mself\u001b[39m\u001b[39m.\u001b[39mdatacollector2\u001b[39m.\u001b[39mcollect(\u001b[39mself\u001b[39m)\n",
      "File \u001b[1;32mc:\\Users\\moham\\anaconda3\\envs\\pythonProject2\\lib\\site-packages\\mesa\\time.py:125\u001b[0m, in \u001b[0;36mRandomActivation.step\u001b[1;34m(self)\u001b[0m\n\u001b[0;32m    120\u001b[0m \u001b[39m\u001b[39m\u001b[39m\"\"\"Executes the step of all agents, one at a time, in\u001b[39;00m\n\u001b[0;32m    121\u001b[0m \u001b[39mrandom order.\u001b[39;00m\n\u001b[0;32m    122\u001b[0m \n\u001b[0;32m    123\u001b[0m \u001b[39m\"\"\"\u001b[39;00m\n\u001b[0;32m    124\u001b[0m \u001b[39mfor\u001b[39;00m agent \u001b[39min\u001b[39;00m \u001b[39mself\u001b[39m\u001b[39m.\u001b[39magent_buffer(shuffled\u001b[39m=\u001b[39m\u001b[39mTrue\u001b[39;00m):\n\u001b[1;32m--> 125\u001b[0m     agent\u001b[39m.\u001b[39;49mstep()\n\u001b[0;32m    126\u001b[0m \u001b[39mself\u001b[39m\u001b[39m.\u001b[39msteps \u001b[39m+\u001b[39m\u001b[39m=\u001b[39m \u001b[39m1\u001b[39m\n\u001b[0;32m    127\u001b[0m \u001b[39mself\u001b[39m\u001b[39m.\u001b[39mtime \u001b[39m+\u001b[39m\u001b[39m=\u001b[39m \u001b[39m1\u001b[39m\n",
      "Cell \u001b[1;32mIn[582], line 20\u001b[0m, in \u001b[0;36mTabou.step\u001b[1;34m(self)\u001b[0m\n\u001b[0;32m     19\u001b[0m \u001b[39mdef\u001b[39;00m \u001b[39mstep\u001b[39m(\u001b[39mself\u001b[39m):\n\u001b[1;32m---> 20\u001b[0m     \u001b[39mself\u001b[39;49m\u001b[39m.\u001b[39;49mexecute()\n",
      "Cell \u001b[1;32mIn[582], line 15\u001b[0m, in \u001b[0;36mTabou.execute\u001b[1;34m(self)\u001b[0m\n\u001b[0;32m     11\u001b[0m \u001b[39mdef\u001b[39;00m \u001b[39mexecute\u001b[39m(\u001b[39mself\u001b[39m):\n\u001b[0;32m     12\u001b[0m \n\u001b[0;32m     13\u001b[0m     \u001b[39m# Tirer une solution aléatoire du Pool et la remplacer par une solution améliorer par Tabou\u001b[39;00m\n\u001b[0;32m     14\u001b[0m     solution_index \u001b[39m=\u001b[39m np\u001b[39m.\u001b[39mrandom\u001b[39m.\u001b[39mrandint(\u001b[39mlen\u001b[39m(\u001b[39mself\u001b[39m\u001b[39m.\u001b[39mmodel\u001b[39m.\u001b[39mPool[\u001b[39mself\u001b[39m\u001b[39m.\u001b[39mpool_key]))\n\u001b[1;32m---> 15\u001b[0m     new_solution, meilleure_valeur , _ \u001b[39m=\u001b[39m tabou(\u001b[39mself\u001b[39;49m\u001b[39m.\u001b[39;49mmodel\u001b[39m.\u001b[39;49mPool[\u001b[39mself\u001b[39;49m\u001b[39m.\u001b[39;49mpool_key][solution_index] ,\u001b[39mself\u001b[39;49m\u001b[39m.\u001b[39;49mparameters[\u001b[39m'\u001b[39;49m\u001b[39mtaille_tabou\u001b[39;49m\u001b[39m'\u001b[39;49m],\u001b[39mself\u001b[39;49m\u001b[39m.\u001b[39;49mparameters[\u001b[39m'\u001b[39;49m\u001b[39mmax_iterations\u001b[39;49m\u001b[39m'\u001b[39;49m],\u001b[39mself\u001b[39;49m\u001b[39m.\u001b[39;49mparameters[\u001b[39m'\u001b[39;49m\u001b[39mn_voisin\u001b[39;49m\u001b[39m'\u001b[39;49m])\n\u001b[0;32m     16\u001b[0m     \u001b[39mself\u001b[39m\u001b[39m.\u001b[39mmodel\u001b[39m.\u001b[39mPool[\u001b[39mself\u001b[39m\u001b[39m.\u001b[39mpool_key][solution_index] \u001b[39m=\u001b[39m new_solution\n",
      "File \u001b[1;32mc:\\Users\\moham\\desktop\\ICO_Project\\algorithmes.py:394\u001b[0m, in \u001b[0;36mtabou\u001b[1;34m(liste_initiale, taille_tabou, max_iterations, n_voisin)\u001b[0m\n\u001b[0;32m    391\u001b[0m voisin \u001b[39m=\u001b[39m voisinage(meilleure_solution)\n\u001b[0;32m    393\u001b[0m \u001b[39m# Si le voisin est dans la liste tabou, on en génère un autre\u001b[39;00m\n\u001b[1;32m--> 394\u001b[0m \u001b[39mwhile\u001b[39;00m voisin \u001b[39min\u001b[39;49;00m liste_tabou:\n\u001b[0;32m    395\u001b[0m     voisin \u001b[39m=\u001b[39m voisinage(meilleure_solution)\n\u001b[0;32m    397\u001b[0m \u001b[39mif\u001b[39;00m i\u001b[39m==\u001b[39m\u001b[39m0\u001b[39m:\n\u001b[0;32m    398\u001b[0m     \u001b[39m# si c'est le premier voisin, on initialise la meilleure valeur avec celle-ci\u001b[39;00m\n",
      "\u001b[1;31mKeyboardInterrupt\u001b[0m: "
     ]
    }
   ],
   "source": [
    "for i in range(10):\n",
    "\n",
    "    if cout_equipe1 < cout_equipe2 : \n",
    "\n",
    "        while cout_equipe1 < cout_equipe2 : \n",
    "\n",
    "            for k in range(15) :\n",
    "\n",
    "                sma_env.step2()\n",
    "                \n",
    "                if k%10 == 0 :\n",
    "                    sma_env.optimazers['equipe2'][1].execute()\n",
    "\n",
    "                k = k + 1\n",
    "\n",
    "            cout_equipe2 = sma_env.resultats['equipe2']\n",
    "\n",
    "            \n",
    "\n",
    "\n",
    "    if cout_equipe1 > cout_equipe2 : \n",
    "\n",
    "        while cout_equipe1 > cout_equipe2 :\n",
    "            \n",
    "            for k in range(10) :\n",
    "\n",
    "                sma_env.optimazers['equipe1'][1].execute()\n",
    "\n",
    "                k = k + 1\n",
    "\n",
    "            cout_equipe1 = sma_env.resultats['equipe1']\n",
    "\n",
    "\n",
    "    \n",
    "\n",
    "            "
   ]
  },
  {
   "cell_type": "code",
   "execution_count": null,
   "metadata": {},
   "outputs": [],
   "source": []
  },
  {
   "cell_type": "code",
   "execution_count": null,
   "metadata": {},
   "outputs": [],
   "source": []
  }
 ],
 "metadata": {
  "kernelspec": {
   "display_name": "Python 3",
   "language": "python",
   "name": "python3"
  },
  "language_info": {
   "codemirror_mode": {
    "name": "ipython",
    "version": 3
   },
   "file_extension": ".py",
   "mimetype": "text/x-python",
   "name": "python",
   "nbconvert_exporter": "python",
   "pygments_lexer": "ipython3",
   "version": "3.10.9"
  },
  "orig_nbformat": 4
 },
 "nbformat": 4,
 "nbformat_minor": 2
}
