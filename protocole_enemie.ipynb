{
 "cells": [
  {
   "cell_type": "code",
   "execution_count": 1,
   "metadata": {},
   "outputs": [],
   "source": [
    "import os.path\n",
    "import sys\n",
    "\n",
    "import os\n",
    "\n",
    "# Récupère le chemin d'accès parent de sys.path[0]\n",
    "parent_dir = os.path.dirname(sys.path[0])\n",
    "\n",
    "sys.path.append(os.path.abspath(parent_dir))\n",
    "import importlib\n",
    "import algorithmes\n",
    "importlib.reload(algorithmes)\n",
    "from algorithmes import *\n",
    "import random\n",
    "import mesa"
   ]
  },
  {
   "attachments": {},
   "cell_type": "markdown",
   "metadata": {},
   "source": [
    "## L'implimentation d'un systeme multi agent qui suit le Protocole Ennemie"
   ]
  },
  {
   "attachments": {},
   "cell_type": "markdown",
   "metadata": {},
   "source": [
    "## Création des Agents"
   ]
  },
  {
   "cell_type": "code",
   "execution_count": 143,
   "metadata": {},
   "outputs": [],
   "source": [
    "class Recuit_sem(mesa.Agent):\n",
    "    \n",
    "    # Création d'agent Recuit simulé \n",
    "\n",
    "\n",
    "    def __init__(self, model,parameters,pool_key):\n",
    "        \n",
    "        super().__init__(self,model)\n",
    "        self.parameters = parameters\n",
    "        self.pool_key = pool_key # le pool qui va etre amélioré par l'algorithme\n",
    "        \n",
    "\n",
    "    def execute(self):\n",
    "\n",
    "        # Tirer une solution aléatoire du Pool et la remplacer par une solution améliorer par Recuit simulé\n",
    "        solution_index = np.random.randint(len(self.model.Pool[self.pool_key]))\n",
    "        new_solution, meilleure_valeur , _  = recuit_simule(self.model.Pool[self.pool_key][solution_index],self.parameters['temperature_initiale'] , self.parameters['temperature_finale'],alpha=0.99)\n",
    "        self.model.Pool[self.pool_key][solution_index] = new_solution\n",
    "        \n",
    "            \n",
    "    def step(self):\n",
    "        \n",
    "        self.execute()"
   ]
  },
  {
   "cell_type": "code",
   "execution_count": 144,
   "metadata": {},
   "outputs": [],
   "source": [
    "class Tabou(mesa.Agent):\n",
    "    \n",
    "    # Création d'agent Tabou \n",
    "\n",
    "    def __init__(self,  model,parameters,pool_key):\n",
    "        super().__init__(self,model)\n",
    "      \n",
    "        self.parameters = parameters\n",
    "        self.pool_key = pool_key # le pool qui va etre amélioré par l'algorithme\n",
    "\n",
    "    def execute(self):\n",
    "\n",
    "        # Tirer une solution aléatoire du Pool et la remplacer par une solution améliorer par Tabou\n",
    "        solution_index = np.random.randint(len(self.model.Pool[self.pool_key]))\n",
    "        new_solution, meilleure_valeur , _ = tabou(self.model.Pool[self.pool_key][solution_index] ,self.parameters['taille_tabou'],self.parameters['max_iterations'],self.parameters['n_voisin'])\n",
    "        self.model.Pool[self.pool_key][solution_index] = new_solution\n",
    "\n",
    "            \n",
    "    def step(self):\n",
    "        self.execute()"
   ]
  },
  {
   "cell_type": "code",
   "execution_count": 145,
   "metadata": {},
   "outputs": [],
   "source": [
    "class Genetic(mesa.Agent):\n",
    "    \n",
    "    # Création d'agent genetique \n",
    "\n",
    "    def __init__(self,  model,parameters,pool_key):\n",
    "\n",
    "        super().__init__(self,model)\n",
    "        self.parameters = parameters\n",
    "        self.pool_key = pool_key\n",
    "\n",
    "    def execute(self):\n",
    "\n",
    "        # Prendre le Pool comme une population initial et la remplacer par une population améliorer par l'algo genetique\n",
    "        new_solution, meilleure_valeur , _ ,population = genetique(self.model.Pool[self.pool_key],self.parameters['taux_mutation'],self.parameters['max_iterations'])\n",
    "        self.model.Pool[self.pool_key] = copy.deepcopy(population)\n",
    "        \n",
    "            \n",
    "    def step(self):\n",
    "        self.execute()"
   ]
  },
  {
   "cell_type": "code",
   "execution_count": 146,
   "metadata": {},
   "outputs": [],
   "source": [
    "def compute_Pool_avg(model):\n",
    "\n",
    "    # Calculer le cout moyenne des solutions dans le Pool\n",
    "    couts = [cout(get_route_version2(model.Pool[i], time_window, Q)) for i in range(len(model.Pool))]\n",
    "    \n",
    "    return sum(couts)/len(couts)\n",
    "\n",
    "def compute_Pool_min(model):\n",
    "    \n",
    "    # Calculer le cout minimum des solution dans le Pool\n",
    "    couts = [cout(get_route_version2(model.Pool[i], time_window, Q)) for i in range(len(model.Pool))]\n",
    "\n",
    "    return min(couts)\n",
    "\n",
    "def get_the_best_solution(model,key_pool):\n",
    "\n",
    "    # Récupérer la meilleur solution dans le Pool\n",
    "    couts = np.array([cout(get_route_version2(model.Pool[key_pool][i], time_window, Q)) for i in range(len(model.Pool[key_pool]))])\n",
    "\n",
    "    return model.Pool[key_pool][np.argmin(couts)]"
   ]
  },
  {
   "cell_type": "code",
   "execution_count": 147,
   "metadata": {},
   "outputs": [],
   "source": [
    "def compute_cout_pool1(model):\n",
    "    \n",
    "    # Calculer le cout moyenne des solutions dans le Pool\n",
    "    couts = [cout(get_route_version2(model.Pool['pool1'][i], time_window, Q)) for i in range(len(model.Pool['pool1']))]\n",
    "\n",
    "    return min(couts)\n",
    "\n",
    "\n",
    "def compute_cout_pool2(model):\n",
    "    \n",
    "    # Calculer le cout moyenne des solutions dans le Pool\n",
    "    couts = [cout(get_route_version2(model.Pool['pool2'][i], time_window, Q)) for i in range(len(model.Pool['pool2']))]\n",
    "\n",
    "    return min(couts)"
   ]
  },
  {
   "cell_type": "code",
   "execution_count": 148,
   "metadata": {},
   "outputs": [],
   "source": [
    "def compute_1(model):\n",
    "    \n",
    "    # Calculer le cout moyenne des solutions dans le Pool\n",
    "    return model.resultats['equipe1']\n",
    "\n",
    "\n",
    "def compute_2(model):\n",
    "    \n",
    "    # Calculer le cout moyenne des solutions dans le Pool\n",
    "\n",
    "    return model.resultats['equipe2']"
   ]
  },
  {
   "cell_type": "code",
   "execution_count": 259,
   "metadata": {},
   "outputs": [],
   "source": [
    "## Les paramètres des Algorithmes \n",
    "num_clients = 10\n",
    "parameters = {'rs' : {'temperature_initiale' : 1  , 'temperature_finale' : 1e-5 } , 'tabou' : {'taille_tabou' : nombre_client , 'max_iterations' : 1000 , 'n_voisin' : 2} , 'genetic'  : {'taux_mutation' : 0.2 ,'max_iterations' : 150 }}"
   ]
  },
  {
   "cell_type": "code",
   "execution_count": 242,
   "metadata": {},
   "outputs": [],
   "source": [
    "class SMA_ENNEMIE(mesa.Model):\n",
    "    \n",
    "    \"\"\"Création d'environnement de communication entre les agents\"\"\"\n",
    "\n",
    "\n",
    "    def __init__(self,Pool,parameters):\n",
    "        \n",
    "        self.schedule1 = mesa.time.RandomActivation(self)\n",
    "        self.schedule2 = mesa.time.RandomActivation(self)\n",
    "        self.Pool = Pool\n",
    "        self.resultats = {}\n",
    "\n",
    "        # Instanciation des agents \n",
    "        self.optimazers = {'equipe1' : [Recuit_sem(self,parameters['rs'],'pool1'), Genetic(self,parameters['genetic'],'pool1'),Tabou(self,parameters['tabou'],'pool1')], 'equipe2' : [Tabou(self,parameters['tabou'],'pool2'), Genetic(self,parameters['genetic'],'pool2'),Recuit_sem(self,parameters['rs'],'pool2')] }\n",
    "        self.schedule1.add(self.optimazers['equipe1'][0])\n",
    "        #self.schedule1.add(self.optimazers['equipe1'][2])\n",
    "        self.schedule2.add(self.optimazers['equipe2'][0])\n",
    "        #self.schedule2.add(self.optimazers['equipe2'][2])\n",
    "\n",
    "        ## Récuperer à chaque step la meilleur solution dans le Pool et son cout\n",
    "        self.datacollector = mesa.DataCollector(\n",
    "            model_reporters={\"pool_1\": compute_cout_pool1 , \"pool_2\": compute_cout_pool2 } )\n",
    "        \n",
    "        \n",
    "        \n",
    "        \n",
    "\n",
    "    def step1(self):\n",
    "        \n",
    "        self.schedule1.step()\n",
    "        self.resultats['equipe1'] = compute_cout_pool1(self)\n",
    "        self.datacollector.collect(self)\n",
    "\n",
    "    def step2(self):\n",
    "\n",
    "        self.schedule2.step()\n",
    "        self.resultats['equipe2'] = compute_cout_pool2(self)\n",
    "        self.datacollector.collect(self)\n"
   ]
  },
  {
   "cell_type": "code",
   "execution_count": 260,
   "metadata": {},
   "outputs": [],
   "source": [
    "## Création du Pool\n",
    "POOL = {}\n",
    "Pool = []\n",
    "list_client_initial = [i for i in range(num_clients)]\n",
    "for j in range(6): \n",
    "    x  = copy.deepcopy(list_client_initial)\n",
    "    random.shuffle(x)\n",
    "    Pool.append(x)\n",
    "    POOL['pool1'] = Pool\n",
    "    \n",
    "Pool = []\n",
    "for j in range(6): \n",
    "    x  = copy.deepcopy(list_client_initial)\n",
    "    random.shuffle(x)\n",
    "    Pool.append(x)\n",
    "    POOL['pool2'] = Pool"
   ]
  },
  {
   "cell_type": "code",
   "execution_count": 261,
   "metadata": {},
   "outputs": [],
   "source": [
    "sma_env = SMA_ENNEMIE(POOL,parameters)"
   ]
  },
  {
   "attachments": {},
   "cell_type": "markdown",
   "metadata": {},
   "source": [
    "### Exécution du Système multu agent ennemie & Résultats"
   ]
  },
  {
   "cell_type": "code",
   "execution_count": 262,
   "metadata": {},
   "outputs": [],
   "source": [
    "# initiation\n",
    "\n",
    "sma_env = SMA_ENNEMIE(POOL,parameters)\n",
    "\n",
    "for i in range(10) : \n",
    "\n",
    "    sma_env.step1()\n",
    "    sma_env.step2()\n",
    "\n",
    "    if i%10 == 0 :\n",
    "\n",
    "        sma_env.optimazers['equipe1'][1].execute()\n",
    "        sma_env.optimazers['equipe2'][1].execute()\n",
    "    \n",
    "\n",
    "cout_equipe1 = sma_env.resultats['equipe1']\n",
    "cout_equipe2 = sma_env.resultats['equipe2']"
   ]
  },
  {
   "cell_type": "code",
   "execution_count": 263,
   "metadata": {},
   "outputs": [
    {
     "data": {
      "text/plain": [
       "(300.04404778499793, 308.2814868150637)"
      ]
     },
     "execution_count": 263,
     "metadata": {},
     "output_type": "execute_result"
    }
   ],
   "source": [
    "cout_equipe1 , cout_equipe2 "
   ]
  },
  {
   "cell_type": "code",
   "execution_count": 264,
   "metadata": {},
   "outputs": [
    {
     "name": "stdout",
     "output_type": "stream",
     "text": [
      "switch2\n",
      "switch1\n",
      "switch2\n",
      "switch2\n",
      "switch1\n",
      "switch1\n",
      "switch1\n",
      "switch1\n",
      "switch1\n",
      "switch1\n",
      "switch1\n",
      "switch1\n",
      "switch1\n",
      "switch1\n",
      "switch1\n",
      "switch1\n",
      "switch1\n",
      "switch1\n",
      "switch1\n",
      "switch1\n",
      "switch1\n",
      "switch1\n",
      "switch1\n",
      "switch1\n",
      "switch1\n",
      "switch1\n",
      "switch1\n",
      "switch1\n",
      "switch1\n",
      "switch1\n",
      "switch1\n",
      "switch1\n",
      "switch1\n",
      "switch1\n",
      "switch1\n",
      "switch1\n",
      "switch1\n",
      "switch1\n",
      "switch1\n",
      "switch1\n",
      "switch1\n"
     ]
    },
    {
     "ename": "KeyboardInterrupt",
     "evalue": "",
     "output_type": "error",
     "traceback": [
      "\u001b[1;31m---------------------------------------------------------------------------\u001b[0m",
      "\u001b[1;31mKeyboardInterrupt\u001b[0m                         Traceback (most recent call last)",
      "Cell \u001b[1;32mIn[264], line 25\u001b[0m\n\u001b[0;32m     22\u001b[0m \u001b[39mprint\u001b[39m(\u001b[39m'\u001b[39m\u001b[39mswitch1\u001b[39m\u001b[39m'\u001b[39m)\n\u001b[0;32m     23\u001b[0m \u001b[39mfor\u001b[39;00m k \u001b[39min\u001b[39;00m \u001b[39mrange\u001b[39m(\u001b[39m100\u001b[39m) :\n\u001b[1;32m---> 25\u001b[0m     sma_env\u001b[39m.\u001b[39;49mstep1()\n\u001b[0;32m     26\u001b[0m     sma_env\u001b[39m.\u001b[39mdatacollector\u001b[39m.\u001b[39mcollect(sma_env)\n\u001b[0;32m     28\u001b[0m     \u001b[39mif\u001b[39;00m k\u001b[39m%\u001b[39m\u001b[39m10\u001b[39m \u001b[39m==\u001b[39m \u001b[39m0\u001b[39m :\n",
      "Cell \u001b[1;32mIn[242], line 30\u001b[0m, in \u001b[0;36mSMA_ENNEMIE.step1\u001b[1;34m(self)\u001b[0m\n\u001b[0;32m     28\u001b[0m \u001b[39mdef\u001b[39;00m \u001b[39mstep1\u001b[39m(\u001b[39mself\u001b[39m):\n\u001b[1;32m---> 30\u001b[0m     \u001b[39mself\u001b[39;49m\u001b[39m.\u001b[39;49mschedule1\u001b[39m.\u001b[39;49mstep()\n\u001b[0;32m     31\u001b[0m     \u001b[39mself\u001b[39m\u001b[39m.\u001b[39mresultats[\u001b[39m'\u001b[39m\u001b[39mequipe1\u001b[39m\u001b[39m'\u001b[39m] \u001b[39m=\u001b[39m compute_cout_pool1(\u001b[39mself\u001b[39m)\n\u001b[0;32m     32\u001b[0m     \u001b[39mself\u001b[39m\u001b[39m.\u001b[39mdatacollector\u001b[39m.\u001b[39mcollect(\u001b[39mself\u001b[39m)\n",
      "File \u001b[1;32mc:\\Users\\moham\\anaconda3\\envs\\pythonProject2\\lib\\site-packages\\mesa\\time.py:125\u001b[0m, in \u001b[0;36mRandomActivation.step\u001b[1;34m(self)\u001b[0m\n\u001b[0;32m    120\u001b[0m \u001b[39m\u001b[39m\u001b[39m\"\"\"Executes the step of all agents, one at a time, in\u001b[39;00m\n\u001b[0;32m    121\u001b[0m \u001b[39mrandom order.\u001b[39;00m\n\u001b[0;32m    122\u001b[0m \n\u001b[0;32m    123\u001b[0m \u001b[39m\"\"\"\u001b[39;00m\n\u001b[0;32m    124\u001b[0m \u001b[39mfor\u001b[39;00m agent \u001b[39min\u001b[39;00m \u001b[39mself\u001b[39m\u001b[39m.\u001b[39magent_buffer(shuffled\u001b[39m=\u001b[39m\u001b[39mTrue\u001b[39;00m):\n\u001b[1;32m--> 125\u001b[0m     agent\u001b[39m.\u001b[39;49mstep()\n\u001b[0;32m    126\u001b[0m \u001b[39mself\u001b[39m\u001b[39m.\u001b[39msteps \u001b[39m+\u001b[39m\u001b[39m=\u001b[39m \u001b[39m1\u001b[39m\n\u001b[0;32m    127\u001b[0m \u001b[39mself\u001b[39m\u001b[39m.\u001b[39mtime \u001b[39m+\u001b[39m\u001b[39m=\u001b[39m \u001b[39m1\u001b[39m\n",
      "Cell \u001b[1;32mIn[143], line 23\u001b[0m, in \u001b[0;36mRecuit_sem.step\u001b[1;34m(self)\u001b[0m\n\u001b[0;32m     21\u001b[0m \u001b[39mdef\u001b[39;00m \u001b[39mstep\u001b[39m(\u001b[39mself\u001b[39m):\n\u001b[1;32m---> 23\u001b[0m     \u001b[39mself\u001b[39;49m\u001b[39m.\u001b[39;49mexecute()\n",
      "Cell \u001b[1;32mIn[143], line 17\u001b[0m, in \u001b[0;36mRecuit_sem.execute\u001b[1;34m(self)\u001b[0m\n\u001b[0;32m     13\u001b[0m \u001b[39mdef\u001b[39;00m \u001b[39mexecute\u001b[39m(\u001b[39mself\u001b[39m):\n\u001b[0;32m     14\u001b[0m \n\u001b[0;32m     15\u001b[0m     \u001b[39m# Tirer une solution aléatoire du Pool et la remplacer par une solution améliorer par Recuit simulé\u001b[39;00m\n\u001b[0;32m     16\u001b[0m     solution_index \u001b[39m=\u001b[39m np\u001b[39m.\u001b[39mrandom\u001b[39m.\u001b[39mrandint(\u001b[39mlen\u001b[39m(\u001b[39mself\u001b[39m\u001b[39m.\u001b[39mmodel\u001b[39m.\u001b[39mPool[\u001b[39mself\u001b[39m\u001b[39m.\u001b[39mpool_key]))\n\u001b[1;32m---> 17\u001b[0m     new_solution, meilleure_valeur , _  \u001b[39m=\u001b[39m recuit_simule(\u001b[39mself\u001b[39;49m\u001b[39m.\u001b[39;49mmodel\u001b[39m.\u001b[39;49mPool[\u001b[39mself\u001b[39;49m\u001b[39m.\u001b[39;49mpool_key][solution_index],\u001b[39mself\u001b[39;49m\u001b[39m.\u001b[39;49mparameters[\u001b[39m'\u001b[39;49m\u001b[39mtemperature_initiale\u001b[39;49m\u001b[39m'\u001b[39;49m] , \u001b[39mself\u001b[39;49m\u001b[39m.\u001b[39;49mparameters[\u001b[39m'\u001b[39;49m\u001b[39mtemperature_finale\u001b[39;49m\u001b[39m'\u001b[39;49m],alpha\u001b[39m=\u001b[39;49m\u001b[39m0.99\u001b[39;49m)\n\u001b[0;32m     18\u001b[0m     \u001b[39mself\u001b[39m\u001b[39m.\u001b[39mmodel\u001b[39m.\u001b[39mPool[\u001b[39mself\u001b[39m\u001b[39m.\u001b[39mpool_key][solution_index] \u001b[39m=\u001b[39m new_solution\n",
      "File \u001b[1;32mc:\\Users\\moham\\desktop\\ICO_Project\\algorithmes.py:250\u001b[0m, in \u001b[0;36mrecuit_simule\u001b[1;34m(initial_state, temperature_initiale, temperature_finale, alpha)\u001b[0m\n\u001b[0;32m    247\u001b[0m \u001b[39mwhile\u001b[39;00m temperature \u001b[39m>\u001b[39m temperature_finale:\n\u001b[0;32m    248\u001b[0m     \u001b[39m# Générer une nouvelle solution voisine\u001b[39;00m\n\u001b[0;32m    249\u001b[0m     new_state \u001b[39m=\u001b[39m  Voisinnage(current_state\u001b[39m.\u001b[39mcopy())\n\u001b[1;32m--> 250\u001b[0m     new_energy \u001b[39m=\u001b[39m cout(get_route_version2(new_state,time_window,Q))\n\u001b[0;32m    251\u001b[0m     delta_energy \u001b[39m=\u001b[39m new_energy \u001b[39m-\u001b[39m current_energy\n\u001b[0;32m    252\u001b[0m     \u001b[39mif\u001b[39;00m i\u001b[39m==\u001b[39m\u001b[39m0\u001b[39m:\n\u001b[0;32m    253\u001b[0m         \u001b[39m# Calculer le paramètre beta pour la loi de Boltzmann\u001b[39;00m\n\u001b[0;32m    254\u001b[0m         \u001b[39m#beta = abs(- delta_energy / (temperature * math.log(0.66)))+1\u001b[39;00m\n",
      "File \u001b[1;32mc:\\Users\\moham\\desktop\\ICO_Project\\algorithmes.py:208\u001b[0m, in \u001b[0;36mget_route_version2\u001b[1;34m(list_client, time_window, Q)\u001b[0m\n\u001b[0;32m    206\u001b[0m \u001b[39mwhile\u001b[39;00m time \u001b[39m<\u001b[39m time_window \u001b[39mand\u001b[39;00m weight \u001b[39m<\u001b[39m Q:\n\u001b[0;32m    207\u001b[0m     i \u001b[39m+\u001b[39m\u001b[39m=\u001b[39m \u001b[39m1\u001b[39m\n\u001b[1;32m--> 208\u001b[0m     \u001b[39mif\u001b[39;00m i \u001b[39m>\u001b[39m \u001b[39mlen\u001b[39;49m(list_client)\u001b[39m-\u001b[39m\u001b[39m1\u001b[39m:\n\u001b[0;32m    209\u001b[0m         \u001b[39mbreak\u001b[39;00m\n\u001b[0;32m    210\u001b[0m     \u001b[39m# Update time and weight\u001b[39;00m\n",
      "\u001b[1;31mKeyboardInterrupt\u001b[0m: "
     ]
    }
   ],
   "source": [
    "for i in range(500):\n",
    "\n",
    "    if cout_equipe1 < cout_equipe2 : \n",
    "            print('switch2')\n",
    "            for k in range(100) :\n",
    "\n",
    "                sma_env.step2()\n",
    "                sma_env.datacollector.collect(sma_env)\n",
    "                \n",
    "                if k%10 == 0 :\n",
    "                    sma_env.optimazers['equipe2'][1].execute()\n",
    "                    sma_env.datacollector.collect(sma_env)\n",
    "                    \n",
    "                cout_equipe2 = sma_env.resultats['equipe2']\n",
    "\n",
    "                if cout_equipe1>cout_equipe2 : \n",
    "                    break\n",
    "\n",
    "\n",
    "    if cout_equipe1 >=cout_equipe2 : \n",
    "            \n",
    "            print('switch1')\n",
    "            for k in range(100) :\n",
    "\n",
    "                sma_env.step1()\n",
    "                sma_env.datacollector.collect(sma_env)\n",
    "                \n",
    "                if k%10 == 0 :\n",
    "                    sma_env.optimazers['equipe1'][1].execute()\n",
    "                    sma_env.datacollector.collect(sma_env)\n",
    "                    \n",
    "                cout_equipe1 = sma_env.resultats['equipe1']\n",
    "\n",
    "                if cout_equipe1<cout_equipe2 : \n",
    "                    break\n",
    "\n",
    "\n",
    "    \n",
    "\n",
    "            "
   ]
  },
  {
   "cell_type": "code",
   "execution_count": 265,
   "metadata": {},
   "outputs": [],
   "source": [
    "def get_solution_from_sma(sma_env):\n",
    "\n",
    "    if sma_env.resultats['equipe1'] > sma_env.resultats['equipe2'] : \n",
    "\n",
    "         return get_the_best_solution(sma_env,'pool2')\n",
    "\n",
    "    return get_the_best_solution(sma_env,'pool1')"
   ]
  },
  {
   "cell_type": "code",
   "execution_count": 266,
   "metadata": {},
   "outputs": [
    {
     "data": {
      "text/plain": [
       "<AxesSubplot: title={'center': 'Résultats protocole Ennemie'}>"
      ]
     },
     "execution_count": 266,
     "metadata": {},
     "output_type": "execute_result"
    },
    {
     "data": {
      "image/png": "[encoded data removed]",
      "text/plain": [
       "<Figure size 640x480 with 1 Axes>"
      ]
     },
     "metadata": {},
     "output_type": "display_data"
    }
   ],
   "source": [
    "sma_env.datacollector.get_model_vars_dataframe().plot(title='Résultats protocole Ennemie')\n",
    "#plt.savefig('Protocole_ennemie2')"
   ]
  },
  {
   "cell_type": "code",
   "execution_count": 267,
   "metadata": {},
   "outputs": [
    {
     "name": "stdout",
     "output_type": "stream",
     "text": [
      "The best solution is : [[5, 0, 4, 3, 8, 9, 1, 6, 2, 7]]\n",
      "With the cost : 297.53873953516387\n",
      "The number of vehicle : 1\n"
     ]
    }
   ],
   "source": [
    "print('The best solution is :' ,get_route_version2(get_solution_from_sma(sma_env),time_window,Q))\n",
    "print('With the cost :' , cout(get_route_version2(get_solution_from_sma(sma_env),time_window,Q)))\n",
    "print('The number of vehicle :' ,len(get_route_version2(get_solution_from_sma(sma_env),time_window,Q)))"
   ]
  },
  {
   "cell_type": "code",
   "execution_count": 268,
   "metadata": {},
   "outputs": [
    {
     "name": "stdout",
     "output_type": "stream",
     "text": [
      "The best solution is : [[5, 0, 4, 3, 8, 9, 1, 6, 2, 7]]\n",
      "With the cost : 297.53873953516387\n",
      "The number of vehicle : 1\n"
     ]
    }
   ],
   "source": [
    "print('The best solution is :' ,get_route_version2(get_solution_from_sma(sma_env),time_window,Q))\n",
    "print('With the cost :' , cout(get_route_version2(get_solution_from_sma(sma_env),time_window,Q)))\n",
    "print('The number of vehicle :' ,len(get_route_version2(get_solution_from_sma(sma_env),time_window,Q)))"
   ]
  },
  {
   "cell_type": "code",
   "execution_count": 269,
   "metadata": {},
   "outputs": [],
   "source": [
    "import folium\n",
    "\n",
    "def tracer_segments_folium(L,color,m):\n",
    "    # Créer une carte centrée sur le premier point de la liste\n",
    "\n",
    "    # Ajouter des marqueurs pour chaque point de la liste\n",
    "    for c in L:\n",
    "\n",
    "        folium.Marker(location=c).add_to(m)\n",
    "\n",
    "    # Ajouter une Polyline reliant les marqueurs\n",
    "    folium.PolyLine(locations=L, color=color).add_to(m)\n",
    "\n",
    "    # Afficher la carte\n",
    "    \n"
   ]
  },
  {
   "cell_type": "code",
   "execution_count": 270,
   "metadata": {},
   "outputs": [
    {
     "data": {
      "text/html": [
       "<div>\n",
       "<style scoped>\n",
       "    .dataframe tbody tr th:only-of-type {\n",
       "        vertical-align: middle;\n",
       "    }\n",
       "\n",
       "    .dataframe tbody tr th {\n",
       "        vertical-align: top;\n",
       "    }\n",
       "\n",
       "    .dataframe thead th {\n",
       "        text-align: right;\n",
       "    }\n",
       "</style>\n",
       "<table border=\"1\" class=\"dataframe\">\n",
       "  <thead>\n",
       "    <tr style=\"text-align: right;\">\n",
       "      <th></th>\n",
       "      <th>Unnamed: 0</th>\n",
       "      <th>CUSTOMER_LATITUDE</th>\n",
       "      <th>CUSTOMER_LONGITUDE</th>\n",
       "      <th>CUSTOMER_TIME_WINDOW_FROM_MIN</th>\n",
       "      <th>CUSTOMER_TIME_WINDOW_TO_MIN</th>\n",
       "      <th>CUSTOMER_DELIVERY_SERVICE_TIME_MIN</th>\n",
       "      <th>TOTAL_WEIGHT_KG</th>\n",
       "      <th>a</th>\n",
       "      <th>b</th>\n",
       "      <th>d</th>\n",
       "    </tr>\n",
       "  </thead>\n",
       "  <tbody>\n",
       "    <tr>\n",
       "      <th>0</th>\n",
       "      <td>1</td>\n",
       "      <td>44.056710</td>\n",
       "      <td>17.449280</td>\n",
       "      <td>481.0</td>\n",
       "      <td>961.0</td>\n",
       "      <td>8.05</td>\n",
       "      <td>3.372000</td>\n",
       "      <td>481.0</td>\n",
       "      <td>961.0</td>\n",
       "      <td>8.05</td>\n",
       "    </tr>\n",
       "    <tr>\n",
       "      <th>1</th>\n",
       "      <td>2</td>\n",
       "      <td>43.111171</td>\n",
       "      <td>17.699285</td>\n",
       "      <td>481.0</td>\n",
       "      <td>961.0</td>\n",
       "      <td>21.57</td>\n",
       "      <td>172.633000</td>\n",
       "      <td>481.0</td>\n",
       "      <td>961.0</td>\n",
       "      <td>21.57</td>\n",
       "    </tr>\n",
       "    <tr>\n",
       "      <th>2</th>\n",
       "      <td>3</td>\n",
       "      <td>44.055470</td>\n",
       "      <td>17.451640</td>\n",
       "      <td>481.0</td>\n",
       "      <td>961.0</td>\n",
       "      <td>10.60</td>\n",
       "      <td>44.662000</td>\n",
       "      <td>481.0</td>\n",
       "      <td>961.0</td>\n",
       "      <td>10.60</td>\n",
       "    </tr>\n",
       "    <tr>\n",
       "      <th>3</th>\n",
       "      <td>4</td>\n",
       "      <td>44.055287</td>\n",
       "      <td>17.449447</td>\n",
       "      <td>480.0</td>\n",
       "      <td>840.0</td>\n",
       "      <td>14.79</td>\n",
       "      <td>62.259000</td>\n",
       "      <td>480.0</td>\n",
       "      <td>840.0</td>\n",
       "      <td>14.79</td>\n",
       "    </tr>\n",
       "    <tr>\n",
       "      <th>4</th>\n",
       "      <td>5</td>\n",
       "      <td>43.187700</td>\n",
       "      <td>17.543780</td>\n",
       "      <td>480.0</td>\n",
       "      <td>840.0</td>\n",
       "      <td>35.00</td>\n",
       "      <td>179.824000</td>\n",
       "      <td>480.0</td>\n",
       "      <td>840.0</td>\n",
       "      <td>35.00</td>\n",
       "    </tr>\n",
       "    <tr>\n",
       "      <th>...</th>\n",
       "      <td>...</td>\n",
       "      <td>...</td>\n",
       "      <td>...</td>\n",
       "      <td>...</td>\n",
       "      <td>...</td>\n",
       "      <td>...</td>\n",
       "      <td>...</td>\n",
       "      <td>...</td>\n",
       "      <td>...</td>\n",
       "      <td>...</td>\n",
       "    </tr>\n",
       "    <tr>\n",
       "      <th>568</th>\n",
       "      <td>569</td>\n",
       "      <td>44.073827</td>\n",
       "      <td>17.448408</td>\n",
       "      <td>481.0</td>\n",
       "      <td>961.0</td>\n",
       "      <td>14.00</td>\n",
       "      <td>56.385000</td>\n",
       "      <td>481.0</td>\n",
       "      <td>961.0</td>\n",
       "      <td>14.00</td>\n",
       "    </tr>\n",
       "    <tr>\n",
       "      <th>569</th>\n",
       "      <td>570</td>\n",
       "      <td>43.191631</td>\n",
       "      <td>17.677887</td>\n",
       "      <td>481.0</td>\n",
       "      <td>961.0</td>\n",
       "      <td>12.44</td>\n",
       "      <td>13.192389</td>\n",
       "      <td>481.0</td>\n",
       "      <td>961.0</td>\n",
       "      <td>12.44</td>\n",
       "    </tr>\n",
       "    <tr>\n",
       "      <th>570</th>\n",
       "      <td>571</td>\n",
       "      <td>43.542270</td>\n",
       "      <td>17.404194</td>\n",
       "      <td>481.0</td>\n",
       "      <td>961.0</td>\n",
       "      <td>8.87</td>\n",
       "      <td>5.332026</td>\n",
       "      <td>481.0</td>\n",
       "      <td>961.0</td>\n",
       "      <td>8.87</td>\n",
       "    </tr>\n",
       "    <tr>\n",
       "      <th>571</th>\n",
       "      <td>572</td>\n",
       "      <td>43.355200</td>\n",
       "      <td>17.813670</td>\n",
       "      <td>480.0</td>\n",
       "      <td>900.0</td>\n",
       "      <td>9.35</td>\n",
       "      <td>36.879000</td>\n",
       "      <td>480.0</td>\n",
       "      <td>900.0</td>\n",
       "      <td>9.35</td>\n",
       "    </tr>\n",
       "    <tr>\n",
       "      <th>572</th>\n",
       "      <td>573</td>\n",
       "      <td>42.871570</td>\n",
       "      <td>18.432230</td>\n",
       "      <td>481.0</td>\n",
       "      <td>961.0</td>\n",
       "      <td>9.84</td>\n",
       "      <td>75.810000</td>\n",
       "      <td>481.0</td>\n",
       "      <td>961.0</td>\n",
       "      <td>9.84</td>\n",
       "    </tr>\n",
       "  </tbody>\n",
       "</table>\n",
       "<p>573 rows × 10 columns</p>\n",
       "</div>"
      ],
      "text/plain": [
       "     Unnamed: 0  CUSTOMER_LATITUDE  CUSTOMER_LONGITUDE  \\\n",
       "0             1          44.056710           17.449280   \n",
       "1             2          43.111171           17.699285   \n",
       "2             3          44.055470           17.451640   \n",
       "3             4          44.055287           17.449447   \n",
       "4             5          43.187700           17.543780   \n",
       "..          ...                ...                 ...   \n",
       "568         569          44.073827           17.448408   \n",
       "569         570          43.191631           17.677887   \n",
       "570         571          43.542270           17.404194   \n",
       "571         572          43.355200           17.813670   \n",
       "572         573          42.871570           18.432230   \n",
       "\n",
       "     CUSTOMER_TIME_WINDOW_FROM_MIN  CUSTOMER_TIME_WINDOW_TO_MIN  \\\n",
       "0                            481.0                        961.0   \n",
       "1                            481.0                        961.0   \n",
       "2                            481.0                        961.0   \n",
       "3                            480.0                        840.0   \n",
       "4                            480.0                        840.0   \n",
       "..                             ...                          ...   \n",
       "568                          481.0                        961.0   \n",
       "569                          481.0                        961.0   \n",
       "570                          481.0                        961.0   \n",
       "571                          480.0                        900.0   \n",
       "572                          481.0                        961.0   \n",
       "\n",
       "     CUSTOMER_DELIVERY_SERVICE_TIME_MIN  TOTAL_WEIGHT_KG      a      b      d  \n",
       "0                                  8.05         3.372000  481.0  961.0   8.05  \n",
       "1                                 21.57       172.633000  481.0  961.0  21.57  \n",
       "2                                 10.60        44.662000  481.0  961.0  10.60  \n",
       "3                                 14.79        62.259000  480.0  840.0  14.79  \n",
       "4                                 35.00       179.824000  480.0  840.0  35.00  \n",
       "..                                  ...              ...    ...    ...    ...  \n",
       "568                               14.00        56.385000  481.0  961.0  14.00  \n",
       "569                               12.44        13.192389  481.0  961.0  12.44  \n",
       "570                                8.87         5.332026  481.0  961.0   8.87  \n",
       "571                                9.35        36.879000  480.0  900.0   9.35  \n",
       "572                                9.84        75.810000  481.0  961.0   9.84  \n",
       "\n",
       "[573 rows x 10 columns]"
      ]
     },
     "execution_count": 270,
     "metadata": {},
     "output_type": "execute_result"
    }
   ],
   "source": [
    "data_client_index"
   ]
  },
  {
   "cell_type": "code",
   "execution_count": 271,
   "metadata": {},
   "outputs": [],
   "source": [
    "def plot_solution(solution):\n",
    "\n",
    "    m = folium.Map(location=(0,0), zoom_start=12)\n",
    "    K = len(solution)\n",
    "    k = 0\n",
    "    color = ['red' , 'blue' , 'green']\n",
    "    for vehicule in solution : \n",
    "\n",
    "        L = [(data_client_index['CUSTOMER_LATITUDE'].iloc[k] , data_client_index['CUSTOMER_LONGITUDE'].iloc[k]) for k in range(len(vehicule))]\n",
    "        tracer_segments_folium(L,color[k],m)\n",
    "        k = k + 1\n",
    "    m.save('solution_ploted.html')\n"
   ]
  },
  {
   "cell_type": "code",
   "execution_count": 272,
   "metadata": {},
   "outputs": [],
   "source": [
    "plot_solution(get_route_version2(get_solution_from_sma(sma_env),time_window,Q))"
   ]
  },
  {
   "cell_type": "code",
   "execution_count": 255,
   "metadata": {},
   "outputs": [
    {
     "data": {
      "text/plain": [
       "[[5, 0, 4, 3, 8, 9, 1, 6, 2, 7]]"
      ]
     },
     "execution_count": 255,
     "metadata": {},
     "output_type": "execute_result"
    }
   ],
   "source": [
    "get_route_version2(get_solution_from_sma(sma_env),time_window,Q)"
   ]
  }
 ],
 "metadata": {
  "kernelspec": {
   "display_name": "Python 3",
   "language": "python",
   "name": "python3"
  },
  "language_info": {
   "codemirror_mode": {
    "name": "ipython",
    "version": 3
   },
   "file_extension": ".py",
   "mimetype": "text/x-python",
   "name": "python",
   "nbconvert_exporter": "python",
   "pygments_lexer": "ipython3",
   "version": "3.10.9"
  },
  "orig_nbformat": 4
 },
 "nbformat": 4,
 "nbformat_minor": 2
}
