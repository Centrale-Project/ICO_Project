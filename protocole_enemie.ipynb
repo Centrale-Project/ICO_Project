{
 "cells": [
  {
   "cell_type": "code",
   "execution_count": 121,
   "metadata": {},
   "outputs": [],
   "source": [
    "import os.path\n",
    "import sys\n",
    "\n",
    "import os\n",
    "\n",
    "# Récupère le chemin d'accès parent de sys.path[0]\n",
    "parent_dir = os.path.dirname(sys.path[0])\n",
    "\n",
    "sys.path.append(os.path.abspath(parent_dir))\n",
    "import importlib\n",
    "import algorithmes\n",
    "importlib.reload(algorithmes)\n",
    "from algorithmes import *\n",
    "import random\n",
    "import mesa"
   ]
  },
  {
   "attachments": {},
   "cell_type": "markdown",
   "metadata": {},
   "source": [
    "## L'implimentation d'un systeme multi agent qui suit le Protocole Ennemie"
   ]
  },
  {
   "attachments": {},
   "cell_type": "markdown",
   "metadata": {},
   "source": [
    "## Création des Agents"
   ]
  },
  {
   "cell_type": "code",
   "execution_count": 62,
   "metadata": {},
   "outputs": [],
   "source": [
    "class Recuit_sem(mesa.Agent):\n",
    "    \n",
    "    # Création d'agent Recuit simulé \n",
    "\n",
    "\n",
    "    def __init__(self, model,parameters,pool_key):\n",
    "        \n",
    "        super().__init__(self,model)\n",
    "        self.parameters = parameters\n",
    "        self.pool_key = pool_key # le pool qui va etre amélioré par l'algorithme\n",
    "        \n",
    "\n",
    "    def execute(self):\n",
    "\n",
    "        # Tirer une solution aléatoire du Pool et la remplacer par une solution améliorer par Recuit simulé\n",
    "        solution_index = np.random.randint(len(self.model.Pool[self.pool_key]))\n",
    "        new_solution, meilleure_valeur , _  = recuit_simule(self.model.Pool[self.pool_key][solution_index],self.parameters['temperature_initiale'] , self.parameters['temperature_finale'],alpha=0.99)\n",
    "        self.model.Pool[self.pool_key][solution_index] = new_solution\n",
    "        \n",
    "            \n",
    "    def step(self):\n",
    "        \n",
    "        self.execute()"
   ]
  },
  {
   "cell_type": "code",
   "execution_count": 122,
   "metadata": {},
   "outputs": [],
   "source": [
    "class Tabou(mesa.Agent):\n",
    "    \n",
    "    # Création d'agent Tabou \n",
    "\n",
    "    def __init__(self,  model,parameters,pool_key):\n",
    "        super().__init__(self,model)\n",
    "      \n",
    "        self.parameters = parameters\n",
    "        self.pool_key = pool_key # le pool qui va etre amélioré par l'algorithme\n",
    "\n",
    "    def execute(self):\n",
    "\n",
    "        # Tirer une solution aléatoire du Pool et la remplacer par une solution améliorer par Tabou\n",
    "        solution_index = np.random.randint(len(self.model.Pool[self.pool_key]))\n",
    "        new_solution, meilleure_valeur , _ = tabou(self.model.Pool[self.pool_key][solution_index] ,self.parameters['taille_tabou'],self.parameters['max_iterations'],self.parameters['n_voisin'])\n",
    "        self.model.Pool[self.pool_key][solution_index] = new_solution\n",
    "\n",
    "            \n",
    "    def step(self):\n",
    "        self.execute()"
   ]
  },
  {
   "cell_type": "code",
   "execution_count": 123,
   "metadata": {},
   "outputs": [],
   "source": [
    "class Genetic(mesa.Agent):\n",
    "    \n",
    "    # Création d'agent genetique \n",
    "\n",
    "    def __init__(self,  model,parameters,pool_key):\n",
    "\n",
    "        super().__init__(self,model)\n",
    "        self.parameters = parameters\n",
    "        self.pool_key = pool_key\n",
    "\n",
    "    def execute(self):\n",
    "\n",
    "        # Prendre le Pool comme une population initial et la remplacer par une population améliorer par l'algo genetique\n",
    "        new_solution, meilleure_valeur , _ ,population = genetique(self.model.Pool[self.pool_key],self.parameters['taux_mutation'],self.parameters['max_iterations'])\n",
    "        self.model.Pool[self.pool_key] = copy.deepcopy(population)\n",
    "        \n",
    "            \n",
    "    def step(self):\n",
    "        self.execute()"
   ]
  },
  {
   "cell_type": "code",
   "execution_count": 124,
   "metadata": {},
   "outputs": [],
   "source": [
    "def compute_Pool_avg(model):\n",
    "\n",
    "    # Calculer le cout moyenne des solutions dans le Pool\n",
    "    couts = [cout(get_route_version2(model.Pool[i], time_window, Q)) for i in range(len(model.Pool))]\n",
    "    \n",
    "    return sum(couts)/len(couts)\n",
    "\n",
    "def compute_Pool_min(model):\n",
    "    \n",
    "    # Calculer le cout minimum des solution dans le Pool\n",
    "    couts = [cout(get_route_version2(model.Pool[i], time_window, Q)) for i in range(len(model.Pool))]\n",
    "\n",
    "    return min(couts)\n",
    "\n",
    "def get_the_best_solution(model,key_pool):\n",
    "\n",
    "    # Récupérer la meilleur solution dans le Pool\n",
    "    couts = np.array([cout(get_route_version2(model.Pool[key_pool][i], time_window, Q)) for i in range(len(model.Pool[key_pool]))])\n",
    "\n",
    "    return model.Pool[key_pool][np.argmin(couts)]"
   ]
  },
  {
   "cell_type": "code",
   "execution_count": 125,
   "metadata": {},
   "outputs": [],
   "source": [
    "def compute_cout_pool1(model):\n",
    "    \n",
    "    # Calculer le cout moyenne des solutions dans le Pool\n",
    "    couts = [cout(get_route_version2(model.Pool['pool1'][i], time_window, Q)) for i in range(len(model.Pool['pool1']))]\n",
    "\n",
    "    return min(couts)\n",
    "\n",
    "\n",
    "def compute_cout_pool2(model):\n",
    "    \n",
    "    # Calculer le cout moyenne des solutions dans le Pool\n",
    "    couts = [cout(get_route_version2(model.Pool['pool2'][i], time_window, Q)) for i in range(len(model.Pool['pool2']))]\n",
    "\n",
    "    return min(couts)"
   ]
  },
  {
   "cell_type": "code",
   "execution_count": 126,
   "metadata": {},
   "outputs": [],
   "source": [
    "def compute_1(model):\n",
    "    \n",
    "    # Calculer le cout moyenne des solutions dans le Pool\n",
    "    return model.resultats['equipe1']\n",
    "\n",
    "\n",
    "def compute_2(model):\n",
    "    \n",
    "    # Calculer le cout moyenne des solutions dans le Pool\n",
    "\n",
    "    return model.resultats['equipe2']"
   ]
  },
  {
   "cell_type": "code",
   "execution_count": 128,
   "metadata": {},
   "outputs": [],
   "source": [
    "## Les paramètres des Algorithmes \n",
    "num_clients = 100\n",
    "parameters = {'rs' : {'temperature_initiale' : 1  , 'temperature_finale' : 1e-8 } , 'tabou' : {'taille_tabou' : nombre_client , 'max_iterations' : 100 , 'n_voisin' : 2} , 'genetic'  : {'taux_mutation' : 0.2 ,'max_iterations' : 150 }}"
   ]
  },
  {
   "cell_type": "code",
   "execution_count": 129,
   "metadata": {},
   "outputs": [],
   "source": [
    "class SMA_ENNEMIE(mesa.Model):\n",
    "    \n",
    "    \"\"\"Création d'environnement de communication entre les agents\"\"\"\n",
    "\n",
    "\n",
    "    def __init__(self,Pool,parameters):\n",
    "        \n",
    "        self.schedule1 = mesa.time.RandomActivation(self)\n",
    "        self.schedule2 = mesa.time.RandomActivation(self)\n",
    "        self.Pool = Pool\n",
    "        self.resultats = {}\n",
    "\n",
    "        # Instanciation des agents \n",
    "        self.optimazers = {'equipe1' : [Recuit_sem(self,parameters['rs'],'pool1'), Genetic(self,parameters['genetic'],'pool1'),Tabou(self,parameters['tabou'],'pool1')], 'equipe2' : [Tabou(self,parameters['tabou'],'pool2'), Genetic(self,parameters['genetic'],'pool2'),Recuit_sem(self,parameters['rs'],'pool2')] }\n",
    "        self.schedule1.add(self.optimazers['equipe1'][0])\n",
    "        #self.schedule1.add(self.optimazers['equipe1'][2])\n",
    "        self.schedule2.add(self.optimazers['equipe2'][0])\n",
    "        #self.schedule2.add(self.optimazers['equipe2'][2])\n",
    "\n",
    "        ## Récuperer à chaque step la meilleur solution dans le Pool et son cout\n",
    "        self.datacollector = mesa.DataCollector(\n",
    "            model_reporters={\"pool_1\": compute_cout_pool1 , \"pool_2\": compute_cout_pool2 } )\n",
    "        \n",
    "        \n",
    "        \n",
    "        \n",
    "\n",
    "    def step1(self):\n",
    "        \n",
    "        self.schedule1.step()\n",
    "        self.resultats['equipe1'] = compute_cout_pool1(self)\n",
    "        self.datacollector.collect(self)\n",
    "\n",
    "    def step2(self):\n",
    "\n",
    "        self.schedule2.step()\n",
    "        self.resultats['equipe2'] = compute_cout_pool2(self)\n",
    "        self.datacollector.collect(self)\n"
   ]
  },
  {
   "cell_type": "code",
   "execution_count": 130,
   "metadata": {},
   "outputs": [],
   "source": [
    "## Création du Pool\n",
    "POOL = {}\n",
    "Pool = []\n",
    "list_client_initial = [i for i in range(num_clients)]\n",
    "for j in range(6): \n",
    "    x  = copy.deepcopy(list_client_initial)\n",
    "    random.shuffle(x)\n",
    "    Pool.append(x)\n",
    "    POOL['pool1'] = Pool\n",
    "    \n",
    "Pool = []\n",
    "for j in range(6): \n",
    "    x  = copy.deepcopy(list_client_initial)\n",
    "    random.shuffle(x)\n",
    "    Pool.append(x)\n",
    "    POOL['pool2'] = Pool"
   ]
  },
  {
   "cell_type": "code",
   "execution_count": 131,
   "metadata": {},
   "outputs": [],
   "source": [
    "sma_env = SMA_ENNEMIE(POOL,parameters)"
   ]
  },
  {
   "attachments": {},
   "cell_type": "markdown",
   "metadata": {},
   "source": [
    "### Exécution du Système multu agent ennemie & Résultats"
   ]
  },
  {
   "cell_type": "code",
   "execution_count": 132,
   "metadata": {},
   "outputs": [],
   "source": [
    "# initiation\n",
    "\n",
    "sma_env = SMA_ENNEMIE(POOL,parameters)\n",
    "\n",
    "for i in range(10) : \n",
    "\n",
    "    sma_env.step1()\n",
    "    sma_env.step2()\n",
    "\n",
    "    if i%10 == 0 :\n",
    "\n",
    "        sma_env.optimazers['equipe1'][1].execute()\n",
    "        sma_env.optimazers['equipe2'][1].execute()\n",
    "    \n",
    "\n",
    "cout_equipe1 = sma_env.resultats['equipe1']\n",
    "cout_equipe2 = sma_env.resultats['equipe2']"
   ]
  },
  {
   "cell_type": "code",
   "execution_count": 133,
   "metadata": {},
   "outputs": [
    {
     "data": {
      "text/plain": [
       "(2164.366396872286, 3139.2309208147676)"
      ]
     },
     "execution_count": 133,
     "metadata": {},
     "output_type": "execute_result"
    }
   ],
   "source": [
    "cout_equipe1 , cout_equipe2"
   ]
  },
  {
   "cell_type": "code",
   "execution_count": 134,
   "metadata": {},
   "outputs": [
    {
     "name": "stdout",
     "output_type": "stream",
     "text": [
      "switch2\n",
      "switch1\n",
      "switch2\n",
      "switch1\n",
      "switch1\n",
      "switch2\n",
      "switch1\n",
      "switch2\n",
      "switch1\n",
      "switch2\n",
      "switch1\n",
      "switch2\n",
      "switch1\n",
      "switch2\n",
      "switch1\n",
      "switch2\n",
      "switch1\n",
      "switch2\n",
      "switch1\n",
      "switch2\n",
      "switch2\n",
      "switch1\n",
      "switch2\n",
      "switch1\n",
      "switch2\n",
      "switch1\n",
      "switch2\n",
      "switch1\n",
      "switch2\n",
      "switch1\n",
      "switch2\n",
      "switch1\n",
      "switch1\n",
      "switch2\n",
      "switch1\n",
      "switch2\n",
      "switch1\n",
      "switch2\n",
      "switch1\n",
      "switch1\n",
      "switch1\n",
      "switch2\n",
      "switch1\n",
      "switch2\n",
      "switch1\n",
      "switch2\n",
      "switch1\n",
      "switch2\n",
      "switch2\n",
      "switch2\n",
      "switch1\n"
     ]
    },
    {
     "ename": "KeyboardInterrupt",
     "evalue": "",
     "output_type": "error",
     "traceback": [
      "\u001b[1;31m---------------------------------------------------------------------------\u001b[0m",
      "\u001b[1;31mKeyboardInterrupt\u001b[0m                         Traceback (most recent call last)",
      "Cell \u001b[1;32mIn[134], line 29\u001b[0m\n\u001b[0;32m     26\u001b[0m sma_env\u001b[39m.\u001b[39mdatacollector\u001b[39m.\u001b[39mcollect(sma_env)\n\u001b[0;32m     28\u001b[0m \u001b[39mif\u001b[39;00m k\u001b[39m%\u001b[39m\u001b[39m10\u001b[39m \u001b[39m==\u001b[39m \u001b[39m0\u001b[39m :\n\u001b[1;32m---> 29\u001b[0m     sma_env\u001b[39m.\u001b[39;49moptimazers[\u001b[39m'\u001b[39;49m\u001b[39mequipe1\u001b[39;49m\u001b[39m'\u001b[39;49m][\u001b[39m1\u001b[39;49m]\u001b[39m.\u001b[39;49mexecute()\n\u001b[0;32m     30\u001b[0m     sma_env\u001b[39m.\u001b[39mdatacollector\u001b[39m.\u001b[39mcollect(sma_env)\n\u001b[0;32m     32\u001b[0m cout_equipe1 \u001b[39m=\u001b[39m sma_env\u001b[39m.\u001b[39mresultats[\u001b[39m'\u001b[39m\u001b[39mequipe1\u001b[39m\u001b[39m'\u001b[39m]\n",
      "Cell \u001b[1;32mIn[123], line 14\u001b[0m, in \u001b[0;36mGenetic.execute\u001b[1;34m(self)\u001b[0m\n\u001b[0;32m     11\u001b[0m \u001b[39mdef\u001b[39;00m \u001b[39mexecute\u001b[39m(\u001b[39mself\u001b[39m):\n\u001b[0;32m     12\u001b[0m \n\u001b[0;32m     13\u001b[0m     \u001b[39m# Prendre le Pool comme une population initial et la remplacer par une population améliorer par l'algo genetique\u001b[39;00m\n\u001b[1;32m---> 14\u001b[0m     new_solution, meilleure_valeur , _ ,population \u001b[39m=\u001b[39m genetique(\u001b[39mself\u001b[39;49m\u001b[39m.\u001b[39;49mmodel\u001b[39m.\u001b[39;49mPool[\u001b[39mself\u001b[39;49m\u001b[39m.\u001b[39;49mpool_key],\u001b[39mself\u001b[39;49m\u001b[39m.\u001b[39;49mparameters[\u001b[39m'\u001b[39;49m\u001b[39mtaux_mutation\u001b[39;49m\u001b[39m'\u001b[39;49m],\u001b[39mself\u001b[39;49m\u001b[39m.\u001b[39;49mparameters[\u001b[39m'\u001b[39;49m\u001b[39mmax_iterations\u001b[39;49m\u001b[39m'\u001b[39;49m])\n\u001b[0;32m     15\u001b[0m     \u001b[39mself\u001b[39m\u001b[39m.\u001b[39mmodel\u001b[39m.\u001b[39mPool[\u001b[39mself\u001b[39m\u001b[39m.\u001b[39mpool_key] \u001b[39m=\u001b[39m copy\u001b[39m.\u001b[39mdeepcopy(population)\n",
      "File \u001b[1;32mc:\\Users\\moham\\desktop\\ICO_Project\\algorithmes.py:338\u001b[0m, in \u001b[0;36mgenetique\u001b[1;34m(population, taux_mutation, max_iterations)\u001b[0m\n\u001b[0;32m    335\u001b[0m \u001b[39m# Boucle principale de l'algorithme génétique\u001b[39;00m\n\u001b[0;32m    336\u001b[0m \u001b[39mfor\u001b[39;00m i \u001b[39min\u001b[39;00m \u001b[39mrange\u001b[39m(max_iterations):\n\u001b[0;32m    337\u001b[0m     \u001b[39m# Calcul des coûts pour chaque élément de la population\u001b[39;00m\n\u001b[1;32m--> 338\u001b[0m     Couts \u001b[39m=\u001b[39m {k: cout(get_route_version2(population[k], time_window, Q)) \u001b[39mfor\u001b[39;00m k \u001b[39min\u001b[39;00m \u001b[39mrange\u001b[39m(taille_population)}\n\u001b[0;32m    340\u001b[0m     \u001b[39m# Sélection des parents pour la reproduction\u001b[39;00m\n\u001b[0;32m    341\u001b[0m     parents \u001b[39m=\u001b[39m [population[selection(Couts, \u001b[39m2\u001b[39m)] \u001b[39mfor\u001b[39;00m j \u001b[39min\u001b[39;00m \u001b[39mrange\u001b[39m(taille_population)]\n",
      "File \u001b[1;32mc:\\Users\\moham\\desktop\\ICO_Project\\algorithmes.py:338\u001b[0m, in \u001b[0;36m<dictcomp>\u001b[1;34m(.0)\u001b[0m\n\u001b[0;32m    335\u001b[0m \u001b[39m# Boucle principale de l'algorithme génétique\u001b[39;00m\n\u001b[0;32m    336\u001b[0m \u001b[39mfor\u001b[39;00m i \u001b[39min\u001b[39;00m \u001b[39mrange\u001b[39m(max_iterations):\n\u001b[0;32m    337\u001b[0m     \u001b[39m# Calcul des coûts pour chaque élément de la population\u001b[39;00m\n\u001b[1;32m--> 338\u001b[0m     Couts \u001b[39m=\u001b[39m {k: cout(get_route_version2(population[k], time_window, Q)) \u001b[39mfor\u001b[39;00m k \u001b[39min\u001b[39;00m \u001b[39mrange\u001b[39m(taille_population)}\n\u001b[0;32m    340\u001b[0m     \u001b[39m# Sélection des parents pour la reproduction\u001b[39;00m\n\u001b[0;32m    341\u001b[0m     parents \u001b[39m=\u001b[39m [population[selection(Couts, \u001b[39m2\u001b[39m)] \u001b[39mfor\u001b[39;00m j \u001b[39min\u001b[39;00m \u001b[39mrange\u001b[39m(taille_population)]\n",
      "File \u001b[1;32mc:\\Users\\moham\\desktop\\ICO_Project\\algorithmes.py:208\u001b[0m, in \u001b[0;36mget_route_version2\u001b[1;34m(list_client, time_window, Q)\u001b[0m\n\u001b[0;32m    206\u001b[0m \u001b[39mwhile\u001b[39;00m time \u001b[39m<\u001b[39m time_window \u001b[39mand\u001b[39;00m weight \u001b[39m<\u001b[39m Q:\n\u001b[0;32m    207\u001b[0m     i \u001b[39m+\u001b[39m\u001b[39m=\u001b[39m \u001b[39m1\u001b[39m\n\u001b[1;32m--> 208\u001b[0m     \u001b[39mif\u001b[39;00m i \u001b[39m>\u001b[39;49m \u001b[39mlen\u001b[39;49m(list_client)\u001b[39m-\u001b[39;49m\u001b[39m1\u001b[39;49m:\n\u001b[0;32m    209\u001b[0m         \u001b[39mbreak\u001b[39;00m\n\u001b[0;32m    210\u001b[0m     \u001b[39m# Update time and weight\u001b[39;00m\n",
      "\u001b[1;31mKeyboardInterrupt\u001b[0m: "
     ]
    }
   ],
   "source": [
    "for i in range(100):\n",
    "\n",
    "    if cout_equipe1 < cout_equipe2 : \n",
    "            print('switch2')\n",
    "            for k in range(100) :\n",
    "\n",
    "                sma_env.step2()\n",
    "                sma_env.datacollector.collect(sma_env)\n",
    "                \n",
    "                if k%10 == 0 :\n",
    "                    sma_env.optimazers['equipe2'][1].execute()\n",
    "                    sma_env.datacollector.collect(sma_env)\n",
    "                    \n",
    "                cout_equipe2 = sma_env.resultats['equipe2']\n",
    "\n",
    "                if cout_equipe1>cout_equipe2 : \n",
    "                    break\n",
    "\n",
    "\n",
    "    if cout_equipe1 > cout_equipe2 : \n",
    "            \n",
    "            print('switch1')\n",
    "            for k in range(100) :\n",
    "\n",
    "                sma_env.step1()\n",
    "                sma_env.datacollector.collect(sma_env)\n",
    "                \n",
    "                if k%10 == 0 :\n",
    "                    sma_env.optimazers['equipe1'][1].execute()\n",
    "                    sma_env.datacollector.collect(sma_env)\n",
    "                    \n",
    "                cout_equipe1 = sma_env.resultats['equipe1']\n",
    "\n",
    "                if cout_equipe1<cout_equipe2 : \n",
    "                    break\n",
    "\n",
    "\n",
    "    \n",
    "\n",
    "            "
   ]
  },
  {
   "cell_type": "code",
   "execution_count": 98,
   "metadata": {},
   "outputs": [],
   "source": [
    "def get_solution_from_sma(sma_env):\n",
    "\n",
    "    if sma_env.resultats['equipe1'] > sma_env.resultats['equipe2'] : \n",
    "\n",
    "         return get_the_best_solution(sma_env,'pool2')\n",
    "\n",
    "    return get_the_best_solution(sma_env,'pool1')"
   ]
  },
  {
   "cell_type": "code",
   "execution_count": 136,
   "metadata": {},
   "outputs": [
    {
     "data": {
      "image/png": "[encoded data removed]",
      "text/plain": [
       "<Figure size 640x480 with 1 Axes>"
      ]
     },
     "metadata": {},
     "output_type": "display_data"
    }
   ],
   "source": [
    "sma_env.datacollector.get_model_vars_dataframe().plot(title='Résultats protocole Ennemie')\n",
    "plt.savefig('Protocole_ennemie')"
   ]
  },
  {
   "cell_type": "code",
   "execution_count": 140,
   "metadata": {},
   "outputs": [
    {
     "name": "stdout",
     "output_type": "stream",
     "text": [
      "The best solution is : [[17, 22, 73, 79, 70, 44, 34, 57, 99, 59, 0, 27, 58, 64, 5, 53, 50, 31, 68, 46, 32, 11, 25, 87, 13, 10, 49, 71, 2, 33], [4, 29, 92, 40, 18, 65, 51, 43, 98, 36, 88, 84, 15, 74, 82, 90, 48, 60, 67, 69, 89, 37, 77, 45, 1, 9, 23, 28, 38], [20, 83, 47, 61, 24, 52, 75, 42, 80, 85, 8, 35, 19, 95, 66, 86, 39, 41, 97, 55, 3, 14, 72, 21, 26, 78, 63, 94, 56, 96, 93, 30], [16, 12, 54, 62, 91, 6, 76, 7, 81]]\n",
      "With the cost : 1238.684798380096\n",
      "The number of vehicle : 4\n"
     ]
    }
   ],
   "source": [
    "print('The best solution is :' ,get_route_version2(get_solution_from_sma(sma_env),time_window,Q))\n",
    "print('With the cost :' , cout(get_route_version2(get_solution_from_sma(sma_env),time_window,Q)))\n",
    "print('The number of vehicle :' ,len(get_route_version2(get_solution_from_sma(sma_env),time_window,Q)))"
   ]
  },
  {
   "cell_type": "code",
   "execution_count": null,
   "metadata": {},
   "outputs": [],
   "source": []
  },
  {
   "cell_type": "code",
   "execution_count": null,
   "metadata": {},
   "outputs": [],
   "source": []
  }
 ],
 "metadata": {
  "kernelspec": {
   "display_name": "Python 3",
   "language": "python",
   "name": "python3"
  },
  "language_info": {
   "codemirror_mode": {
    "name": "ipython",
    "version": 3
   },
   "file_extension": ".py",
   "mimetype": "text/x-python",
   "name": "python",
   "nbconvert_exporter": "python",
   "pygments_lexer": "ipython3",
   "version": "3.10.9"
  },
  "orig_nbformat": 4
 },
 "nbformat": 4,
 "nbformat_minor": 2
}
