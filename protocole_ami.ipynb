{
 "cells": [
  {
   "cell_type": "code",
   "execution_count": 88,
   "metadata": {},
   "outputs": [],
   "source": [
    "import os.path\n",
    "import sys\n",
    "\n",
    "import os\n",
    "\n",
    "# Récupère le chemin d'accès parent de sys.path[0]\n",
    "parent_dir = os.path.dirname(sys.path[0])\n",
    "\n",
    "sys.path.append(os.path.abspath(parent_dir))\n",
    "import importlib\n",
    "import algorithmes\n",
    "importlib.reload(algorithmes)\n",
    "from algorithmes import *\n",
    "import random\n",
    "import mesa\n",
    "import bisect"
   ]
  },
  {
   "attachments": {},
   "cell_type": "markdown",
   "metadata": {},
   "source": [
    "## L'implimentation d'un systeme multi agent qui suit le Protocole AMI"
   ]
  },
  {
   "cell_type": "code",
   "execution_count": 89,
   "metadata": {},
   "outputs": [],
   "source": [
    "def nombre_arc_different(route1,route2):\n",
    "    arcs_voiture1 = set()\n",
    "    for sous_route in route1:\n",
    "        sous_route = [0]+sous_route+[0]\n",
    "        arcs_voiture1.update(set(zip(sous_route, sous_route[1:])))\n",
    "\n",
    "    arcs_voiture2 = set()\n",
    "    for sous_route in route2:\n",
    "        sous_route = [0]+sous_route+[0]\n",
    "        arcs_voiture2.update(set(zip(sous_route, sous_route[1:])))\n",
    "\n",
    "    arcs_diff = arcs_voiture1.symmetric_difference(arcs_voiture2)\n",
    "\n",
    "    return(len(arcs_diff))\n"
   ]
  },
  {
   "attachments": {},
   "cell_type": "markdown",
   "metadata": {},
   "source": [
    "## fonction de dispersion"
   ]
  },
  {
   "cell_type": "code",
   "execution_count": 90,
   "metadata": {},
   "outputs": [],
   "source": [
    "def insert_solution(CS, NB, R, DT, MinEMP, EMP):\n",
    "    # CS : solution courante à insérer dans l’EMP\n",
    "    # NB : nombre des solutions dans l’EMP\n",
    "    # R : nombre minimum des arcs différents pour considérer une solution comme différente\n",
    "    # DT : niveau de diversité\n",
    "    # MinEMP : le nombre minimum de solutions pouvant être incluses dans l’EMP\n",
    "    # EMP : l’ensemble des solutions dans l'EMP\n",
    "\n",
    "    d = 0  # le nombre de solutions dans l’EMP différent de CS\n",
    "    \n",
    "    for k in range(0, NB):\n",
    "        # parcourir toutes les solutions dans l’EMP\n",
    "         \n",
    "        # le nombre des arcs différentes de solution numéro k dans l’EMP rapport à CS\n",
    "        solution_k = EMP[k]\n",
    "\n",
    "        lambda_slot = nombre_arc_different(CS,solution_k)\n",
    "     \n",
    "                        \n",
    "        if lambda_slot >= R:\n",
    "            # Si le nombre des arcs différents est supérieur ou égal à R, alors la solution est considérée différente de la solution k dans l'EMP\n",
    "            d += 1\n",
    "                    \n",
    "        if lambda_slot == 0:\n",
    "            # Si le nombre de créneaux différents est nul, alors la solution existe déjà dans l'EMP\n",
    "            break\n",
    "            #print(\"La solution existe déjà dans l'EMP\")\n",
    "\n",
    "    \n",
    "    if d / NB >= DT:\n",
    "        # Si le rapport entre le nombre de solutions différentes et le nombre total de solutions est supérieur ou égal à DT, alors on peut insérer la solution dans l'EMP si elle est meilleure que la pire solution dans l'EMP\n",
    "        if cout(CS) < cout(EMP[-1]) or NB < MinEMP:\n",
    "            EMP.pop(-1)\n",
    "            EMP.append(CS)\n",
    "            EMP = sorted(EMP,key = cout)\n",
    " "
   ]
  },
  {
   "cell_type": "code",
   "execution_count": 106,
   "metadata": {},
   "outputs": [],
   "source": [
    "num_clients = 30"
   ]
  },
  {
   "cell_type": "code",
   "execution_count": 107,
   "metadata": {},
   "outputs": [],
   "source": [
    "R = num_clients//3\n",
    "DT = 0.4\n",
    "MinEMP = 10"
   ]
  },
  {
   "attachments": {},
   "cell_type": "markdown",
   "metadata": {},
   "source": [
    "## Création des Agents"
   ]
  },
  {
   "cell_type": "code",
   "execution_count": 109,
   "metadata": {},
   "outputs": [],
   "source": [
    "class Recuit_sem(mesa.Agent):\n",
    "    \n",
    "    # Création d'agent Recuit simulé \n",
    "\n",
    "\n",
    "    def __init__(self, model,parameters):\n",
    "        \n",
    "        super().__init__(self,model)\n",
    "        self.parameters = parameters\n",
    "        self.history = []\n",
    "\n",
    "    def execute(self):\n",
    "\n",
    "        # Tirer une solution aléatoire du Pool et la remplacer par une solution améliorer par Recuit simulé\n",
    "        solution_index = np.random.randint(len(self.model.Pool))\n",
    "        new_solution, meilleure_valeur , _  = recuit_simule(self.model.Pool[solution_index],self.parameters['temperature_initiale'] , self.parameters['temperature_finale'],alpha=0.99)\n",
    "        insert_solution(new_solution, len(self.model.Pool), R, DT, MinEMP, self.model.Pool)\n",
    "        #self.model.Pool[solution_index] = new_solution\n",
    "\n",
    "            \n",
    "    def step(self):\n",
    "        \n",
    "        self.execute()"
   ]
  },
  {
   "cell_type": "code",
   "execution_count": 110,
   "metadata": {},
   "outputs": [],
   "source": [
    "class Tabou(mesa.Agent):\n",
    "    \n",
    "    # Création d'agent Tabou \n",
    "\n",
    "    def __init__(self,  model,parameters):\n",
    "        super().__init__(self,model)\n",
    "      \n",
    "        self.parameters = parameters\n",
    "        self.history = []\n",
    "        self.initial_solution = None\n",
    "\n",
    "    def execute(self):\n",
    "\n",
    "        # Tirer une solution aléatoire du Pool et la remplacer par une solution améliorer par Tabou\n",
    "        solution_index = np.random.randint(len(self.model.Pool))\n",
    "        new_solution, meilleure_valeur , _ = tabou(self.model.Pool[solution_index] ,self.parameters['taille_tabou'],self.parameters['max_iterations'],self.parameters['n_voisin'])\n",
    "        insert_solution(new_solution, len(self.model.Pool), R, DT, MinEMP, self.model.Pool)\n",
    "        #self.model.Pool[solution_index] = new_solution\n",
    "\n",
    "            \n",
    "    def step(self):\n",
    "        self.execute()"
   ]
  },
  {
   "cell_type": "code",
   "execution_count": 111,
   "metadata": {},
   "outputs": [],
   "source": [
    "class Genetic(mesa.Agent):\n",
    "    \n",
    "    # Création d'agent genetique \n",
    "\n",
    "\n",
    "    def __init__(self,  model,parameters):\n",
    "\n",
    "        super().__init__(self,model)\n",
    "        self.parameters = parameters\n",
    "\n",
    "\n",
    "    def execute(self):\n",
    "\n",
    "        # Prendre le Pool comme une population initial et la remplacer par une population améliorer par l'algo genetique\n",
    "        new_solution, meilleure_valeur , _ ,population = genetique(self.model.Pool,self.parameters['taux_mutation'],self.parameters['max_iterations'])\n",
    "        self.model.Pool = copy.deepcopy(population)\n",
    "\n",
    "            \n",
    "    def step(self):\n",
    "        self.execute()"
   ]
  },
  {
   "cell_type": "code",
   "execution_count": 112,
   "metadata": {},
   "outputs": [],
   "source": [
    "def compute_Pool_avg(model):\n",
    "    \n",
    "    # Calculer le cout moyenne des solutions dans le Pool\n",
    "    couts = [cout(model.Pool[i]) for i in range(len(model.Pool))]\n",
    "    return sum(couts)/len(couts)\n",
    "\n",
    "def compute_Pool_min(model):\n",
    "    \n",
    "    # Calculer le cout minimum des solution dans le Pool\n",
    "    couts = [cout(model.Pool[i]) for i in range(len(model.Pool))]\n",
    "\n",
    "    return min(couts)\n",
    "\n",
    "def get_the_best_solution(model):\n",
    "\n",
    "    # Récupérer la meilleur solution dans le Pool\n",
    "    couts = np.array([cout(model.Pool[i]) for i in range(len(model.Pool))])\n",
    "\n",
    "    return model.Pool[np.argmin(couts)]"
   ]
  },
  {
   "cell_type": "code",
   "execution_count": 113,
   "metadata": {},
   "outputs": [],
   "source": [
    "## Les paramètres des Algorithmes \n",
    "parameters = {'rs' : {'temperature_initiale' : 1  , 'temperature_finale' : 1e-6 } , 'tabou' : {'taille_tabou' : 20 , 'max_iterations' : 100 , 'n_voisin' : 10} , 'genetic'  : {'taux_mutation' : 0.1 ,'max_iterations' : 200 }}"
   ]
  },
  {
   "cell_type": "code",
   "execution_count": 114,
   "metadata": {},
   "outputs": [],
   "source": [
    "class SMA(mesa.Model):\n",
    "    \n",
    "    \"\"\"Création d'environnement de communication entre les agents\"\"\"\n",
    "\n",
    "\n",
    "    def __init__(self,Pool,parameters):\n",
    "        \n",
    "        self.schedule = mesa.time.RandomActivation(self)\n",
    "        self.Pool = Pool\n",
    "        \n",
    "\n",
    "        # Instanciation des agents \n",
    "        self.optimazers = [Recuit_sem(self,parameters['rs']),Tabou(self,parameters['tabou'])]\n",
    "        self.genetique_optimizer = Genetic(self,parameters['genetic'])\n",
    "\n",
    "        for agent in self.optimazers : \n",
    "            self.schedule.add(agent)\n",
    "\n",
    "        ## Récuperer à chaque step la meilleur solution dans le Pool et son cout\n",
    "        self.datacollector = mesa.DataCollector(\n",
    "            model_reporters={\"pool_avg\": compute_Pool_avg ,\"best_pool\": get_the_best_solution,\"pool_min\": compute_Pool_min } )\n",
    "\n",
    "\n",
    "    def step(self):\n",
    "\n",
    "        self.datacollector.collect(self)\n",
    "        self.schedule.step()\n"
   ]
  },
  {
   "cell_type": "code",
   "execution_count": 117,
   "metadata": {},
   "outputs": [],
   "source": [
    "## Création du Pool\n",
    "Pool = []\n",
    "list_client_initial = [i for i in range(num_clients)]\n",
    "for j in range(15): \n",
    "    x  = copy.deepcopy(list_client_initial)\n",
    "    random.shuffle(x)\n",
    "    Pool.append(get_route_version2(x,time_window, Q))"
   ]
  },
  {
   "cell_type": "code",
   "execution_count": 116,
   "metadata": {},
   "outputs": [],
   "source": [
    "sma_env = SMA(Pool,parameters)"
   ]
  },
  {
   "cell_type": "code",
   "execution_count": 118,
   "metadata": {},
   "outputs": [],
   "source": [
    "for i in range(150):\n",
    "\n",
    "    # Amélioration de chaque solution par les algo Tabou / Récuit simuler\n",
    "    sma_env.step()\n",
    "\n",
    "    if i%10 == 1 :\n",
    "    \n",
    "        # Amélioration du Pool par l'algo genetique\n",
    "        sma_env.genetique_optimizer.execute()\n",
    "        sma_env.datacollector.collect(sma_env)\n",
    "    "
   ]
  },
  {
   "cell_type": "code",
   "execution_count": 119,
   "metadata": {},
   "outputs": [],
   "source": [
    "results = sma_env.datacollector.get_model_vars_dataframe()"
   ]
  },
  {
   "cell_type": "code",
   "execution_count": 120,
   "metadata": {},
   "outputs": [
    {
     "data": {
      "image/png": "[encoded data removed]",
      "text/plain": [
       "<Figure size 640x480 with 1 Axes>"
      ]
     },
     "metadata": {},
     "output_type": "display_data"
    }
   ],
   "source": [
    "plt.plot(results['pool_min'])\n",
    "plt.title(\"Résultat du SMA Protocole AMI\")\n",
    "plt.xlabel(\"Itération\")\n",
    "plt.ylabel(\"Le cout du meilleur element dans le Pool\")\n",
    "plt.savefig('Résultats/Résultat_sma_ami1')"
   ]
  },
  {
   "cell_type": "code",
   "execution_count": 121,
   "metadata": {},
   "outputs": [
    {
     "name": "stdout",
     "output_type": "stream",
     "text": [
      "The best solution is : [[20, 24, 5, 27, 0, 23, 11, 10, 2, 28, 15, 1, 9, 21, 4, 29, 14, 3, 18, 26, 22, 12, 8, 16, 17], [19, 7, 13, 6, 25]]\n",
      "With the cost : 373.8250590261142\n",
      "The number of vehicle : 2\n"
     ]
    }
   ],
   "source": [
    "print('The best solution is :' ,get_the_best_solution(sma_env))\n",
    "print('With the cost :' , cout(get_the_best_solution(sma_env)))\n",
    "print('The number of vehicle :' ,len(get_the_best_solution(sma_env)))"
   ]
  },
  {
   "cell_type": "code",
   "execution_count": 28,
   "metadata": {},
   "outputs": [],
   "source": [
    "import folium\n",
    "\n",
    "def tracer_segments_folium(L,color,m):\n",
    "    # Créer une carte centrée sur le premier point de la liste\n",
    "\n",
    "    # Ajouter des marqueurs pour chaque point de la liste\n",
    "    for c in L:\n",
    "\n",
    "        folium.Marker(location=c).add_to(m)\n",
    "\n",
    "    # Ajouter une Polyline reliant les marqueurs\n",
    "    folium.PolyLine(locations=L, color=color).add_to(m)\n",
    "\n",
    "    # Afficher la carte\n",
    "\n",
    "\n",
    "def plot_solution(solution):\n",
    "\n",
    "    m = folium.Map(location=(0,0), zoom_start=12)\n",
    "    K = len(solution)\n",
    "    k = 0\n",
    "    color = ['red' , 'blue' , 'green', 'yellow']\n",
    "    for vehicule in solution : \n",
    "\n",
    "        L = [(data_client_index['CUSTOMER_LATITUDE'].iloc[k] , data_client_index['CUSTOMER_LONGITUDE'].iloc[k]) for k in range(len(vehicule))]\n",
    "        tracer_segments_folium(L,color[k],m)\n",
    "        k = k + 1\n",
    "    m.save('Résultats/solution_ploted_test.html')\n"
   ]
  },
  {
   "cell_type": "code",
   "execution_count": 29,
   "metadata": {},
   "outputs": [],
   "source": [
    "plot_solution(get_the_best_solution(sma_env))"
   ]
  },
  {
   "cell_type": "code",
   "execution_count": null,
   "metadata": {},
   "outputs": [],
   "source": []
  },
  {
   "cell_type": "code",
   "execution_count": null,
   "metadata": {},
   "outputs": [],
   "source": []
  },
  {
   "cell_type": "code",
   "execution_count": null,
   "metadata": {},
   "outputs": [],
   "source": []
  },
  {
   "cell_type": "code",
   "execution_count": null,
   "metadata": {},
   "outputs": [],
   "source": []
  }
 ],
 "metadata": {
  "kernelspec": {
   "display_name": "Python 3",
   "language": "python",
   "name": "python3"
  },
  "language_info": {
   "codemirror_mode": {
    "name": "ipython",
    "version": 3
   },
   "file_extension": ".py",
   "mimetype": "text/x-python",
   "name": "python",
   "nbconvert_exporter": "python",
   "pygments_lexer": "ipython3",
   "version": "3.9.13"
  },
  "orig_nbformat": 4
 },
 "nbformat": 4,
 "nbformat_minor": 2
}
