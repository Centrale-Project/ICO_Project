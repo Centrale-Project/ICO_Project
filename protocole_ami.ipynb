{
 "cells": [
  {
   "cell_type": "code",
   "execution_count": 75,
   "metadata": {},
   "outputs": [],
   "source": [
    "import os.path\n",
    "import sys\n",
    "\n",
    "import os\n",
    "\n",
    "# Récupère le chemin d'accès parent de sys.path[0]\n",
    "parent_dir = os.path.dirname(sys.path[0])\n",
    "\n",
    "sys.path.append(os.path.abspath(parent_dir))\n",
    "import importlib\n",
    "import algorithmes\n",
    "importlib.reload(algorithmes)\n",
    "from algorithmes import *\n",
    "import random\n",
    "import mesa"
   ]
  },
  {
   "attachments": {},
   "cell_type": "markdown",
   "metadata": {},
   "source": [
    "## L'implimentation d'un systeme multi agent qui suit le Protocole AMI"
   ]
  },
  {
   "attachments": {},
   "cell_type": "markdown",
   "metadata": {},
   "source": [
    "## Création des Agents"
   ]
  },
  {
   "cell_type": "code",
   "execution_count": 2,
   "metadata": {},
   "outputs": [],
   "source": [
    "class Recuit_sem(mesa.Agent):\n",
    "    \n",
    "    # Création d'agent Recuit simulé \n",
    "\n",
    "\n",
    "    def __init__(self, model,parameters):\n",
    "        \n",
    "        super().__init__(self,model)\n",
    "        self.parameters = parameters\n",
    "        self.history = []\n",
    "\n",
    "    def execute(self):\n",
    "\n",
    "        # Tirer une solution aléatoire du Pool et la remplacer par une solution améliorer par Recuit simulé\n",
    "        solution_index = np.random.randint(len(self.model.Pool))\n",
    "        new_solution, meilleure_valeur , _  = recuit_simule(self.model.Pool[solution_index],self.parameters['temperature_initiale'] , self.parameters['temperature_finale'],alpha=0.99)\n",
    "        self.model.Pool[solution_index] = new_solution\n",
    "\n",
    "            \n",
    "    def step(self):\n",
    "        \n",
    "        self.execute()"
   ]
  },
  {
   "cell_type": "code",
   "execution_count": 11,
   "metadata": {},
   "outputs": [],
   "source": [
    "class Tabou(mesa.Agent):\n",
    "    \n",
    "    # Création d'agent Tabou \n",
    "\n",
    "    def __init__(self,  model,parameters):\n",
    "        super().__init__(self,model)\n",
    "      \n",
    "        self.parameters = parameters\n",
    "        self.history = []\n",
    "        self.initial_solution = None\n",
    "\n",
    "    def execute(self):\n",
    "\n",
    "        # Tirer une solution aléatoire du Pool et la remplacer par une solution améliorer par Tabou\n",
    "        solution_index = np.random.randint(len(self.model.Pool))\n",
    "        new_solution, meilleure_valeur , _ = tabou(self.model.Pool[solution_index] ,self.parameters['taille_tabou'],self.parameters['max_iterations'],self.parameters['n_voisin'])\n",
    "        self.model.Pool[solution_index] = new_solution\n",
    "\n",
    "            \n",
    "    def step(self):\n",
    "        self.execute()"
   ]
  },
  {
   "cell_type": "code",
   "execution_count": 12,
   "metadata": {},
   "outputs": [],
   "source": [
    "class Genetic(mesa.Agent):\n",
    "    \n",
    "    # Création d'agent genetique \n",
    "\n",
    "\n",
    "    def __init__(self,  model,parameters):\n",
    "\n",
    "        super().__init__(self,model)\n",
    "        self.parameters = parameters\n",
    "\n",
    "\n",
    "    def execute(self):\n",
    "\n",
    "        # Prendre le Pool comme une population initial et la remplacer par une population améliorer par l'algo genetique\n",
    "        new_solution, meilleure_valeur , _ ,population = genetique(self.model.Pool,self.parameters['taux_mutation'],self.parameters['max_iterations'])\n",
    "        self.model.Pool = copy.deepcopy(population)\n",
    "\n",
    "            \n",
    "    def step(self):\n",
    "        self.execute()"
   ]
  },
  {
   "cell_type": "code",
   "execution_count": 8,
   "metadata": {},
   "outputs": [],
   "source": [
    "def compute_Pool_avg(model):\n",
    "    \n",
    "    # Calculer le cout moyenne des solutions dans le Pool\n",
    "    couts = [cout(get_route_version2(model.Pool[i], time_window, Q)) for i in range(len(model.Pool))]\n",
    "    return sum(couts)/len(couts)\n",
    "\n",
    "def compute_Pool_min(model):\n",
    "    \n",
    "    # Calculer le cout minimum des solution dans le Pool\n",
    "    couts = [cout(get_route_version2(model.Pool[i], time_window, Q)) for i in range(len(model.Pool))]\n",
    "\n",
    "    return min(couts)\n",
    "\n",
    "def get_the_best_solution(model):\n",
    "\n",
    "    # Récupérer la meilleur solution dans le Pool\n",
    "    couts = np.array([cout(get_route_version2(model.Pool[i], time_window, Q)) for i in range(len(model.Pool))])\n",
    "\n",
    "    return model.Pool[np.argmin(couts)]"
   ]
  },
  {
   "cell_type": "code",
   "execution_count": 76,
   "metadata": {},
   "outputs": [],
   "source": [
    "## Les paramètres des Algorithmes \n",
    "num_clients = 100\n",
    "parameters = {'rs' : {'temperature_initiale' : 1  , 'temperature_finale' : 1e-6 } , 'tabou' : {'taille_tabou' : num_clients , 'max_iterations' : 100 , 'n_voisin' : 2} , 'genetic'  : {'taux_mutation' : 0.2 ,'max_iterations' : 150 }}"
   ]
  },
  {
   "cell_type": "code",
   "execution_count": 77,
   "metadata": {},
   "outputs": [],
   "source": [
    "class SMA(mesa.Model):\n",
    "    \n",
    "    \"\"\"Création d'environnement de communication entre les agents\"\"\"\n",
    "\n",
    "\n",
    "    def __init__(self,Pool,parameters):\n",
    "        \n",
    "        self.schedule = mesa.time.RandomActivation(self)\n",
    "        self.Pool = Pool\n",
    "        \n",
    "\n",
    "        # Instanciation des agents \n",
    "        self.optimazers = [Recuit_sem(self,parameters['rs']),Tabou(self,parameters['tabou'])]\n",
    "        self.genetique_optimizer = Genetic(self,parameters['genetic'])\n",
    "\n",
    "        for agent in self.optimazers : \n",
    "            self.schedule.add(agent)\n",
    "\n",
    "        ## Récuperer à chaque step la meilleur solution dans le Pool et son cout\n",
    "        self.datacollector = mesa.DataCollector(\n",
    "            model_reporters={\"pool_avg\": compute_Pool_avg ,\"best_pool\": get_the_best_solution,\"pool_min\": compute_Pool_min } )\n",
    "\n",
    "\n",
    "    def step(self):\n",
    "\n",
    "        self.datacollector.collect(self)\n",
    "        self.schedule.step()\n"
   ]
  },
  {
   "cell_type": "code",
   "execution_count": 78,
   "metadata": {},
   "outputs": [],
   "source": [
    "## Création du Pool\n",
    "Pool = []\n",
    "list_client_initial = [i for i in range(num_clients)]\n",
    "for j in range(10): \n",
    "    x  = copy.deepcopy(list_client_initial)\n",
    "    random.shuffle(x)\n",
    "    Pool.append(x)"
   ]
  },
  {
   "cell_type": "code",
   "execution_count": 79,
   "metadata": {},
   "outputs": [],
   "source": [
    "sma_env = SMA(Pool,parameters)"
   ]
  },
  {
   "cell_type": "code",
   "execution_count": 85,
   "metadata": {},
   "outputs": [],
   "source": [
    "for i in range(100):\n",
    "\n",
    "    # Amélioration de chaque solution par les algo Tabou / Récuit simuler\n",
    "    sma_env.step()\n",
    "\n",
    "    if i%10 == 1 :\n",
    "    \n",
    "                # Amélioration du Pool par l'algo genetique\n",
    "                sma_env.genetique_optimizer.execute()\n",
    "                sma_env.datacollector.collect(sma_env)\n",
    "    "
   ]
  },
  {
   "cell_type": "code",
   "execution_count": 86,
   "metadata": {},
   "outputs": [],
   "source": [
    "agent_wealth = sma_env.datacollector.get_model_vars_dataframe()"
   ]
  },
  {
   "cell_type": "code",
   "execution_count": 87,
   "metadata": {},
   "outputs": [
    {
     "data": {
      "text/plain": [
       "Text(0, 0.5, 'Le cout du meilleur element dans le Pool')"
      ]
     },
     "execution_count": 87,
     "metadata": {},
     "output_type": "execute_result"
    },
    {
     "data": {
      "image/png": "[encoded data removed]",
      "text/plain": [
       "<Figure size 640x480 with 1 Axes>"
      ]
     },
     "metadata": {},
     "output_type": "display_data"
    }
   ],
   "source": [
    "plt.plot(agent_wealth['pool_min'])\n",
    "plt.title(\"Résultat du SMA Protocole AMI\")\n",
    "plt.xlabel(\"Itération\")\n",
    "plt.ylabel(\"Le cout du meilleur element dans le Pool\")\n",
    "#plt.savefig('Résultat_sma_ami1')"
   ]
  },
  {
   "cell_type": "code",
   "execution_count": 84,
   "metadata": {},
   "outputs": [
    {
     "name": "stdout",
     "output_type": "stream",
     "text": [
      "The best solution is : [[20, 52, 24, 61, 5, 99, 44, 89, 77, 27, 58, 75, 94, 85, 22, 65, 14, 21, 0, 72, 84, 51, 55, 54, 62, 73, 49, 71], [16, 59, 64, 47, 53, 29, 92, 18, 12, 98, 40, 63, 17, 93, 96, 37, 1, 9, 45, 23, 15, 57, 42], [39, 82, 11, 2, 86, 46, 83, 31, 48, 60, 33, 87, 35, 66, 3, 69, 88, 26, 80, 34, 95, 19, 7, 81, 8, 78, 56, 30, 50, 4], [25, 10, 13, 90, 91, 79, 70, 97, 43, 67, 36, 68, 28, 41, 74, 32, 38, 6, 76]]\n",
      "With the cost : 1830.785648626144\n",
      "The number of vehicle : 4\n"
     ]
    }
   ],
   "source": [
    "print('The best solution is :' ,get_route_version2(get_the_best_solution(sma_env),time_window,Q))\n",
    "print('With the cost :' , cout(get_route_version2(get_the_best_solution(sma_env),time_window,Q)))\n",
    "print('The number of vehicle :' ,len(get_route_version2(get_the_best_solution(sma_env),time_window,Q)))"
   ]
  },
  {
   "cell_type": "code",
   "execution_count": null,
   "metadata": {},
   "outputs": [],
   "source": []
  },
  {
   "cell_type": "code",
   "execution_count": null,
   "metadata": {},
   "outputs": [],
   "source": []
  },
  {
   "cell_type": "code",
   "execution_count": null,
   "metadata": {},
   "outputs": [],
   "source": []
  },
  {
   "cell_type": "code",
   "execution_count": null,
   "metadata": {},
   "outputs": [],
   "source": []
  },
  {
   "cell_type": "code",
   "execution_count": null,
   "metadata": {},
   "outputs": [],
   "source": []
  },
  {
   "cell_type": "code",
   "execution_count": null,
   "metadata": {},
   "outputs": [],
   "source": []
  }
 ],
 "metadata": {
  "kernelspec": {
   "display_name": "Python 3",
   "language": "python",
   "name": "python3"
  },
  "language_info": {
   "codemirror_mode": {
    "name": "ipython",
    "version": 3
   },
   "file_extension": ".py",
   "mimetype": "text/x-python",
   "name": "python",
   "nbconvert_exporter": "python",
   "pygments_lexer": "ipython3",
   "version": "3.10.9"
  },
  "orig_nbformat": 4
 },
 "nbformat": 4,
 "nbformat_minor": 2
}
