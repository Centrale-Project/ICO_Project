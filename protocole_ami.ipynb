{
 "cells": [
  {
   "cell_type": "code",
   "execution_count": 1,
   "metadata": {},
   "outputs": [],
   "source": [
    "import os.path\n",
    "import sys\n",
    "\n",
    "import os\n",
    "\n",
    "# Récupère le chemin d'accès parent de sys.path[0]\n",
    "parent_dir = os.path.dirname(sys.path[0])\n",
    "\n",
    "sys.path.append(os.path.abspath(parent_dir))\n",
    "import importlib\n",
    "import algorithmes\n",
    "importlib.reload(algorithmes)\n",
    "from algorithmes import *\n",
    "import random\n",
    "import mesa"
   ]
  },
  {
   "attachments": {},
   "cell_type": "markdown",
   "metadata": {},
   "source": [
    "## L'implimentation d'un systeme multi agent qui suit le Protocole AMI"
   ]
  },
  {
   "cell_type": "code",
   "execution_count": null,
   "metadata": {},
   "outputs": [],
   "source": []
  },
  {
   "attachments": {},
   "cell_type": "markdown",
   "metadata": {},
   "source": [
    "## fonction de dispersion"
   ]
  },
  {
   "cell_type": "code",
   "execution_count": null,
   "metadata": {},
   "outputs": [],
   "source": [
    "def insert_solution(CS, NB, R, DT, MaxEMP, ST, STkj, EMP):\n",
    "    # CS : solution courante à insérer dans l’EMP\n",
    "    # NB : nombre des solutions dans l’EMP\n",
    "    # R : nombre minimum des arrets différents pour considérer une solution comme différente\n",
    "    # DT : niveau de diversité\n",
    "    # MaxEMP : le nombre maximum de solutions pouvant être incluses dans l’EMP\n",
    "    # STij : booléen, égal à 1 si la tâche de soins i du patient j est programmée dans le créneau t et égal à 0 sinon\n",
    "    # STkj : est la solution STij numéro k dans l’EMP\n",
    "    # EMP : l’ensemble des solutions dans l'EMP\n",
    "\n",
    "    d = 0  # le nombre de solutions dans l’EMP différent de CS\n",
    "    \n",
    "    for k in range(1, NB+1):\n",
    "        # parcourir toutes les solutions dans l’EMP\n",
    "        lambda_slot = 0  # le nombre de route contenant différentes arrets dans l’EMP par rapport aux CS\n",
    "        \n",
    "        for t in range(1, T+1):\n",
    "            for j in range(1, J+1):\n",
    "                for i in range(1, I+1):\n",
    "                    if abs(CS[t, i, j] - STkj[t, i, j]) == 1:\n",
    "                        # |CSti,j − Stki,j| = 1 signifie que les deux solutions sont différentes dans le créneau t pour la tâche de soins i du patient j\n",
    "                        lambda_slot += 1\n",
    "                        \n",
    "                if lambda_slot >= R:\n",
    "                    # Si le nombre de créneaux différents est supérieur ou égal à R, alors la solution est considérée différente de la solution k dans l'EMP\n",
    "                    d += 1\n",
    "                    \n",
    "        if lambda_slot == 0:\n",
    "            # Si le nombre de créneaux différents est nul, alors la solution existe déjà dans l'EMP\n",
    "            print(\"La solution existe déjà dans l'EMP\")\n",
    "        else:\n",
    "            if d / NB >= DT:\n",
    "                # Si le rapport entre le nombre de solutions différentes et le nombre total de solutions est supérieur ou égal à DT, alors on peut insérer la solution dans l'EMP si elle est meilleure que la pire solution dans l'EMP\n",
    "                if fitness(CS) > fitness(EMP[-1]):\n",
    "                    if NB < MaxEMP:\n",
    "                        # Si le nombre de solutions dans l'EMP est inférieur à MaxEMP, alors on peut insérer la solution dans l'EMP\n",
    "                        EMP.append(CS)\n",
    "                    else:\n",
    "                        # Sinon, on élimine la plus mauvaise solution dans l'EMP et on insère la nouvelle solution\n",
    "                        EMP.pop(0)\n",
    "                        EMP.append(CS)\n"
   ]
  },
  {
   "attachments": {},
   "cell_type": "markdown",
   "metadata": {},
   "source": [
    "## Création des Agents"
   ]
  },
  {
   "cell_type": "code",
   "execution_count": 2,
   "metadata": {},
   "outputs": [],
   "source": [
    "class Recuit_sem(mesa.Agent):\n",
    "    \n",
    "    # Création d'agent Recuit simulé \n",
    "\n",
    "\n",
    "    def __init__(self, model,parameters):\n",
    "        \n",
    "        super().__init__(self,model)\n",
    "        self.parameters = parameters\n",
    "        self.history = []\n",
    "\n",
    "    def execute(self):\n",
    "\n",
    "        # Tirer une solution aléatoire du Pool et la remplacer par une solution améliorer par Recuit simulé\n",
    "        solution_index = np.random.randint(len(self.model.Pool))\n",
    "        new_solution, meilleure_valeur , _  = recuit_simule(self.model.Pool[solution_index],self.parameters['temperature_initiale'] , self.parameters['temperature_finale'],alpha=0.99)\n",
    "        self.model.Pool[solution_index] = new_solution\n",
    "\n",
    "            \n",
    "    def step(self):\n",
    "        \n",
    "        self.execute()"
   ]
  },
  {
   "cell_type": "code",
   "execution_count": 3,
   "metadata": {},
   "outputs": [],
   "source": [
    "class Tabou(mesa.Agent):\n",
    "    \n",
    "    # Création d'agent Tabou \n",
    "\n",
    "    def __init__(self,  model,parameters):\n",
    "        super().__init__(self,model)\n",
    "      \n",
    "        self.parameters = parameters\n",
    "        self.history = []\n",
    "        self.initial_solution = None\n",
    "\n",
    "    def execute(self):\n",
    "\n",
    "        # Tirer une solution aléatoire du Pool et la remplacer par une solution améliorer par Tabou\n",
    "        solution_index = np.random.randint(len(self.model.Pool))\n",
    "        new_solution, meilleure_valeur , _ = tabou(self.model.Pool[solution_index] ,self.parameters['taille_tabou'],self.parameters['max_iterations'],self.parameters['n_voisin'])\n",
    "        self.model.Pool[solution_index] = new_solution\n",
    "\n",
    "            \n",
    "    def step(self):\n",
    "        self.execute()"
   ]
  },
  {
   "cell_type": "code",
   "execution_count": 4,
   "metadata": {},
   "outputs": [],
   "source": [
    "class Genetic(mesa.Agent):\n",
    "    \n",
    "    # Création d'agent genetique \n",
    "\n",
    "\n",
    "    def __init__(self,  model,parameters):\n",
    "\n",
    "        super().__init__(self,model)\n",
    "        self.parameters = parameters\n",
    "\n",
    "\n",
    "    def execute(self):\n",
    "\n",
    "        # Prendre le Pool comme une population initial et la remplacer par une population améliorer par l'algo genetique\n",
    "        new_solution, meilleure_valeur , _ ,population = genetique(self.model.Pool,self.parameters['taux_mutation'],self.parameters['max_iterations'])\n",
    "        self.model.Pool = copy.deepcopy(population)\n",
    "\n",
    "            \n",
    "    def step(self):\n",
    "        self.execute()"
   ]
  },
  {
   "cell_type": "code",
   "execution_count": 5,
   "metadata": {},
   "outputs": [],
   "source": [
    "def compute_Pool_avg(model):\n",
    "    \n",
    "    # Calculer le cout moyenne des solutions dans le Pool\n",
    "    couts = [cout(get_route_version2(model.Pool[i], time_window, Q)) for i in range(len(model.Pool))]\n",
    "    return sum(couts)/len(couts)\n",
    "\n",
    "def compute_Pool_min(model):\n",
    "    \n",
    "    # Calculer le cout minimum des solution dans le Pool\n",
    "    couts = [cout(get_route_version2(model.Pool[i], time_window, Q)) for i in range(len(model.Pool))]\n",
    "\n",
    "    return min(couts)\n",
    "\n",
    "def get_the_best_solution(model):\n",
    "\n",
    "    # Récupérer la meilleur solution dans le Pool\n",
    "    couts = np.array([cout(get_route_version2(model.Pool[i], time_window, Q)) for i in range(len(model.Pool))])\n",
    "\n",
    "    return model.Pool[np.argmin(couts)]"
   ]
  },
  {
   "cell_type": "code",
   "execution_count": 6,
   "metadata": {},
   "outputs": [],
   "source": [
    "## Les paramètres des Algorithmes \n",
    "num_clients = 100\n",
    "parameters = {'rs' : {'temperature_initiale' : 1  , 'temperature_finale' : 1e-6 } , 'tabou' : {'taille_tabou' : 20 , 'max_iterations' : 100 , 'n_voisin' : 10} , 'genetic'  : {'taux_mutation' : 0.1 ,'max_iterations' : 200 }}"
   ]
  },
  {
   "cell_type": "code",
   "execution_count": 7,
   "metadata": {},
   "outputs": [],
   "source": [
    "class SMA(mesa.Model):\n",
    "    \n",
    "    \"\"\"Création d'environnement de communication entre les agents\"\"\"\n",
    "\n",
    "\n",
    "    def __init__(self,Pool,parameters):\n",
    "        \n",
    "        self.schedule = mesa.time.RandomActivation(self)\n",
    "        self.Pool = Pool\n",
    "        \n",
    "\n",
    "        # Instanciation des agents \n",
    "        self.optimazers = [Recuit_sem(self,parameters['rs']),Tabou(self,parameters['tabou'])]\n",
    "        self.genetique_optimizer = Genetic(self,parameters['genetic'])\n",
    "\n",
    "        for agent in self.optimazers : \n",
    "            self.schedule.add(agent)\n",
    "\n",
    "        ## Récuperer à chaque step la meilleur solution dans le Pool et son cout\n",
    "        self.datacollector = mesa.DataCollector(\n",
    "            model_reporters={\"pool_avg\": compute_Pool_avg ,\"best_pool\": get_the_best_solution,\"pool_min\": compute_Pool_min } )\n",
    "\n",
    "\n",
    "    def step(self):\n",
    "\n",
    "        self.datacollector.collect(self)\n",
    "        self.schedule.step()\n"
   ]
  },
  {
   "cell_type": "code",
   "execution_count": 8,
   "metadata": {},
   "outputs": [],
   "source": [
    "## Création du Pool\n",
    "Pool = []\n",
    "list_client_initial = [i for i in range(num_clients)]\n",
    "for j in range(10): \n",
    "    x  = copy.deepcopy(list_client_initial)\n",
    "    random.shuffle(x)\n",
    "    Pool.append(x)"
   ]
  },
  {
   "cell_type": "code",
   "execution_count": 9,
   "metadata": {},
   "outputs": [],
   "source": [
    "sma_env = SMA(Pool,parameters)"
   ]
  },
  {
   "cell_type": "code",
   "execution_count": 10,
   "metadata": {},
   "outputs": [],
   "source": [
    "for i in range(100):\n",
    "\n",
    "    # Amélioration de chaque solution par les algo Tabou / Récuit simuler\n",
    "    sma_env.step()\n",
    "\n",
    "    if i%10 == 1 :\n",
    "    \n",
    "                # Amélioration du Pool par l'algo genetique\n",
    "                sma_env.genetique_optimizer.execute()\n",
    "                sma_env.datacollector.collect(sma_env)\n",
    "    "
   ]
  },
  {
   "cell_type": "code",
   "execution_count": 11,
   "metadata": {},
   "outputs": [],
   "source": [
    "results = sma_env.datacollector.get_model_vars_dataframe()"
   ]
  },
  {
   "cell_type": "code",
   "execution_count": 12,
   "metadata": {},
   "outputs": [
    {
     "data": {
      "image/png": "[encoded data removed]",
      "text/plain": [
       "<Figure size 640x480 with 1 Axes>"
      ]
     },
     "metadata": {},
     "output_type": "display_data"
    }
   ],
   "source": [
    "plt.plot(results['pool_min'])\n",
    "plt.title(\"Résultat du SMA Protocole AMI\")\n",
    "plt.xlabel(\"Itération\")\n",
    "plt.ylabel(\"Le cout du meilleur element dans le Pool\")\n",
    "plt.savefig('Résultats/Résultat_sma_ami1')"
   ]
  },
  {
   "cell_type": "code",
   "execution_count": 16,
   "metadata": {},
   "outputs": [
    {
     "name": "stdout",
     "output_type": "stream",
     "text": [
      "The best solution is : [[76, 90, 6, 34, 89, 4, 43, 65, 97, 58, 5, 64, 30, 96, 93, 56, 94, 17, 54, 62, 55, 63, 29, 53, 50, 31, 83, 47], [37, 28, 2, 71, 49, 19, 7, 35, 86, 46, 74, 41, 68, 45, 9, 57, 73, 52, 20, 24, 44, 79, 0, 27, 21, 99, 59, 72, 1, 15, 77, 23], [38, 32, 33, 10, 11, 82, 25, 60, 39, 78, 69, 51, 36, 67, 98, 91, 66, 81, 95, 87, 13, 48, 16, 8, 18, 3, 61], [42, 80, 85, 22, 12, 26, 84, 75, 92, 14, 70, 88, 40]]\n",
      "With the cost : 1265.3473991979465\n",
      "The number of vehicle : 4\n"
     ]
    }
   ],
   "source": [
    "print('The best solution is :' ,get_route_version2(get_the_best_solution(sma_env),time_window,Q))\n",
    "print('With the cost :' , cout(get_route_version2(get_the_best_solution(sma_env),time_window,Q)))\n",
    "print('The number of vehicle :' ,len(get_route_version2(get_the_best_solution(sma_env),time_window,Q)))"
   ]
  },
  {
   "cell_type": "code",
   "execution_count": 20,
   "metadata": {},
   "outputs": [],
   "source": [
    "import folium\n",
    "\n",
    "def tracer_segments_folium(L,color,m):\n",
    "    # Créer une carte centrée sur le premier point de la liste\n",
    "\n",
    "    # Ajouter des marqueurs pour chaque point de la liste\n",
    "    for c in L:\n",
    "\n",
    "        folium.Marker(location=c).add_to(m)\n",
    "\n",
    "    # Ajouter une Polyline reliant les marqueurs\n",
    "    folium.PolyLine(locations=L, color=color).add_to(m)\n",
    "\n",
    "    # Afficher la carte\n",
    "\n",
    "\n",
    "def plot_solution(solution):\n",
    "\n",
    "    m = folium.Map(location=(0,0), zoom_start=12)\n",
    "    K = len(solution)\n",
    "    k = 0\n",
    "    color = ['red' , 'blue' , 'green', 'yellow']\n",
    "    for vehicule in solution : \n",
    "\n",
    "        L = [(data_client_index['CUSTOMER_LATITUDE'].iloc[k] , data_client_index['CUSTOMER_LONGITUDE'].iloc[k]) for k in range(len(vehicule))]\n",
    "        tracer_segments_folium(L,color[k],m)\n",
    "        k = k + 1\n",
    "    m.save('Résultats/solution_ploted_test.html')\n"
   ]
  },
  {
   "cell_type": "code",
   "execution_count": 18,
   "metadata": {},
   "outputs": [],
   "source": [
    "plot_solution(get_route_version2(get_the_best_solution(sma_env),time_window,Q))"
   ]
  },
  {
   "cell_type": "code",
   "execution_count": null,
   "metadata": {},
   "outputs": [],
   "source": []
  },
  {
   "cell_type": "code",
   "execution_count": null,
   "metadata": {},
   "outputs": [],
   "source": []
  },
  {
   "cell_type": "code",
   "execution_count": null,
   "metadata": {},
   "outputs": [],
   "source": []
  },
  {
   "cell_type": "code",
   "execution_count": null,
   "metadata": {},
   "outputs": [],
   "source": []
  }
 ],
 "metadata": {
  "kernelspec": {
   "display_name": "Python 3",
   "language": "python",
   "name": "python3"
  },
  "language_info": {
   "codemirror_mode": {
    "name": "ipython",
    "version": 3
   },
   "file_extension": ".py",
   "mimetype": "text/x-python",
   "name": "python",
   "nbconvert_exporter": "python",
   "pygments_lexer": "ipython3",
   "version": "3.9.13"
  },
  "orig_nbformat": 4
 },
 "nbformat": 4,
 "nbformat_minor": 2
}
