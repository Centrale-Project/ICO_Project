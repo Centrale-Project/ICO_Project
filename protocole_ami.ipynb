{
 "cells": [
  {
   "cell_type": "code",
   "execution_count": 200,
   "metadata": {},
   "outputs": [],
   "source": [
    "import os.path\n",
    "import sys\n",
    "\n",
    "import os\n",
    "\n",
    "# Récupère le chemin d'accès parent de sys.path[0]\n",
    "parent_dir = os.path.dirname(sys.path[0])\n",
    "\n",
    "sys.path.append(os.path.abspath(parent_dir))\n",
    "import importlib\n",
    "import algorithmes\n",
    "importlib.reload(algorithmes)\n",
    "from algorithmes import *\n",
    "import random\n",
    "import mesa"
   ]
  },
  {
   "attachments": {},
   "cell_type": "markdown",
   "metadata": {},
   "source": [
    "## L'implimentation d'un systeme multi agent qui suit le Protocole AMI"
   ]
  },
  {
   "attachments": {},
   "cell_type": "markdown",
   "metadata": {},
   "source": [
    "## Création des Agents"
   ]
  },
  {
   "cell_type": "code",
   "execution_count": 212,
   "metadata": {},
   "outputs": [],
   "source": [
    "class Recuit_sem(mesa.Agent):\n",
    "    \n",
    "    # Création d'agent Recuit simulé \n",
    "\n",
    "\n",
    "    def __init__(self, model,parameters):\n",
    "        \n",
    "        super().__init__(self,model)\n",
    "        self.parameters = parameters\n",
    "        self.history = []\n",
    "\n",
    "    def execute(self):\n",
    "\n",
    "        # Tirer une solution aléatoire du Pool et la remplacer par une solution améliorer par Recuit simulé\n",
    "        solution_index = np.random.randint(len(self.model.Pool))\n",
    "        new_solution, meilleure_valeur , _  = recuit_simule(self.model.Pool[solution_index],self.parameters['temperature_initiale'] , self.parameters['temperature_finale'],alpha=0.99)\n",
    "        self.model.Pool[solution_index] = new_solution\n",
    "\n",
    "            \n",
    "    def step(self):\n",
    "        \n",
    "        self.execute()"
   ]
  },
  {
   "cell_type": "code",
   "execution_count": 213,
   "metadata": {},
   "outputs": [],
   "source": [
    "class Tabou(mesa.Agent):\n",
    "    \n",
    "    # Création d'agent Tabou \n",
    "\n",
    "    def __init__(self,  model,parameters):\n",
    "        super().__init__(self,model)\n",
    "      \n",
    "        self.parameters = parameters\n",
    "        self.history = []\n",
    "        self.initial_solution = None\n",
    "\n",
    "    def execute(self):\n",
    "\n",
    "        # Tirer une solution aléatoire du Pool et la remplacer par une solution améliorer par Tabou\n",
    "        solution_index = np.random.randint(len(self.model.Pool))\n",
    "        new_solution, meilleure_valeur , _ = tabou(self.model.Pool[solution_index] ,self.parameters['taille_tabou'],self.parameters['max_iterations'],self.parameters['n_voisin'])\n",
    "        self.model.Pool[solution_index] = new_solution\n",
    "\n",
    "            \n",
    "    def step(self):\n",
    "        self.execute()"
   ]
  },
  {
   "cell_type": "code",
   "execution_count": 202,
   "metadata": {},
   "outputs": [],
   "source": [
    "class Genetic(mesa.Agent):\n",
    "    \n",
    "    # Création d'agent genetique \n",
    "\n",
    "\n",
    "    def __init__(self,  model,parameters):\n",
    "\n",
    "        super().__init__(self,model)\n",
    "        self.parameters = parameters\n",
    "\n",
    "\n",
    "    def execute(self):\n",
    "\n",
    "        # Prendre le Pool comme une population initial et la remplacer par une population améliorer par l'algo genetique\n",
    "        new_solution, meilleure_valeur , _ ,population = genetique(self.model.Pool,self.parameters['taux_mutation'],self.parameters['max_iterations'])\n",
    "        self.model.Pool = copy.deepcopy(population)\n",
    "\n",
    "            \n",
    "    def step(self):\n",
    "        self.execute()"
   ]
  },
  {
   "cell_type": "code",
   "execution_count": 204,
   "metadata": {},
   "outputs": [],
   "source": [
    "def compute_Pool_avg(model):\n",
    "    \n",
    "    # Calculer le cout moyenne des solutions dans le Pool\n",
    "    couts = [cout(get_route_version2(model.Pool[i], time_window, Q)) for i in range(len(model.Pool))]\n",
    "    return sum(couts)/len(couts)\n",
    "\n",
    "def compute_Pool_min(model):\n",
    "    \n",
    "    # Calculer le cout minimum des solution dans le Pool\n",
    "    couts = [cout(get_route_version2(model.Pool[i], time_window, Q)) for i in range(len(model.Pool))]\n",
    "\n",
    "    return min(couts)\n",
    "\n",
    "def get_the_best_solution(model):\n",
    "\n",
    "    # Récupérer la meilleur solution dans le Pool\n",
    "    couts = np.array([cout(get_route_version2(model.Pool[i], time_window, Q)) for i in range(len(model.Pool))])\n",
    "\n",
    "    return model.Pool[np.argmin(couts)]"
   ]
  },
  {
   "cell_type": "code",
   "execution_count": 205,
   "metadata": {},
   "outputs": [],
   "source": [
    "## Les paramètres des Algorithmes heuristique\n",
    "num_clients = nombre_client\n",
    "parameters = {'rs' : {'temperature_initiale' : 1  , 'temperature_finale' : 1e-1 } , 'tabou' : {'taille_tabou' : nombre_client , 'max_iterations' : 100 , 'n_voisin' : 2} , 'genetic'  : {'taux_mutation' : 0.5 ,'max_iterations' : 10 }}"
   ]
  },
  {
   "cell_type": "code",
   "execution_count": 208,
   "metadata": {},
   "outputs": [],
   "source": [
    "class SMA(mesa.Model):\n",
    "    \n",
    "    \"\"\"Création d'environnement de communication entre les agents\"\"\"\n",
    "\n",
    "\n",
    "    def __init__(self,Pool,parameters):\n",
    "        \n",
    "        self.schedule = mesa.time.RandomActivation(self)\n",
    "        self.Pool = Pool\n",
    "        \n",
    "\n",
    "        # Instanciation des agents \n",
    "        self.optimazers = [Recuit_sem(self,parameters['rs']),Tabou(self,parameters['tabou'])]\n",
    "        self.genetique_optimizer = Genetic(self,parameters['genetic'])\n",
    "\n",
    "        for agent in self.optimazers : \n",
    "            self.schedule.add(agent)\n",
    "\n",
    "        ## Récuperer à chaque step la meilleur solution dans le Pool et son cout\n",
    "        self.datacollector = mesa.DataCollector(\n",
    "            model_reporters={\"pool_avg\": compute_Pool_avg ,\"best_pool\": get_the_best_solution,\"pool_min\": compute_Pool_min } )\n",
    "\n",
    "\n",
    "    def step(self):\n",
    "\n",
    "        self.datacollector.collect(self)\n",
    "        self.schedule.step()\n"
   ]
  },
  {
   "cell_type": "code",
   "execution_count": 209,
   "metadata": {},
   "outputs": [],
   "source": [
    "## Création du Pool\n",
    "Pool = []\n",
    "list_client_initial = [i for i in range(nombre_client)]\n",
    "for j in range(10): \n",
    "    x  = copy.deepcopy(list_client_initial)\n",
    "    random.shuffle(x)\n",
    "    Pool.append(x)"
   ]
  },
  {
   "cell_type": "code",
   "execution_count": 214,
   "metadata": {},
   "outputs": [],
   "source": [
    "sma_env = SMA(Pool,parameters)"
   ]
  },
  {
   "cell_type": "code",
   "execution_count": 215,
   "metadata": {},
   "outputs": [],
   "source": [
    "for i in range(50):\n",
    "\n",
    "    sma_env.step()\n",
    "    if i%10 == 1 :\n",
    "            \n",
    "        sma_env.genetique_optimizer.execute()\n",
    "        sma_env.datacollector.collect(sma_env)\n",
    "    "
   ]
  },
  {
   "cell_type": "code",
   "execution_count": 221,
   "metadata": {},
   "outputs": [],
   "source": [
    "agent_wealth = sma_env.datacollector.get_model_vars_dataframe()"
   ]
  },
  {
   "cell_type": "code",
   "execution_count": 222,
   "metadata": {},
   "outputs": [
    {
     "data": {
      "text/plain": [
       "Text(0, 0.5, 'Le cout du meilleur element dans le Pool')"
      ]
     },
     "execution_count": 222,
     "metadata": {},
     "output_type": "execute_result"
    },
    {
     "data": {
      "image/png": "[encoded data removed]",
      "text/plain": [
       "<Figure size 640x480 with 1 Axes>"
      ]
     },
     "metadata": {},
     "output_type": "display_data"
    }
   ],
   "source": [
    "plt.plot(agent_wealth['pool_min'])\n",
    "plt.title(\"L'évolution des solutions du Pool\")\n",
    "plt.xlabel(\"Itération\")\n",
    "plt.ylabel(\"Le cout du meilleur element dans le Pool\")"
   ]
  },
  {
   "cell_type": "code",
   "execution_count": null,
   "metadata": {},
   "outputs": [],
   "source": []
  }
 ],
 "metadata": {
  "kernelspec": {
   "display_name": "Python 3",
   "language": "python",
   "name": "python3"
  },
  "language_info": {
   "codemirror_mode": {
    "name": "ipython",
    "version": 3
   },
   "file_extension": ".py",
   "mimetype": "text/x-python",
   "name": "python",
   "nbconvert_exporter": "python",
   "pygments_lexer": "ipython3",
   "version": "3.10.9"
  },
  "orig_nbformat": 4
 },
 "nbformat": 4,
 "nbformat_minor": 2
}
