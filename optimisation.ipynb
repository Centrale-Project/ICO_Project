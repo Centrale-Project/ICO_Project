{
 "cells": [
  {
   "cell_type": "code",
   "execution_count": 15,
   "metadata": {},
   "outputs": [
    {
     "data": {
      "text/plain": [
       "<module 'fonctions' from 'c:\\\\Users\\\\moham\\\\desktop\\\\G2\\\\ICO\\\\Algo_Optimisation_PTV\\\\fonctions.py'>"
      ]
     },
     "execution_count": 15,
     "metadata": {},
     "output_type": "execute_result"
    }
   ],
   "source": [
    "from fonctions import *\n",
    "import fonctions\n",
    "import math\n",
    "import importlib\n",
    "import mesa\n",
    "from math import inf\n",
    "from mesa import Agent\n",
    "from mesa import Model\n",
    "from mesa.time import RandomActivation\n",
    "from mesa.time import BaseScheduler\n",
    "\n",
    "importlib.reload(fonctions)"
   ]
  },
  {
   "cell_type": "code",
   "execution_count": 37,
   "metadata": {},
   "outputs": [
    {
     "data": {
      "text/plain": [
       "\"\\ndata_depot = pd.read_csv('data_depot.csv')\\ndata_client_index = pd.read_csv('data_clients.csv')\\n\\n\\n\\nwith open('distance_matrix.pickle', 'rb') as handle:\\n    distance_matrix = pickle.load(handle)\\n\\nwith open('times.pickle', 'rb') as handle:\\n    times = pickle.load(handle)\\n\\n\\nn = 250\\nV_moy = 60\\ndata_depot = data_depot.iloc[:n]\\ndata_client_index = data_client_index.iloc[:n]\\ndistance_matrix = distance_matrix[:n , :n]\\ntimes = times[:n,:]\\n\\nC = generate_cij(V_moy)\\nb = data_client_index['b']\\na = data_client_index['a']\\nd = data_client_index['d']\\nd_depot = data_depot['DISTANCE_KM']\\nt_depot = 480.0+d + d_depot/V_moy\\n\""
      ]
     },
     "execution_count": 37,
     "metadata": {},
     "output_type": "execute_result"
    }
   ],
   "source": [
    "\"\"\"\n",
    "data_depot = pd.read_csv('data_depot.csv')\n",
    "data_client_index = pd.read_csv('data_clients.csv')\n",
    "\n",
    "\n",
    "\n",
    "with open('distance_matrix.pickle', 'rb') as handle:\n",
    "    distance_matrix = pickle.load(handle)\n",
    "\n",
    "with open('times.pickle', 'rb') as handle:\n",
    "    times = pickle.load(handle)\n",
    "\n",
    "\n",
    "n = 250\n",
    "V_moy = 60\n",
    "data_depot = data_depot.iloc[:n]\n",
    "data_client_index = data_client_index.iloc[:n]\n",
    "distance_matrix = distance_matrix[:n , :n]\n",
    "times = times[:n,:]\n",
    "\n",
    "C = generate_cij(V_moy)\n",
    "b = data_client_index['b']\n",
    "a = data_client_index['a']\n",
    "d = data_client_index['d']\n",
    "d_depot = data_depot['DISTANCE_KM']\n",
    "t_depot = 480.0+d + d_depot/V_moy\n",
    "\"\"\""
   ]
  },
  {
   "cell_type": "code",
   "execution_count": 16,
   "metadata": {},
   "outputs": [],
   "source": [
    "remove_clients = []\n",
    "for i in range(n) : \n",
    "    \n",
    "    if sum(P_clients[:,i]) == 0 : \n",
    "        remove_clients.append(i)\n",
    "        \n",
    "\n",
    "clients = list(set([i for i in range(50)]).difference(remove_clients))"
   ]
  },
  {
   "cell_type": "code",
   "execution_count": 17,
   "metadata": {},
   "outputs": [
    {
     "data": {
      "text/plain": [
       "150"
      ]
     },
     "execution_count": 17,
     "metadata": {},
     "output_type": "execute_result"
    }
   ],
   "source": [
    "n"
   ]
  },
  {
   "cell_type": "code",
   "execution_count": 18,
   "metadata": {},
   "outputs": [],
   "source": [
    "K = code_to_X2( [i for i in range(n)])\n"
   ]
  },
  {
   "cell_type": "code",
   "execution_count": null,
   "metadata": {},
   "outputs": [],
   "source": []
  },
  {
   "cell_type": "code",
   "execution_count": 10,
   "metadata": {},
   "outputs": [],
   "source": [
    "def code_to_X2(code):\n",
    "    # Création de la matrice P0,i\n",
    "\n",
    "    P0i = P_depot\n",
    "    i = get_1_indice(code[0],P0i)\n",
    "\n",
    "     \n",
    "    solution = []\n",
    "    solution1 = [i]\n",
    "    solution.append(i)\n",
    "    P=P0i\n",
    "    k=1\n",
    "    K = []\n",
    "    indicateur = 0\n",
    "    nombre_vehicule = 0\n",
    "    while True :\n",
    "      \n",
    "        #P = np.array([int(bool(condition_valid(t,i,j)[0] and j not in solution)) for j in range(data_depot.shape[0])])\n",
    "        P = np.array([P_clients[i,j]*int(j not in solution)  for j in range(data_depot.shape[0])])\n",
    "\n",
    "\n",
    "        if P.sum() == 0 :\n",
    "            #print(len(solution))\n",
    "            if  len(solution)== len(code):\n",
    "                K.append(solution1)\n",
    "                solution1 = [] \n",
    "                break\n",
    "                \n",
    "            \n",
    "            else:\n",
    "\n",
    "                #P = np.array([int(condition_valid_depot(i)[0] and i not in solution) for i in range(data_depot.shape[0])])\n",
    "                P = np.array([P_depot[i]*bool(i not in solution) and i not in solution for i in range(data_depot.shape[0])])\n",
    "\n",
    "                # modif\n",
    "                \n",
    "                #print('taboun')\n",
    "                \n",
    "                # modif\n",
    "                K.append(solution1)\n",
    "                solution1 = [] \n",
    "                indicateur = 1\n",
    "                \n",
    "                \n",
    "        #print(P)\n",
    "        j = get_1_indice(code[k],P)\n",
    "        solution.append(j)\n",
    "        solution1.append(j)\n",
    "        \n",
    "      \n",
    "        i = j\n",
    "        k+=1\n",
    "\n",
    "\n",
    "    return K"
   ]
  },
  {
   "cell_type": "code",
   "execution_count": 93,
   "metadata": {},
   "outputs": [
    {
     "data": {
      "text/plain": [
       "True"
      ]
     },
     "execution_count": 93,
     "metadata": {},
     "output_type": "execute_result"
    }
   ],
   "source": [
    "L = []\n",
    "\n",
    "for l in K : \n",
    "\n",
    "    L = L+l\n",
    "\n",
    "set(L) == set([i for i in range(n)])"
   ]
  },
  {
   "cell_type": "code",
   "execution_count": null,
   "metadata": {},
   "outputs": [],
   "source": []
  },
  {
   "cell_type": "code",
   "execution_count": null,
   "metadata": {},
   "outputs": [],
   "source": []
  },
  {
   "cell_type": "code",
   "execution_count": null,
   "metadata": {},
   "outputs": [],
   "source": []
  }
 ],
 "metadata": {
  "kernelspec": {
   "display_name": "Python 3",
   "language": "python",
   "name": "python3"
  },
  "language_info": {
   "codemirror_mode": {
    "name": "ipython",
    "version": 3
   },
   "file_extension": ".py",
   "mimetype": "text/x-python",
   "name": "python",
   "nbconvert_exporter": "python",
   "pygments_lexer": "ipython3",
   "version": "3.10.9"
  },
  "orig_nbformat": 4
 },
 "nbformat": 4,
 "nbformat_minor": 2
}
