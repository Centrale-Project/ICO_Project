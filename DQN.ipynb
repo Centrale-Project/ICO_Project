{
 "cells": [
  {
   "cell_type": "code",
   "execution_count": 7,
   "metadata": {},
   "outputs": [],
   "source": [
    "import os.path\n",
    "import sys\n",
    "\n",
    "import os\n",
    "\n",
    "# Récupère le chemin d'accès parent de sys.path[0]\n",
    "parent_dir = os.path.dirname(sys.path[0])\n",
    "\n",
    "sys.path.append(os.path.abspath(parent_dir))\n",
    "import importlib\n",
    "import algorithmes\n",
    "importlib.reload(algorithmes)\n",
    "from algorithmes import *\n",
    "import random\n",
    "import mesa\n",
    "import bisect\n",
    "\n",
    "import gym\n",
    "import numpy as np\n",
    "import random\n",
    "import tensorflow as tf\n",
    "from collections import deque\n"
   ]
  },
  {
   "cell_type": "code",
   "execution_count": 8,
   "metadata": {},
   "outputs": [],
   "source": [
    "nombre_client  = 10\n",
    "\n",
    "STATE_SIZE = 6400\n",
    "ACTION_SIZE = 3\n",
    "LEARNING_RATE = 0.001\n",
    "GAMMA = 0.99\n",
    "BATCH_SIZE = 32\n",
    "MEMORY_SIZE = 1000000\n"
   ]
  },
  {
   "cell_type": "code",
   "execution_count": 27,
   "metadata": {},
   "outputs": [
    {
     "name": "stdout",
     "output_type": "stream",
     "text": [
      "[[0 1 0 0 0 1 0 0 1 0]\n",
      " [0 0 1 0 0 0 0 0 0 0]\n",
      " [0 0 0 1 0 0 0 0 0 0]\n",
      " [0 0 0 0 1 0 0 0 0 0]\n",
      " [1 0 0 0 0 0 0 0 0 0]\n",
      " [0 0 0 0 0 0 0 0 0 1]\n",
      " [0 0 0 0 0 0 0 1 0 0]\n",
      " [1 0 0 0 0 0 0 0 0 0]\n",
      " [0 0 0 0 0 0 1 0 0 0]\n",
      " [1 0 0 0 0 0 0 0 0 0]]\n"
     ]
    }
   ],
   "source": [
    "# Extraire tous les arcs de la route\n",
    "route = [[1,2,3,4],[8,6,7],[5,9]]\n",
    "arcs_voiture = set()\n",
    "for sous_route in route:\n",
    "    sous_route = [0]+sous_route+[0]\n",
    "    arcs_voiture.update(set(zip(sous_route, sous_route[1:])))\n",
    "\n",
    "# Initialiser la matrice d'adjacence avec des zéros\n",
    "n = max(list(itertools.chain.from_iterable(route)))+1\n",
    "matrice_adj = [[0]*n for _ in range(n)]\n",
    "\n",
    "# Mettre à jour les valeurs correspondantes à chaque arc\n",
    "for i, j in arcs_voiture:\n",
    "    matrice_adj[i][j] = 1\n",
    "    #matrice_adj[i][j] = matrice_temps_Cij[i][j]\n",
    "     \n",
    "    \n",
    "print(np.array(matrice_adj))"
   ]
  },
  {
   "cell_type": "code",
   "execution_count": 28,
   "metadata": {},
   "outputs": [],
   "source": [
    "def get_matrice_adjacence(route):\n",
    "     \n",
    "    # Extraire tous les arcs de la route\n",
    "    arcs_voiture = set()\n",
    "    for sous_route in route1:\n",
    "        sous_route = [0]+sous_route+[0]\n",
    "        arcs_voiture.update(set(zip(sous_route, sous_route[1:])))\n",
    "\n",
    "    # Initialiser la matrice d'adjacence avec des zéros\n",
    "    n = max(list(itertools.chain.from_iterable(route)))+1\n",
    "    matrice_adj = [[0]*n for _ in range(n)]\n",
    "\n",
    "    # Mettre à jour les valeurs correspondantes à chaque arc\n",
    "    for i, j in arcs_voiture:\n",
    "        matrice_adj[i][j] = 1\n",
    "        #matrice_adj[i][j] = matrice_temps_Cij[i][j]\n",
    "        \n",
    "    \n",
    "    return(np.array(matrice_adj))\n"
   ]
  },
  {
   "cell_type": "code",
   "execution_count": 9,
   "metadata": {},
   "outputs": [],
   "source": [
    "# genere des solution aléatoire\n",
    "def get_solution_random():\n",
    "    list_client =  [i for i in range(nombre_client)]\n",
    "    random.shuffle(list_client)\n",
    "    solution = get_route_version2(list_client,time_window,Q)\n",
    "    return(solution)\n",
    "\n",
    "## utiliser fonction cout pour calculer le cout d'une fonction"
   ]
  },
  {
   "cell_type": "code",
   "execution_count": null,
   "metadata": {},
   "outputs": [],
   "source": []
  },
  {
   "cell_type": "code",
   "execution_count": null,
   "metadata": {},
   "outputs": [],
   "source": []
  },
  {
   "cell_type": "code",
   "execution_count": null,
   "metadata": {},
   "outputs": [],
   "source": []
  },
  {
   "cell_type": "code",
   "execution_count": null,
   "metadata": {},
   "outputs": [],
   "source": []
  },
  {
   "cell_type": "code",
   "execution_count": null,
   "metadata": {},
   "outputs": [],
   "source": []
  },
  {
   "cell_type": "code",
   "execution_count": null,
   "metadata": {},
   "outputs": [],
   "source": []
  }
 ],
 "metadata": {
  "kernelspec": {
   "display_name": "Python 3",
   "language": "python",
   "name": "python3"
  },
  "language_info": {
   "codemirror_mode": {
    "name": "ipython",
    "version": 3
   },
   "file_extension": ".py",
   "mimetype": "text/x-python",
   "name": "python",
   "nbconvert_exporter": "python",
   "pygments_lexer": "ipython3",
   "version": "3.9.13"
  },
  "orig_nbformat": 4
 },
 "nbformat": 4,
 "nbformat_minor": 2
}
