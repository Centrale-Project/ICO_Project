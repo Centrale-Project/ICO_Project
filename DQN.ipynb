{
 "cells": [
  {
   "cell_type": "code",
   "execution_count": 1,
   "metadata": {},
   "outputs": [],
   "source": [
    "import os.path\n",
    "import sys\n",
    "\n",
    "import os\n",
    "\n",
    "# Récupère le chemin d'accès parent de sys.path[0]\n",
    "parent_dir = os.path.dirname(sys.path[0])\n",
    "\n",
    "sys.path.append(os.path.abspath(parent_dir))\n",
    "import importlib\n",
    "import algorithmes\n",
    "importlib.reload(algorithmes)\n",
    "from algorithmes import *\n",
    "import random\n",
    "import mesa\n",
    "import bisect\n",
    "\n",
    "import gym\n",
    "import numpy as np\n",
    "import random\n",
    "import tensorflow as tf\n",
    "from collections import deque\n",
    "import networkx as nx\n",
    "import matplotlib.pyplot as plt\n",
    "\n"
   ]
  },
  {
   "cell_type": "code",
   "execution_count": 2,
   "metadata": {},
   "outputs": [],
   "source": [
    "nombre_client  = 10\n",
    "\n",
    "STATE_SIZE = 6400\n",
    "ACTION_SIZE = 3\n",
    "LEARNING_RATE = 0.001\n",
    "GAMMA = 0.99\n",
    "BATCH_SIZE = 32\n",
    "MEMORY_SIZE = 1000000\n"
   ]
  },
  {
   "cell_type": "code",
   "execution_count": 3,
   "metadata": {},
   "outputs": [
    {
     "name": "stdout",
     "output_type": "stream",
     "text": [
      "[[1 1 0 0 0 1 0 0 1 0]\n",
      " [0 0 1 0 0 0 0 0 0 0]\n",
      " [0 0 0 1 0 0 0 0 0 0]\n",
      " [0 0 0 0 1 0 0 0 0 0]\n",
      " [1 0 0 0 0 0 0 0 0 0]\n",
      " [0 0 0 0 0 0 0 0 0 1]\n",
      " [0 0 0 0 0 0 0 1 0 0]\n",
      " [1 0 0 0 0 0 0 0 0 0]\n",
      " [0 0 0 0 0 0 1 0 0 0]\n",
      " [1 0 0 0 0 0 0 0 0 0]]\n"
     ]
    }
   ],
   "source": [
    "# Extraire tous les arcs de la route\n",
    "route = [[0,1,2,3,4],[8,6,7],[5,9]]\n",
    "arcs_voiture = set()\n",
    "for sous_route in route:\n",
    "    sous_route = [0]+sous_route+[0]\n",
    "    arcs_voiture.update(set(zip(sous_route, sous_route[1:])))\n",
    "\n",
    "# Initialiser la matrice d'adjacence avec des zéros\n",
    "n = max(list(itertools.chain.from_iterable(route)))+1\n",
    "matrice_adj = [[0]*n for _ in range(n)]\n",
    "\n",
    "# Mettre à jour les valeurs correspondantes à chaque arc\n",
    "for i, j in arcs_voiture:\n",
    "    matrice_adj[i][j] = 1\n",
    "    #matrice_adj[i][j] = matrice_temps_Cij[i][j]\n",
    "     \n",
    "    \n",
    "print(np.array(matrice_adj))"
   ]
  },
  {
   "cell_type": "code",
   "execution_count": 4,
   "metadata": {},
   "outputs": [],
   "source": [
    "def get_matrice_adjacence(route):\n",
    "     \n",
    "\n",
    "    # Extraire tous les arcs de la route\n",
    "    arcs_voiture = set()\n",
    "    for sous_route in route:\n",
    "        sous_route = [-1]+sous_route+[-1]\n",
    "        arcs_voiture.update(set(zip(sous_route, sous_route[1:])))\n",
    "\n",
    "    # Initialiser la matrice d'adjacence avec des zéros\n",
    "    n = max(list(itertools.chain.from_iterable(route)))+2\n",
    "    matrice_adj = [[0]*n for _ in range(n)]\n",
    "\n",
    "    # Mettre à jour les valeurs correspondantes à chaque arc\n",
    "    for i, j in arcs_voiture:\n",
    "        matrice_adj[i+1][j+1] = 1\n",
    "        #matrice_adj[i+1][j+1] = matrice_temps_Cij[i][j]\n",
    "        \n",
    "        \n",
    "    \n",
    "    return(np.array(matrice_adj))\n"
   ]
  },
  {
   "cell_type": "code",
   "execution_count": 5,
   "metadata": {},
   "outputs": [
    {
     "data": {
      "text/plain": [
       "array([[0, 1, 0, 0, 0, 0, 1, 0, 0, 1, 0],\n",
       "       [0, 0, 1, 0, 0, 0, 0, 0, 0, 0, 0],\n",
       "       [0, 0, 0, 1, 0, 0, 0, 0, 0, 0, 0],\n",
       "       [0, 0, 0, 0, 1, 0, 0, 0, 0, 0, 0],\n",
       "       [0, 0, 0, 0, 0, 1, 0, 0, 0, 0, 0],\n",
       "       [1, 0, 0, 0, 0, 0, 0, 0, 0, 0, 0],\n",
       "       [0, 0, 0, 0, 0, 0, 0, 0, 0, 0, 1],\n",
       "       [0, 0, 0, 0, 0, 0, 0, 0, 1, 0, 0],\n",
       "       [1, 0, 0, 0, 0, 0, 0, 0, 0, 0, 0],\n",
       "       [0, 0, 0, 0, 0, 0, 0, 1, 0, 0, 0],\n",
       "       [1, 0, 0, 0, 0, 0, 0, 0, 0, 0, 0]])"
      ]
     },
     "execution_count": 5,
     "metadata": {},
     "output_type": "execute_result"
    }
   ],
   "source": [
    "get_matrice_adjacence(route)"
   ]
  },
  {
   "cell_type": "code",
   "execution_count": 6,
   "metadata": {},
   "outputs": [],
   "source": [
    "time_window = 600"
   ]
  },
  {
   "cell_type": "code",
   "execution_count": 7,
   "metadata": {},
   "outputs": [],
   "source": [
    "# genere des solution aléatoire\n",
    "def get_solution_random(nombre_client):\n",
    "    list_client =  [i for i in range(nombre_client)]\n",
    "    random.shuffle(list_client)\n",
    "    solution = get_route_version2(list_client,time_window,Q)\n",
    "    return(solution)\n",
    "\n",
    "## utiliser fonction cout pour calculer le cout d'une fonction"
   ]
  },
  {
   "cell_type": "code",
   "execution_count": 8,
   "metadata": {},
   "outputs": [],
   "source": [
    "route = get_solution_random(nombre_client)"
   ]
  },
  {
   "cell_type": "code",
   "execution_count": 9,
   "metadata": {},
   "outputs": [],
   "source": [
    "def get_voisinage(i,route):\n",
    "    G= list(itertools.chain.from_iterable(route))\n",
    "    G[i],G[i+1] = G[i+1],G[i]\n",
    "    return(get_route_version2(G,time_window,Q))\n",
    "    "
   ]
  },
  {
   "cell_type": "code",
   "execution_count": 10,
   "metadata": {},
   "outputs": [],
   "source": [
    "def plot_routes(Solution, pos):\n",
    "    arcs_voiture = set()\n",
    "    for sous_route in Solution:\n",
    "        sous_route = [\"dp\"]+sous_route+[\"dp\"]\n",
    "        arcs_voiture.update(set(zip(sous_route, sous_route[1:])))\n",
    "\n",
    "\n",
    "\n",
    "    # Define the edges in the graph\n",
    "    edges = arcs_voiture\n",
    "\n",
    "\n",
    "\n",
    "    \n",
    "    # Create a directed graph from the edge list\n",
    "    G = nx.DiGraph(edges)\n",
    "    Colors = [\"red\",\"green\",\"blue\",\"purple\",\"black\",\"yellow\",\"gray\",\"violet\"]\n",
    "\n",
    "    nx.draw(G, pos, with_labels=True)\n",
    "\n",
    "    # Draw the edges with fixed positions\n",
    "    for i in range(len(Solution)):\n",
    "        sous_route = Solution[i]\n",
    "    \n",
    "        sous_route = [\"dp\"] + sous_route + [\"dp\"]\n",
    "        edgelist = set(zip(sous_route, sous_route[1:]))\n",
    "        nx.draw_networkx_edges(G, pos, edgelist=edgelist, width=2, edge_color=Colors[i], arrows=True)\n",
    "      \n",
    "\n",
    "    # Show the plot\n",
    "   \n",
    " \n",
    "    plt.show()\n",
    "\n",
    "\n",
    "    "
   ]
  },
  {
   "cell_type": "code",
   "execution_count": 25,
   "metadata": {},
   "outputs": [],
   "source": [
    "CUSTOMER_LATITUDE_MAX = data_client_index['CUSTOMER_LATITUDE'].max()/3\n",
    "CUSTOMER_LONGITUDE_MAX = data_client_index['CUSTOMER_LONGITUDE'].max()/3"
   ]
  },
  {
   "cell_type": "code",
   "execution_count": 34,
   "metadata": {},
   "outputs": [
    {
     "data": {
      "image/png": "[encoded data removed]",
      "text/plain": [
       "<Figure size 640x480 with 1 Axes>"
      ]
     },
     "metadata": {},
     "output_type": "display_data"
    }
   ],
   "source": [
    "import time\n",
    "from IPython.display import clear_output\n",
    "nombre_client = 15\n",
    "# Specify fixed positions for the nodes\n",
    "route = get_solution_random(nombre_client)\n",
    "\n",
    "pos = {i: (data_client_index['CUSTOMER_LATITUDE'].iloc[i],data_client_index['CUSTOMER_LONGITUDE'].iloc[i]) for i in [i for i in range(nombre_client)]}\n",
    "pos['dp'] = (data_client_index['CUSTOMER_LATITUDE'].mean(),data_client_index['CUSTOMER_LONGITUDE'].mean())\n",
    "plot_routes(route, pos)\n",
    "\n",
    "for i in range(nombre_client-1):\n",
    "    clear_output(wait=True)\n",
    "    \n",
    "    plot_routes(get_voisinage(i,route),pos)\n",
    "\n",
    "    time.sleep(1)"
   ]
  },
  {
   "cell_type": "code",
   "execution_count": 35,
   "metadata": {},
   "outputs": [],
   "source": [
    "import gym\n",
    "from gym import spaces\n",
    "import numpy as np\n",
    "\n",
    "class CustomEnvironment(gym.Env):\n",
    "    def __init__(self):\n",
    "        self.observation_space = spaces.Box(low=0, high=1, shape=(4,))\n",
    "        self.action_space = spaces.Discrete(2)\n",
    "        self.state = np.zeros(4)\n",
    "        self.done = False\n",
    "        self.reward_range = (-1, 1)\n",
    "\n",
    "    def reset(self):\n",
    "        self.state = np.zeros(4)\n",
    "        self.done = False\n",
    "        return self.state\n",
    "\n",
    "    def step(self, action):\n",
    "        if action == 0:\n",
    "            self.state[0] += 0.1\n",
    "        else:\n",
    "            self.state[0] -= 0.1\n",
    "\n",
    "        self.state[1:] += self.state[:-1]\n",
    "        self.state = np.clip(self.state, 0, 1)\n",
    "\n",
    "        reward = self._get_reward()\n",
    "        self.done = self._is_done()\n",
    "\n",
    "        return self.state, reward, self.done, {}\n",
    "\n",
    "    def _get_reward(self):\n",
    "        if self.state[-1] >= 1:\n",
    "            return 1\n",
    "        else:\n",
    "            return -1\n",
    "\n",
    "    def _is_done(self):\n",
    "        return self.state[-1] >= 1\n"
   ]
  },
  {
   "cell_type": "code",
   "execution_count": 39,
   "metadata": {},
   "outputs": [],
   "source": [
    "class DeepQNetwork:\n",
    "    def __init__(self, state_size, action_size, learning_rate, name='DeepQNetwork'):\n",
    "        self.state_size = state_size\n",
    "        self.action_size = action_size\n",
    "        self.learning_rate = learning_rate\n",
    "        \n",
    "        with tf.variable_scope(name):\n",
    "            self.inputs = tf.placeholder(tf.float32, [None, state_size], name='inputs')\n",
    "            self.actions = tf.placeholder(tf.float32, [None, action_size], name='actions')\n",
    "            self.target_Q = tf.placeholder(tf.float32, [None], name='target')\n",
    "            \n",
    "            # Fully connected layer\n",
    "            self.fc = tf.layers.dense(inputs=self.inputs, units=64, activation=tf.nn.relu)\n",
    "            \n",
    "            # Output layer\n",
    "            self.output = tf.layers.dense(inputs=self.fc, units=action_size)\n",
    "            \n",
    "            # Q values for actions\n",
    "            self.Q = tf.reduce_sum(tf.multiply(self.output, self.actions), axis=1)\n",
    "            \n",
    "            # Loss function\n",
    "            self.loss = tf.reduce_mean(tf.square(self.target_Q - self.Q))\n",
    "            \n",
    "            # Optimizer\n",
    "            self.optimizer = tf.train.AdamOptimizer(self.learning_rate).minimize(self.loss)\n"
   ]
  },
  {
   "cell_type": "code",
   "execution_count": 40,
   "metadata": {},
   "outputs": [],
   "source": [
    "class DQNAgent:\n",
    "    def __init__(self, state_size, action_size, learning_rate, gamma, batch_size, memory_size):\n",
    "        self.state_size = state_size\n",
    "        self.action_size = action_size\n",
    "        self.learning_rate = learning_rate\n",
    "        self.gamma = gamma\n",
    "        self.batch_size = batch_size\n",
    "        self.memory = deque(maxlen=memory_size)\n",
    "        self.epsilon = 1.0  # Exploration rate\n",
    "        self.epsilon_decay = 0.995\n",
    "        self.epsilon_min = 0.01\n",
    "        self.model = DeepQNetwork(state_size, action_size, learning_rate)\n",
    "        self.target_model = DeepQNetwork(state_size, action_size, learning_rate, name='TargetDeepQNetwork')\n",
    "        \n",
    "    def act(self, state):\n",
    "        if np.random.rand() <= self.epsilon:\n",
    "            return random.randrange(self.action_size)\n",
    "        Q_values = self.model.sess.run(self.model.output, feed_dict={self.model.inputs: state.reshape(1, self.state_size)})\n",
    "        return np.argmax(Q_values[0])\n",
    "    \n",
    "    def remember(self, state, action, reward, next_state, done):\n",
    "        self.memory.append((state, action, reward, next_state, done))\n",
    "        \n",
    "    def replay(self):\n",
    "        if len(self.memory) < self.batch_size:\n",
    "            return\n",
    "        \n",
    "        minibatch = random.sample(self.memory, self.batch_size)\n",
    "        states = np.zeros((self.batch_size, self.state_size))\n",
    "        actions = np.zeros((self.batch_size, self.action_size))\n",
    "        rewards = np.zeros((self.batch_size,))\n",
    "        next_states = np.zeros((self.batch_size, self.state_size))\n",
    "        dones = np.zeros((self.batch_size,))\n",
    "        \n",
    "        for i in range(self.batch_size):\n",
    "            state, action, reward, next_state, done = minibatch[i]\n",
    "            states[i] = state\n",
    "            actions[i] = action\n",
    "            rewards[i] = reward\n",
    "            next_states[i] = next_state\n",
    "            dones[i] = done\n",
    "            \n",
    "        target_Qs = self.target_model.sess.run(self.target_model.output, feed_dict={self.target_model.inputs: next_states})\n",
    "        targets = rewards + self.gamma * np.max(target_Qs, axis=1) * (1 - dones)\n",
    "        \n",
    "        loss, _ = self.model.sess.run([self.model.loss, self.model.optimizer], \n",
    "                                      feed_dict={self.model.inputs: states, \n",
    "                                                 self.model.actions: actions, \n",
    "                                                 self.model.target_Q: targets})\n",
    "        \n",
    "        if self.epsilon > self.epsilon_min:\n",
    "            self.epsilon *= self.epsilon_decay\n",
    "            \n",
    "    def update_target_model(self):\n",
    "        self.target_model.model.set_weights(self.model.model.get_weights())\n"
   ]
  },
  {
   "cell_type": "code",
   "execution_count": 38,
   "metadata": {},
   "outputs": [
    {
     "ename": "AttributeError",
     "evalue": "module 'tensorflow' has no attribute 'variable_scope'",
     "output_type": "error",
     "traceback": [
      "\u001b[1;31m---------------------------------------------------------------------------\u001b[0m",
      "\u001b[1;31mAttributeError\u001b[0m                            Traceback (most recent call last)",
      "Cell \u001b[1;32mIn[38], line 10\u001b[0m\n\u001b[0;32m      7\u001b[0m memory_size \u001b[39m=\u001b[39m \u001b[39m10000\u001b[39m\n\u001b[0;32m      8\u001b[0m episodes \u001b[39m=\u001b[39m \u001b[39m500\u001b[39m\n\u001b[1;32m---> 10\u001b[0m agent \u001b[39m=\u001b[39m DQNAgent(state_size, action_size, learning_rate, gamma, batch_size, memory_size)\n\u001b[0;32m     12\u001b[0m \u001b[39mfor\u001b[39;00m episode \u001b[39min\u001b[39;00m \u001b[39mrange\u001b[39m(episodes):\n\u001b[0;32m     13\u001b[0m     state \u001b[39m=\u001b[39m env\u001b[39m.\u001b[39mreset()\n",
      "Cell \u001b[1;32mIn[37], line 12\u001b[0m, in \u001b[0;36mDQNAgent.__init__\u001b[1;34m(self, state_size, action_size, learning_rate, gamma, batch_size, memory_size)\u001b[0m\n\u001b[0;32m     10\u001b[0m \u001b[39mself\u001b[39m\u001b[39m.\u001b[39mepsilon_decay \u001b[39m=\u001b[39m \u001b[39m0.995\u001b[39m\n\u001b[0;32m     11\u001b[0m \u001b[39mself\u001b[39m\u001b[39m.\u001b[39mepsilon_min \u001b[39m=\u001b[39m \u001b[39m0.01\u001b[39m\n\u001b[1;32m---> 12\u001b[0m \u001b[39mself\u001b[39m\u001b[39m.\u001b[39mmodel \u001b[39m=\u001b[39m DeepQNetwork(state_size, action_size, learning_rate)\n\u001b[0;32m     13\u001b[0m \u001b[39mself\u001b[39m\u001b[39m.\u001b[39mtarget_model \u001b[39m=\u001b[39m DeepQNetwork(state_size, action_size, learning_rate, name\u001b[39m=\u001b[39m\u001b[39m'\u001b[39m\u001b[39mTargetDeepQNetwork\u001b[39m\u001b[39m'\u001b[39m)\n",
      "Cell \u001b[1;32mIn[36], line 7\u001b[0m, in \u001b[0;36mDeepQNetwork.__init__\u001b[1;34m(self, state_size, action_size, learning_rate, name)\u001b[0m\n\u001b[0;32m      4\u001b[0m \u001b[39mself\u001b[39m\u001b[39m.\u001b[39maction_size \u001b[39m=\u001b[39m action_size\n\u001b[0;32m      5\u001b[0m \u001b[39mself\u001b[39m\u001b[39m.\u001b[39mlearning_rate \u001b[39m=\u001b[39m learning_rate\n\u001b[1;32m----> 7\u001b[0m \u001b[39mwith\u001b[39;00m tf\u001b[39m.\u001b[39;49mvariable_scope(name):\n\u001b[0;32m      8\u001b[0m     \u001b[39mself\u001b[39m\u001b[39m.\u001b[39minputs \u001b[39m=\u001b[39m tf\u001b[39m.\u001b[39mplaceholder(tf\u001b[39m.\u001b[39mfloat32, [\u001b[39mNone\u001b[39;00m, state_size], name\u001b[39m=\u001b[39m\u001b[39m'\u001b[39m\u001b[39minputs\u001b[39m\u001b[39m'\u001b[39m)\n\u001b[0;32m      9\u001b[0m     \u001b[39mself\u001b[39m\u001b[39m.\u001b[39mactions \u001b[39m=\u001b[39m tf\u001b[39m.\u001b[39mplaceholder(tf\u001b[39m.\u001b[39mfloat32, [\u001b[39mNone\u001b[39;00m, action_size], name\u001b[39m=\u001b[39m\u001b[39m'\u001b[39m\u001b[39mactions\u001b[39m\u001b[39m'\u001b[39m)\n",
      "\u001b[1;31mAttributeError\u001b[0m: module 'tensorflow' has no attribute 'variable_scope'"
     ]
    }
   ],
   "source": [
    "env = CustomEnvironment()\n",
    "state_size = env.observation_space.shape[0]\n",
    "action_size = env.action_space.n\n",
    "learning_rate = 0.001\n",
    "gamma = 0.99\n",
    "batch_size = 32\n",
    "memory_size = 10000\n",
    "episodes = 500\n",
    "\n",
    "agent = DQNAgent(state_size, action_size, learning_rate, gamma, batch_size, memory_size)\n",
    "\n",
    "for episode in range(episodes):\n",
    "    state = env.reset()\n",
    "    total_reward = 0\n",
    "    done = False\n",
    "    while not done:\n",
    "        action = agent.act(state)\n",
    "        next_state, reward, done, _ = env.step(action)\n",
    "        agent.remember(state, action, reward, next_state, done)\n",
    "        state = next_state\n",
    "        agent.replay()\n",
    "        total_reward += reward\n",
    "    agent.update_target_model()\n",
    "    print('Episode:', episode, 'Total reward:', total_reward, 'Epsilon:', agent.epsilon)\n"
   ]
  }
 ],
 "metadata": {
  "kernelspec": {
   "display_name": "Python 3",
   "language": "python",
   "name": "python3"
  },
  "language_info": {
   "codemirror_mode": {
    "name": "ipython",
    "version": 3
   },
   "file_extension": ".py",
   "mimetype": "text/x-python",
   "name": "python",
   "nbconvert_exporter": "python",
   "pygments_lexer": "ipython3",
   "version": "3.9.13"
  },
  "orig_nbformat": 4
 },
 "nbformat": 4,
 "nbformat_minor": 2
}
