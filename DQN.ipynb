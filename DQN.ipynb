{
 "cells": [
  {
   "cell_type": "code",
   "execution_count": 1,
   "metadata": {},
   "outputs": [],
   "source": [
    "import os.path\n",
    "import sys\n",
    "\n",
    "import os\n",
    "\n",
    "# Récupère le chemin d'accès parent de sys.path[0]\n",
    "parent_dir = os.path.dirname(sys.path[0])\n",
    "\n",
    "sys.path.append(os.path.abspath(parent_dir))\n",
    "import importlib\n",
    "import algorithmes\n",
    "importlib.reload(algorithmes)\n",
    "from algorithmes import *\n",
    "import random\n",
    "import mesa\n",
    "import bisect"
   ]
  },
  {
   "cell_type": "code",
   "execution_count": 3,
   "metadata": {},
   "outputs": [],
   "source": [
    "def get_matrice_adjacence(route):\n",
    "     \n",
    "    # Extraire tous les arcs de la route\n",
    "    arcs_voiture = set()\n",
    "    for sous_route in route1:\n",
    "        sous_route = [0]+sous_route+[0]\n",
    "        arcs_voiture.update(set(zip(sous_route, sous_route[1:])))\n",
    "\n",
    "    # Initialiser la matrice d'adjacence avec des zéros\n",
    "    n = len(matrice_temps_Cij)\n",
    "    matrice_adj = [[0]*n for _ in range(n)]\n",
    "\n",
    "    # Mettre à jour les valeurs correspondantes à chaque arc\n",
    "    for i, j in arcs_voiture:\n",
    "        matrice_adj[i][j] = 1\n",
    "        matrice_adj[j][i] = 1\n",
    "        #matrice_adj[i][j] = matrice_temps_Cij[i][j]\n",
    "        #matrice_adj[j][i] = matrice_temps_Cij[j][i]\n",
    "    \n",
    "    return(np.array(matrice_adj))\n"
   ]
  },
  {
   "cell_type": "code",
   "execution_count": null,
   "metadata": {},
   "outputs": [],
   "source": []
  }
 ],
 "metadata": {
  "kernelspec": {
   "display_name": "Python 3",
   "language": "python",
   "name": "python3"
  },
  "language_info": {
   "codemirror_mode": {
    "name": "ipython",
    "version": 3
   },
   "file_extension": ".py",
   "mimetype": "text/x-python",
   "name": "python",
   "nbconvert_exporter": "python",
   "pygments_lexer": "ipython3",
   "version": "3.9.13"
  },
  "orig_nbformat": 4
 },
 "nbformat": 4,
 "nbformat_minor": 2
}
