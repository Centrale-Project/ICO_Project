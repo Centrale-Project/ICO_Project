{
 "cells": [
  {
   "cell_type": "code",
   "execution_count": 1,
   "id": "2c1e241f",
   "metadata": {},
   "outputs": [],
   "source": [
    "from mesa import Agent, Model\n",
    "from mesa.time import RandomActivation\n",
    "from mesa.datacollection import DataCollector\n",
    "import random\n"
   ]
  },
  {
   "cell_type": "code",
   "execution_count": null,
   "id": "915b153b",
   "metadata": {},
   "outputs": [],
   "source": [
    "class MyAgent(Agent):\n",
    "    def __init__(self,unique_id,algo,model):\n",
    "        super().__init__(unique_id, model)\n",
    "        self.solution = None\n",
    "        self.algo = algo\n",
    "\n",
    "    def step(self,param):\n",
    "        # Les agents sélectionnent une solution au hasard\n",
    "        self.solution =self.algo(param)"
   ]
  },
  {
   "cell_type": "code",
   "execution_count": null,
   "id": "fc58aa46",
   "metadata": {},
   "outputs": [],
   "source": [
    "sol = MyAgent.step()"
   ]
  },
  {
   "cell_type": "code",
   "execution_count": null,
   "id": "00540b80",
   "metadata": {},
   "outputs": [],
   "source": [
    "class MyModel(Model):\n",
    "    def __init__(self):\n",
    "        self.schedule = RandomActivation(self)\n",
    "        self.agents = []\n",
    "        agent_Tabou = MyAgent(0, self,Tabou)\n",
    "        self.schedule.add(agent_Tabou)\n",
    "        self.agents.append(agent_Tabou)\n",
    "        agent_RS = MyAgent(1,self,recuit_simul)\n",
    "        self.schedule.add(agent_RS)\n",
    "        self.agents.append(agent_RS)\n",
    "        agent_genetique = MyAgent(2, self,genetique)\n",
    "        self.schedule.add(agent_genetique)\n",
    "        self.agents.append(agent_genetique)\n",
    "        \n",
    "\n",
    "    def step(self):\n",
    "        self.schedule.step()\n",
    "\n",
    "    def is_criteria_valid(self):\n",
    "        # Le critère est que la somme des solutions doit être supérieure à 15\n",
    "        \n",
    "\n",
    "    def get_solutions(self):\n",
    "        return [agent.solution for agent in self.schedule.agents]\n"
   ]
  }
 ],
 "metadata": {
  "kernelspec": {
   "display_name": "Python 3 (ipykernel)",
   "language": "python",
   "name": "python3"
  },
  "language_info": {
   "codemirror_mode": {
    "name": "ipython",
    "version": 3
   },
   "file_extension": ".py",
   "mimetype": "text/x-python",
   "name": "python",
   "nbconvert_exporter": "python",
   "pygments_lexer": "ipython3",
   "version": "3.10.6"
  }
 },
 "nbformat": 4,
 "nbformat_minor": 5
}
