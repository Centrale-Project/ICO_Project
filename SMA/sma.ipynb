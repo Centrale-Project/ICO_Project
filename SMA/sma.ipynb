{
 "cells": [
  {
   "cell_type": "code",
   "execution_count": 5,
   "metadata": {
    "collapsed": true,
    "pycharm": {
     "is_executing": true
    }
   },
   "outputs": [],
   "source": [
    "from mesa import Agent, Model\n",
    "from mesa.time import RandomActivation\n",
    "from mesa.datacollection import DataCollector\n",
    "import random"
   ]
  },
  {
   "cell_type": "code",
   "execution_count": 7,
   "metadata": {
    "collapsed": false
   },
   "outputs": [],
   "source": [
    "class Agent_Tabou(Agent):\n",
    "    def __init__(self, liste_initiale, taille_tabou, max_iterations):\n",
    "        self.liste_initiale = liste_initiale\n",
    "        self.taille_tabou = taille_tabou\n",
    "        self.max_iterations = max_iterations\n",
    "        self.solution = None\n",
    "\n",
    "\n",
    "    def step(self):\n",
    "        self.solution = tabou(liste_initiale, taille_tabou, max_iterations)[0]\n"
   ]
  },
  {
   "cell_type": "code",
   "execution_count": 8,
   "metadata": {
    "collapsed": false
   },
   "outputs": [],
   "source": [
    "class Agent_Genetique(Agent):\n",
    "    def __init__(self,taille_population, taille_solution, taux_mutation, max_iterations):\n",
    "        self.taille_population = taille_population\n",
    "        self.taille_solution = taille_solution\n",
    "        self.taux_mutation = taux_mutation\n",
    "        self.max_iterations = max_iterations\n",
    "        self.solution =None\n",
    "    def step(self):\n",
    "        self.solution = genetique(taille_population, taille_solution, taux_mutation, max_iterations)[0]"
   ]
  },
  {
   "cell_type": "code",
   "execution_count": null,
   "metadata": {},
   "outputs": [],
   "source": [
    "class Agent_RS(Agent):\n",
    "    def __init__(self, initial_state,  temperature_initiale=1.0, temperature_finale=1e-8, alpha=0.99):\n",
    "        self.initial_state = initial_state\n",
    "        self.temperature_initiale=temperature_initiale\n",
    "        self.temperature_finale = temperature_finale\n",
    "        self.alpha = alpha\n",
    "        self.solution = None\n",
    "    def step(self):\n",
    "        self.solution = recuit_simule(initial_state,  temperature_initiale=1.0, temperature_finale=1e-8, alpha=0.99)[0]"
   ]
  },
  {
   "cell_type": "code",
   "execution_count": null,
   "metadata": {},
   "outputs": [],
   "source": [
    "class MyModel(Model):\n",
    "    def __init__(self):\n",
    "        self.schedule = RandomActivation(self)\n",
    "        self.agents = []\n",
    "        agent_Tabou = Agent_Tabou()\n",
    "        self.schedule.add(agent_Tabou)\n",
    "        self.agents.append(agent_Tabou)\n",
    "        agent_RS =Agent_RS()\n",
    "        self.schedule.add(agent_RS)\n",
    "        self.agents.append(agent_RS)\n",
    "        agent_genetique = Agent_Genetique()\n",
    "        self.schedule.add(agent_genetique)\n",
    "        self.agents.append(agent_genetique)\n",
    "        \n",
    "\n",
    "    def step(self):\n",
    "        self.schedule.step()\n",
    "\n",
    "    def is_criteria_valid(self):\n",
    "        \n",
    "        \n",
    "\n",
    "    def get_solutions(self):\n",
    "        return [agent.solution for agent in self.schedule.agents]"
   ]
  }
 ],
 "metadata": {
  "kernelspec": {
   "display_name": "base",
   "language": "python",
   "name": "python3"
  },
  "language_info": {
   "codemirror_mode": {
    "name": "ipython",
    "version": 3
   },
   "file_extension": ".py",
   "mimetype": "text/x-python",
   "name": "python",
   "nbconvert_exporter": "python",
   "pygments_lexer": "ipython3",
   "version": "3.9.13"
  }
 },
 "nbformat": 4,
 "nbformat_minor": 0
}
