{
 "cells": [
  {
   "cell_type": "code",
   "execution_count": 120,
   "metadata": {},
   "outputs": [],
   "source": [
    "import os.path\n",
    "import sys\n",
    "\n",
    "import os\n",
    "\n",
    "# Récupère le chemin d'accès parent de sys.path[0]\n",
    "parent_dir = os.path.dirname(sys.path[0])\n",
    "\n",
    "sys.path.append(os.path.abspath(parent_dir))\n",
    "import importlib\n",
    "import algorithmes\n",
    "importlib.reload(algorithmes)\n",
    "from algorithmes import *\n",
    "import random\n",
    "import mesa"
   ]
  },
  {
   "cell_type": "code",
   "execution_count": null,
   "metadata": {},
   "outputs": [],
   "source": []
  },
  {
   "attachments": {},
   "cell_type": "markdown",
   "metadata": {},
   "source": [
    "## Création des Agents"
   ]
  },
  {
   "cell_type": "code",
   "execution_count": 122,
   "metadata": {},
   "outputs": [],
   "source": [
    "class Recuit_sem(mesa.Agent):\n",
    "    \"\"\"An agent with fixed initial wealth.\"\"\"\n",
    "\n",
    "    def __init__(self, model,parameters):\n",
    "        \n",
    "        super().__init__(self,model)\n",
    "        self.parameters = parameters\n",
    "        self.history = []\n",
    "\n",
    "    def execute(self):\n",
    "\n",
    "        solution_index = np.random.randint(len(self.model.Pool))\n",
    "        new_solution, meilleure_valeur , _  = recuit_simule(self.model.Pool[solution_index],self.parameters['temperature_initiale'] , self.parameters['temperature_finale'],alpha=0.99)\n",
    "        self.model.Pool[solution_index] = new_solution\n",
    "\n",
    "            \n",
    "    def step(self):\n",
    "        \n",
    "        self.execute()"
   ]
  },
  {
   "cell_type": "code",
   "execution_count": 127,
   "metadata": {},
   "outputs": [],
   "source": [
    "class Tabou(mesa.Agent):\n",
    "    \"\"\"An agent with fixed initial wealth.\"\"\"\n",
    "\n",
    "    def __init__(self,  model,parameters):\n",
    "        super().__init__(self,model)\n",
    "      \n",
    "        self.parameters = parameters\n",
    "        self.history = []\n",
    "        self.initial_solution = None\n",
    "\n",
    "    def execute(self):\n",
    "\n",
    "        solution_index = np.random.randint(len(self.model.Pool))\n",
    "        new_solution, meilleure_valeur , _ = tabou(self.model.Pool[solution_index] ,self.parameters['taille_tabou'],self.parameters['max_iterations'],self.parameters['n_voisin'])\n",
    "        self.model.Pool[solution_index] = new_solution\n",
    "\n",
    "            \n",
    "    def step(self):\n",
    "        self.execute()"
   ]
  },
  {
   "cell_type": "code",
   "execution_count": 130,
   "metadata": {},
   "outputs": [],
   "source": [
    "class Genetic(mesa.Agent):\n",
    "    \"\"\"An agent with fixed initial wealth.\"\"\"\n",
    "\n",
    "    def __init__(self,  model,parameters):\n",
    "        super().__init__(self,model)\n",
    "      \n",
    "        self.parameters = parameters\n",
    "\n",
    "\n",
    "    def execute(self):\n",
    "\n",
    "        new_solution, meilleure_valeur , _ ,population = genetique(self.model.Pool,self.parameters['taux_mutation'],self.parameters['max_iterations'])\n",
    "        self.model.Pool = copy.deepcopy(population)\n",
    "\n",
    "            \n",
    "    def step(self):\n",
    "        self.execute()"
   ]
  },
  {
   "cell_type": "code",
   "execution_count": 132,
   "metadata": {},
   "outputs": [],
   "source": [
    "def compute_Pool_avg(model):\n",
    "    \n",
    "    couts = [cout(get_route_version2(model.Pool[i], time_window, Q)) for i in range(len(model.Pool))]\n",
    "    return sum(couts)/len(couts)\n",
    "\n",
    "\n",
    "def get_the_best_solution(model):\n",
    "\n",
    "    couts = np.array([cout(get_route_version2(model.Pool[i], time_window, Q)) for i in range(len(model.Pool))])\n",
    "\n",
    "    return model.Pool[np.argmin(couts)]"
   ]
  },
  {
   "cell_type": "code",
   "execution_count": 161,
   "metadata": {},
   "outputs": [],
   "source": [
    "## Les paramètres des Algorithmes heuristique\n",
    "num_clients = nombre_client\n",
    "parameters = {'rs' : {'temperature_initiale' : 1  , 'temperature_finale' : 1e-1 } , 'tabou' : {'taille_tabou' : nombre_client , 'max_iterations' : 100 , 'n_voisin' : 2} , 'genetic'  : {'taux_mutation' : 0.5 ,'max_iterations' : 10 }}"
   ]
  },
  {
   "cell_type": "code",
   "execution_count": 157,
   "metadata": {},
   "outputs": [],
   "source": [
    "class SMA(mesa.Model):\n",
    "    \"\"\"A model with some number of agents.\"\"\"\n",
    "\n",
    "\n",
    "    def __init__(self,Pool,parameters):\n",
    "        \n",
    "        self.schedule = mesa.time.RandomActivation(self)\n",
    "        \n",
    "        # solution de départ\n",
    "        self.Pool = Pool\n",
    "        self.history_solution = []\n",
    "\n",
    "        # Instanciation des agents \n",
    "        self.optimazers = [Recuit_sem(self,parameters['rs']),Tabou(self,parameters['tabou'])]\n",
    "        self.genetique_optimizer = Genetic(self,parameters['genetic'])\n",
    "\n",
    "        for agent in self.optimazers : \n",
    "            self.schedule.add(agent)\n",
    "\n",
    "        self.datacollector = mesa.DataCollector(\n",
    "            model_reporters={\"pool_avg\": compute_Pool_avg ,\"best_pool\": get_the_best_solution} )\n",
    "\n",
    "\n",
    "    def step(self):\n",
    "\n",
    "        self.datacollector.collect(self)\n",
    "        self.schedule.step()\n",
    "       \n",
    "\n"
   ]
  },
  {
   "cell_type": "code",
   "execution_count": 158,
   "metadata": {},
   "outputs": [],
   "source": [
    "Pool = []\n",
    "list_client_initial = [i for i in range(nombre_client)]\n",
    "for j in range(10): \n",
    "    x  = copy.deepcopy(list_client_initial)\n",
    "    random.shuffle(x)\n",
    "    Pool.append(x)"
   ]
  },
  {
   "cell_type": "code",
   "execution_count": 159,
   "metadata": {},
   "outputs": [],
   "source": [
    "My_sma = SMA(Pool,parameters)"
   ]
  },
  {
   "cell_type": "code",
   "execution_count": 160,
   "metadata": {},
   "outputs": [],
   "source": [
    "for i in range(200):\n",
    "\n",
    "    My_sma.step()\n",
    "\n",
    "    if i%10 == 1 :\n",
    "            \n",
    "        My_sma.genetique_optimizer.execute()\n",
    "        My_sma.datacollector.collect(My_sma)\n",
    "\n",
    "\n"
   ]
  },
  {
   "cell_type": "code",
   "execution_count": 162,
   "metadata": {},
   "outputs": [],
   "source": [
    "agent_wealth = My_sma.datacollector.get_model_vars_dataframe()"
   ]
  },
  {
   "cell_type": "code",
   "execution_count": 163,
   "metadata": {},
   "outputs": [
    {
     "data": {
      "text/plain": [
       "[<matplotlib.lines.Line2D at 0x1a9079bc760>]"
      ]
     },
     "execution_count": 163,
     "metadata": {},
     "output_type": "execute_result"
    },
    {
     "data": {
      "image/png": "[encoded data removed]",
      "text/plain": [
       "<Figure size 640x480 with 1 Axes>"
      ]
     },
     "metadata": {},
     "output_type": "display_data"
    }
   ],
   "source": [
    "plt.plot(agent_wealth['pool_avg'])"
   ]
  }
 ],
 "metadata": {
  "kernelspec": {
   "display_name": "Python 3",
   "language": "python",
   "name": "python3"
  },
  "language_info": {
   "codemirror_mode": {
    "name": "ipython",
    "version": 3
   },
   "file_extension": ".py",
   "mimetype": "text/x-python",
   "name": "python",
   "nbconvert_exporter": "python",
   "pygments_lexer": "ipython3",
   "version": "3.10.9"
  },
  "orig_nbformat": 4
 },
 "nbformat": 4,
 "nbformat_minor": 2
}
