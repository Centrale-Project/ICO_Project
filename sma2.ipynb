{
 "cells": [
  {
   "cell_type": "code",
   "execution_count": 132,
   "metadata": {},
   "outputs": [],
   "source": [
    "import os.path\n",
    "import sys\n",
    "\n",
    "import os\n",
    "\n",
    "# Récupère le chemin d'accès parent de sys.path[0]\n",
    "parent_dir = os.path.dirname(sys.path[0])\n",
    "\n",
    "sys.path.append(os.path.abspath(parent_dir))\n",
    "import importlib\n",
    "import algorithmes\n",
    "importlib.reload(algorithmes)\n",
    "from algorithmes import *\n",
    "import random\n",
    "import mesa"
   ]
  },
  {
   "cell_type": "code",
   "execution_count": 133,
   "metadata": {},
   "outputs": [],
   "source": [
    "class Recuit_sem(mesa.Agent):\n",
    "    \"\"\"An agent with fixed initial wealth.\"\"\"\n",
    "\n",
    "    def __init__(self, model,parameters):\n",
    "        \n",
    "        super().__init__(self,model)\n",
    "        self.parameters = parameters\n",
    "        self.history = []\n",
    "\n",
    "    def execute(self):\n",
    "\n",
    "        solution_index = np.random.randint(len(self.model.Pool))\n",
    "        new_solution, meilleure_valeur , _  = recuit_simule(self.model.Pool[solution_index],self.parameters['temperature_initiale'] , self.parameters['temperature_finale'],alpha=0.99)\n",
    "        self.model.Pool[solution_index] = new_solution\n",
    "\n",
    "            \n",
    "    def step(self):\n",
    "        \n",
    "        self.execute()"
   ]
  },
  {
   "cell_type": "code",
   "execution_count": 134,
   "metadata": {},
   "outputs": [],
   "source": [
    "class Tabou(mesa.Agent):\n",
    "    \"\"\"An agent with fixed initial wealth.\"\"\"\n",
    "\n",
    "    def __init__(self,  model,parameters):\n",
    "        super().__init__(self,model)\n",
    "      \n",
    "        self.parameters = parameters\n",
    "        self.history = []\n",
    "        self.initial_solution = None\n",
    "\n",
    "    def execute(self):\n",
    "\n",
    "        solution_index = np.random.randint(len(self.model.Pool))\n",
    "        new_solution, meilleure_valeur , _ = tabou(self.model.Pool[solution_index] ,self.parameters['taille_tabou'],self.parameters['max_iterations'],self.parameters['n_voisin'])\n",
    "        self.model.Pool[solution_index] = new_solution\n",
    "\n",
    "            \n",
    "    def step(self):\n",
    "        self.execute()"
   ]
  },
  {
   "cell_type": "code",
   "execution_count": 135,
   "metadata": {},
   "outputs": [],
   "source": [
    "class Genetic(mesa.Agent):\n",
    "    \"\"\"An agent with fixed initial wealth.\"\"\"\n",
    "\n",
    "    def __init__(self,  model,parameters):\n",
    "        super().__init__(self,model)\n",
    "      \n",
    "        self.parameters = parameters\n",
    "\n",
    "\n",
    "    def execute(self):\n",
    "\n",
    "        new_solution, meilleure_valeur , _ ,population = genetique(self.model.Pool,self.parameters['taux_mutation'],self.parameters['max_iterations'])\n",
    "        self.model.Pool = population\n",
    "\n",
    "            \n",
    "    def step(self):\n",
    "        self.execute()"
   ]
  },
  {
   "cell_type": "code",
   "execution_count": 136,
   "metadata": {},
   "outputs": [],
   "source": [
    "def compute_Pool_avg(model):\n",
    "    \n",
    "    couts = [cout(get_route_version2(model.Pool[i], time_window, Q)) for i in range(len(model.Pool))]\n",
    "    return sum(couts)/len(couts)\n",
    "\n",
    "\n",
    "def get_the_best_solution(model):\n",
    "\n",
    "    couts = np.array([cout(get_route_version2(model.Pool[i], time_window, Q)) for i in range(len(model.Pool))])\n",
    "\n",
    "    return model.Pool[np.argmin(couts)]"
   ]
  },
  {
   "cell_type": "code",
   "execution_count": 137,
   "metadata": {},
   "outputs": [],
   "source": [
    "num_clients = nombre_client"
   ]
  },
  {
   "cell_type": "code",
   "execution_count": 181,
   "metadata": {},
   "outputs": [],
   "source": [
    "parameters = {'rs' : {'temperature_initiale' : 1  , 'temperature_finale' : 1e-1 } , 'tabou' : {'taille_tabou' : nombre_client , 'max_iterations' : 100 , 'n_voisin' : 2} , 'genetic'  : {'taux_mutation' : 0.5 ,'max_iterations' : 10 }}"
   ]
  },
  {
   "cell_type": "code",
   "execution_count": 184,
   "metadata": {},
   "outputs": [],
   "source": [
    "class SMA(mesa.Model):\n",
    "    \"\"\"A model with some number of agents.\"\"\"\n",
    "\n",
    "\n",
    "    def __init__(self,Pool,parameters):\n",
    "        \n",
    "        self.schedule = mesa.time.RandomActivation(self)\n",
    "        \n",
    "        # solution de départ\n",
    "        self.Pool = Pool\n",
    "        self.history_solution = []\n",
    "        # Create agents\n",
    "\n",
    "        self.optimazers = [Recuit_sem(self,parameters['rs']),Tabou(self,parameters['tabou'])]\n",
    "        self.genetique_optimizer = Genetic(self,parameters['genetic'])\n",
    "\n",
    "        for agent in self.optimazers : \n",
    "            self.schedule.add(agent)\n",
    "\n",
    "        self.datacollector = mesa.DataCollector(\n",
    "            model_reporters={\"pool_avg\": compute_Pool_avg ,\"best_pool\": get_the_best_solution} )\n",
    "\n",
    "\n",
    "    def step(self):\n",
    "\n",
    "        self.datacollector.collect(self)\n",
    "        self.schedule.step()\n",
    "       \n",
    "\n"
   ]
  },
  {
   "cell_type": "code",
   "execution_count": null,
   "metadata": {},
   "outputs": [],
   "source": []
  },
  {
   "cell_type": "code",
   "execution_count": 199,
   "metadata": {},
   "outputs": [],
   "source": [
    "Pool = []\n",
    "list_client_initial = [i for i in range(nombre_client)]\n",
    "for j in range(4): \n",
    "    x  = copy.deepcopy(list_client_initial)\n",
    "    random.shuffle(x)\n",
    "    Pool.append(x)"
   ]
  },
  {
   "cell_type": "code",
   "execution_count": 195,
   "metadata": {},
   "outputs": [],
   "source": [
    "My_sma = SMA(Pool,parameters)"
   ]
  },
  {
   "cell_type": "code",
   "execution_count": 191,
   "metadata": {},
   "outputs": [
    {
     "ename": "IndexError",
     "evalue": "list index out of range",
     "output_type": "error",
     "traceback": [
      "\u001b[1;31m---------------------------------------------------------------------------\u001b[0m",
      "\u001b[1;31mIndexError\u001b[0m                                Traceback (most recent call last)",
      "Cell \u001b[1;32mIn[191], line 7\u001b[0m\n\u001b[0;32m      3\u001b[0m My_sma\u001b[39m.\u001b[39mstep()\n\u001b[0;32m      5\u001b[0m \u001b[39mif\u001b[39;00m i\u001b[39m%\u001b[39m\u001b[39m10\u001b[39m \u001b[39m==\u001b[39m \u001b[39m1\u001b[39m :\n\u001b[1;32m----> 7\u001b[0m     My_sma\u001b[39m.\u001b[39;49mgenetique_optimizer\u001b[39m.\u001b[39;49mexecute()\n\u001b[0;32m      8\u001b[0m     My_sma\u001b[39m.\u001b[39mdatacollector\u001b[39m.\u001b[39mcollect(My_sma)\n",
      "Cell \u001b[1;32mIn[135], line 12\u001b[0m, in \u001b[0;36mGenetic.execute\u001b[1;34m(self)\u001b[0m\n\u001b[0;32m     10\u001b[0m \u001b[39mdef\u001b[39;00m \u001b[39mexecute\u001b[39m(\u001b[39mself\u001b[39m):\n\u001b[1;32m---> 12\u001b[0m     new_solution, meilleure_valeur , _ ,population \u001b[39m=\u001b[39m genetique(\u001b[39mself\u001b[39;49m\u001b[39m.\u001b[39;49mmodel\u001b[39m.\u001b[39;49mPool,\u001b[39mself\u001b[39;49m\u001b[39m.\u001b[39;49mparameters[\u001b[39m'\u001b[39;49m\u001b[39mtaux_mutation\u001b[39;49m\u001b[39m'\u001b[39;49m],\u001b[39mself\u001b[39;49m\u001b[39m.\u001b[39;49mparameters[\u001b[39m'\u001b[39;49m\u001b[39mmax_iterations\u001b[39;49m\u001b[39m'\u001b[39;49m])\n\u001b[0;32m     13\u001b[0m     \u001b[39mself\u001b[39m\u001b[39m.\u001b[39mmodel\u001b[39m.\u001b[39mPool \u001b[39m=\u001b[39m population\n",
      "File \u001b[1;32mc:\\Users\\moham\\desktop\\ICO_Project\\algorithmes.py:349\u001b[0m, in \u001b[0;36mgenetique\u001b[1;34m(population, taux_mutation, max_iterations)\u001b[0m\n\u001b[0;32m    347\u001b[0m enfants \u001b[39m=\u001b[39m []\n\u001b[0;32m    348\u001b[0m \u001b[39mfor\u001b[39;00m j \u001b[39min\u001b[39;00m \u001b[39mrange\u001b[39m(\u001b[39m0\u001b[39m, taille_population, \u001b[39m2\u001b[39m):\n\u001b[1;32m--> 349\u001b[0m     enfants1, enfants2 \u001b[39m=\u001b[39m croisement(parents[j], parents[j\u001b[39m+\u001b[39;49m\u001b[39m1\u001b[39;49m])\n\u001b[0;32m    350\u001b[0m     enfants\u001b[39m.\u001b[39mappend(enfants1)\n\u001b[0;32m    351\u001b[0m     enfants\u001b[39m.\u001b[39mappend(enfants2)\n",
      "File \u001b[1;32mc:\\Users\\moham\\desktop\\ICO_Project\\algorithmes.py:310\u001b[0m, in \u001b[0;36mcroisement\u001b[1;34m(parent1, parent2)\u001b[0m\n\u001b[0;32m    308\u001b[0m \u001b[39mif\u001b[39;00m \u001b[39mlen\u001b[39m(enfant_r2)\u001b[39m!=\u001b[39m\u001b[39m0\u001b[39m:\n\u001b[0;32m    309\u001b[0m     \u001b[39mfor\u001b[39;00m i \u001b[39min\u001b[39;00m \u001b[39mrange\u001b[39m(\u001b[39mlen\u001b[39m(enfant_r2)):\n\u001b[1;32m--> 310\u001b[0m         enfant2[enfant2\u001b[39m.\u001b[39mindex(enfant_r2[i])],enfant1[enfant1\u001b[39m.\u001b[39mindex(enfant_r1[i])] \u001b[39m=\u001b[39m enfant_r1[i] , enfant_r2[i]\n\u001b[0;32m    312\u001b[0m \u001b[39mreturn\u001b[39;00m enfant1, enfant2\n",
      "\u001b[1;31mIndexError\u001b[0m: list index out of range"
     ]
    }
   ],
   "source": [
    "for i in range(51):\n",
    "\n",
    "    My_sma.step()\n",
    "\n",
    "    if i%10 == 1 :\n",
    "        \n",
    "        My_sma.genetique_optimizer.execute()\n",
    "        My_sma.datacollector.collect(My_sma)\n",
    "\n"
   ]
  },
  {
   "cell_type": "code",
   "execution_count": 196,
   "metadata": {},
   "outputs": [
    {
     "ename": "IndexError",
     "evalue": "list index out of range",
     "output_type": "error",
     "traceback": [
      "\u001b[1;31m---------------------------------------------------------------------------\u001b[0m",
      "\u001b[1;31mIndexError\u001b[0m                                Traceback (most recent call last)",
      "Cell \u001b[1;32mIn[196], line 1\u001b[0m\n\u001b[1;32m----> 1\u001b[0m My_sma\u001b[39m.\u001b[39;49mgenetique_optimizer\u001b[39m.\u001b[39;49mexecute()\n",
      "Cell \u001b[1;32mIn[135], line 12\u001b[0m, in \u001b[0;36mGenetic.execute\u001b[1;34m(self)\u001b[0m\n\u001b[0;32m     10\u001b[0m \u001b[39mdef\u001b[39;00m \u001b[39mexecute\u001b[39m(\u001b[39mself\u001b[39m):\n\u001b[1;32m---> 12\u001b[0m     new_solution, meilleure_valeur , _ ,population \u001b[39m=\u001b[39m genetique(\u001b[39mself\u001b[39;49m\u001b[39m.\u001b[39;49mmodel\u001b[39m.\u001b[39;49mPool,\u001b[39mself\u001b[39;49m\u001b[39m.\u001b[39;49mparameters[\u001b[39m'\u001b[39;49m\u001b[39mtaux_mutation\u001b[39;49m\u001b[39m'\u001b[39;49m],\u001b[39mself\u001b[39;49m\u001b[39m.\u001b[39;49mparameters[\u001b[39m'\u001b[39;49m\u001b[39mmax_iterations\u001b[39;49m\u001b[39m'\u001b[39;49m])\n\u001b[0;32m     13\u001b[0m     \u001b[39mself\u001b[39m\u001b[39m.\u001b[39mmodel\u001b[39m.\u001b[39mPool \u001b[39m=\u001b[39m population\n",
      "File \u001b[1;32mc:\\Users\\moham\\desktop\\ICO_Project\\algorithmes.py:349\u001b[0m, in \u001b[0;36mgenetique\u001b[1;34m(population, taux_mutation, max_iterations)\u001b[0m\n\u001b[0;32m    347\u001b[0m enfants \u001b[39m=\u001b[39m []\n\u001b[0;32m    348\u001b[0m \u001b[39mfor\u001b[39;00m j \u001b[39min\u001b[39;00m \u001b[39mrange\u001b[39m(\u001b[39m0\u001b[39m, taille_population, \u001b[39m2\u001b[39m):\n\u001b[1;32m--> 349\u001b[0m     enfants1, enfants2 \u001b[39m=\u001b[39m croisement(parents[j], parents[j\u001b[39m+\u001b[39;49m\u001b[39m1\u001b[39;49m])\n\u001b[0;32m    350\u001b[0m     enfants\u001b[39m.\u001b[39mappend(enfants1)\n\u001b[0;32m    351\u001b[0m     enfants\u001b[39m.\u001b[39mappend(enfants2)\n",
      "File \u001b[1;32mc:\\Users\\moham\\desktop\\ICO_Project\\algorithmes.py:310\u001b[0m, in \u001b[0;36mcroisement\u001b[1;34m(parent1, parent2)\u001b[0m\n\u001b[0;32m    308\u001b[0m \u001b[39mif\u001b[39;00m \u001b[39mlen\u001b[39m(enfant_r2)\u001b[39m!=\u001b[39m\u001b[39m0\u001b[39m:\n\u001b[0;32m    309\u001b[0m     \u001b[39mfor\u001b[39;00m i \u001b[39min\u001b[39;00m \u001b[39mrange\u001b[39m(\u001b[39mlen\u001b[39m(enfant_r2)):\n\u001b[1;32m--> 310\u001b[0m         enfant2[enfant2\u001b[39m.\u001b[39mindex(enfant_r2[i])],enfant1[enfant1\u001b[39m.\u001b[39mindex(enfant_r1[i])] \u001b[39m=\u001b[39m enfant_r1[i] , enfant_r2[i]\n\u001b[0;32m    312\u001b[0m \u001b[39mreturn\u001b[39;00m enfant1, enfant2\n",
      "\u001b[1;31mIndexError\u001b[0m: list index out of range"
     ]
    }
   ],
   "source": [
    "My_sma.genetique_optimizer.execute()"
   ]
  },
  {
   "cell_type": "code",
   "execution_count": 155,
   "metadata": {},
   "outputs": [],
   "source": [
    "Pop = [[i for  i in range(nombre_client)] , [num_clients-i-1 for  i in range(nombre_client)]]"
   ]
  },
  {
   "cell_type": "code",
   "execution_count": 198,
   "metadata": {},
   "outputs": [
    {
     "ename": "IndexError",
     "evalue": "list index out of range",
     "output_type": "error",
     "traceback": [
      "\u001b[1;31m---------------------------------------------------------------------------\u001b[0m",
      "\u001b[1;31mIndexError\u001b[0m                                Traceback (most recent call last)",
      "Cell \u001b[1;32mIn[198], line 1\u001b[0m\n\u001b[1;32m----> 1\u001b[0m new_solution, meilleure_valeur , _ ,population \u001b[39m=\u001b[39m genetique(Pool,\u001b[39m0.01\u001b[39;49m,\u001b[39m100\u001b[39;49m)\n",
      "File \u001b[1;32mc:\\Users\\moham\\desktop\\ICO_Project\\algorithmes.py:349\u001b[0m, in \u001b[0;36mgenetique\u001b[1;34m(population, taux_mutation, max_iterations)\u001b[0m\n\u001b[0;32m    347\u001b[0m enfants \u001b[39m=\u001b[39m []\n\u001b[0;32m    348\u001b[0m \u001b[39mfor\u001b[39;00m j \u001b[39min\u001b[39;00m \u001b[39mrange\u001b[39m(\u001b[39m0\u001b[39m, taille_population, \u001b[39m2\u001b[39m):\n\u001b[1;32m--> 349\u001b[0m     enfants1, enfants2 \u001b[39m=\u001b[39m croisement(parents[j], parents[j\u001b[39m+\u001b[39;49m\u001b[39m1\u001b[39;49m])\n\u001b[0;32m    350\u001b[0m     enfants\u001b[39m.\u001b[39mappend(enfants1)\n\u001b[0;32m    351\u001b[0m     enfants\u001b[39m.\u001b[39mappend(enfants2)\n",
      "File \u001b[1;32mc:\\Users\\moham\\desktop\\ICO_Project\\algorithmes.py:310\u001b[0m, in \u001b[0;36mcroisement\u001b[1;34m(parent1, parent2)\u001b[0m\n\u001b[0;32m    308\u001b[0m \u001b[39mif\u001b[39;00m \u001b[39mlen\u001b[39m(enfant_r2)\u001b[39m!=\u001b[39m\u001b[39m0\u001b[39m:\n\u001b[0;32m    309\u001b[0m     \u001b[39mfor\u001b[39;00m i \u001b[39min\u001b[39;00m \u001b[39mrange\u001b[39m(\u001b[39mlen\u001b[39m(enfant_r2)):\n\u001b[1;32m--> 310\u001b[0m         enfant2[enfant2\u001b[39m.\u001b[39mindex(enfant_r2[i])],enfant1[enfant1\u001b[39m.\u001b[39mindex(enfant_r1[i])] \u001b[39m=\u001b[39m enfant_r1[i] , enfant_r2[i]\n\u001b[0;32m    312\u001b[0m \u001b[39mreturn\u001b[39;00m enfant1, enfant2\n",
      "\u001b[1;31mIndexError\u001b[0m: list index out of range"
     ]
    }
   ],
   "source": [
    "new_solution, meilleure_valeur , _ ,population = genetique(Pool,0.01,100)\n"
   ]
  },
  {
   "cell_type": "code",
   "execution_count": 114,
   "metadata": {},
   "outputs": [],
   "source": [
    "agent_wealth = My_sma.datacollector.get_model_vars_dataframe()"
   ]
  },
  {
   "cell_type": "code",
   "execution_count": 157,
   "metadata": {},
   "outputs": [
    {
     "data": {
      "text/plain": [
       "[<matplotlib.lines.Line2D at 0x20fd041d210>]"
      ]
     },
     "execution_count": 157,
     "metadata": {},
     "output_type": "execute_result"
    },
    {
     "data": {
      "image/png": "[encoded data removed]",
      "text/plain": [
       "<Figure size 640x480 with 1 Axes>"
      ]
     },
     "metadata": {},
     "output_type": "display_data"
    }
   ],
   "source": [
    "plt.plot(agent_wealth['pool_avg'])"
   ]
  }
 ],
 "metadata": {
  "kernelspec": {
   "display_name": "Python 3",
   "language": "python",
   "name": "python3"
  },
  "language_info": {
   "codemirror_mode": {
    "name": "ipython",
    "version": 3
   },
   "file_extension": ".py",
   "mimetype": "text/x-python",
   "name": "python",
   "nbconvert_exporter": "python",
   "pygments_lexer": "ipython3",
   "version": "3.10.9"
  },
  "orig_nbformat": 4
 },
 "nbformat": 4,
 "nbformat_minor": 2
}
