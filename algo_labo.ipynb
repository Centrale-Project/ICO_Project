{
 "cells": [
  {
   "cell_type": "code",
   "execution_count": 556,
   "metadata": {},
   "outputs": [],
   "source": [
    "import pandas as pd\n",
    "from os import listdir\n",
    "from os.path import isfile, join\n",
    "import numpy as np\n",
    "import random\n",
    "import scipy \n",
    "from scipy.spatial.distance import pdist , cdist\n",
    "\n",
    "import matplotlib.pyplot as plt\n",
    " \n",
    "from math import sin, cos, sqrt, atan2, radians\n",
    " \n",
    "import pickle\n",
    "import os \n",
    "import sys\n",
    "import math\n"
   ]
  },
  {
   "cell_type": "code",
   "execution_count": 557,
   "metadata": {},
   "outputs": [],
   "source": [
    "parent_dir = sys.path[0]\n",
    " \n",
    "\n",
    "data_depot = pd.read_csv(os.path.join(parent_dir, 'data/data_depot.csv'))\n",
    "data_client_index = pd.read_csv(os.path.join(parent_dir, 'data/data_clients.csv'))\n",
    "\n",
    "\n",
    "with open(os.path.join(parent_dir,'data/distance_matrix.pickle'), 'rb') as handle:\n",
    "    distance_matrix = pickle.load(handle)\n",
    "\n",
    "with open(os.path.join(parent_dir,'data/times.pickle'), 'rb') as handle:\n",
    "    times = pickle.load(handle)\n"
   ]
  },
  {
   "cell_type": "code",
   "execution_count": 48,
   "metadata": {},
   "outputs": [],
   "source": [
    "import folium\n",
    "\n",
    "# Calculer les coordonnées de latitude et de longitude moyennes des clients pour centrer la carte\n",
    "latitude = data_client_index['CUSTOMER_LATITUDE'].mean()\n",
    "longitude = data_client_index['CUSTOMER_LONGITUDE'].mean()\n",
    "\n",
    "# Créer une carte centrée sur les coordonnées moyennes\n",
    "carte = folium.Map(location=[latitude, longitude], zoom_start=10)\n",
    "\n",
    "# Ajouter des marqueurs pour chaque client\n",
    "\n",
    "# Ajouter des marqueurs et des segments pour chaque client\n",
    "for i in range(len(data_client_index)):\n",
    "    # Ajouter un marqueur pour le client\n",
    "    client = data_client_index.iloc[i]\n",
    "    folium.Marker(location=[client['CUSTOMER_LATITUDE'], client['CUSTOMER_LONGITUDE']], popup=str(i)).add_to(carte)\n",
    "\n",
    "    # Si ce n'est pas le dernier client dans la liste, ajouter un segment reliant ce client au client suivant\n",
    "    if i < len(data_client_index) - 1:\n",
    "        client_suivant = data_client_index.iloc[i + 1]\n",
    "        folium.PolyLine(locations=[[client['CUSTOMER_LATITUDE'], client['CUSTOMER_LONGITUDE']], [client_suivant['CUSTOMER_LATITUDE'], client_suivant['CUSTOMER_LONGITUDE']]], color='red').add_to(carte)\n",
    "\n",
    "# Enregistrer la carte dans un fichier HTML\n",
    "carte.save('carte_clients.html')\n"
   ]
  },
  {
   "cell_type": "code",
   "execution_count": 77,
   "metadata": {},
   "outputs": [
    {
     "name": "stderr",
     "output_type": "stream",
     "text": [
      "c:\\Users\\hicha\\anaconda3\\envs\\lib\\site-packages\\seaborn\\_decorators.py:36: FutureWarning: Pass the following variable as a keyword arg: x. From version 0.12, the only valid positional argument will be `data`, and passing other arguments without an explicit keyword will result in an error or misinterpretation.\n",
      "  warnings.warn(\n",
      "c:\\Users\\hicha\\anaconda3\\envs\\lib\\site-packages\\seaborn\\_decorators.py:36: FutureWarning: Pass the following variable as a keyword arg: x. From version 0.12, the only valid positional argument will be `data`, and passing other arguments without an explicit keyword will result in an error or misinterpretation.\n",
      "  warnings.warn(\n"
     ]
    },
    {
     "data": {
      "text/plain": [
       "<AxesSubplot:xlabel='a', ylabel='count'>"
      ]
     },
     "execution_count": 77,
     "metadata": {},
     "output_type": "execute_result"
    },
    {
     "data": {
      "image/png": "[encoded data removed]",
      "text/plain": [
       "<Figure size 640x480 with 1 Axes>"
      ]
     },
     "metadata": {},
     "output_type": "display_data"
    }
   ],
   "source": [
    "import seaborn as sns\n",
    "sns.countplot(data_client_index['b'])\n",
    "sns.countplot(data_client_index['a'])"
   ]
  },
  {
   "cell_type": "code",
   "execution_count": 192,
   "metadata": {},
   "outputs": [],
   "source": [
    "# Calculer la distance entre chaque paire de points\n",
    "from geopy import distance\n",
    "taille_m = len(data_client_index)\n",
    "distance_matrix = np.zeros((taille_m, taille_m))\n",
    "for i, row_i in data_client_index.iterrows():\n",
    "    for j, row_j in data_client_index.iterrows():\n",
    "        if i != j:\n",
    "            coord_i = (row_i['CUSTOMER_LATITUDE'], row_i['CUSTOMER_LONGITUDE'])\n",
    "            coord_j = (row_j['CUSTOMER_LATITUDE'], row_j['CUSTOMER_LONGITUDE'])\n",
    "            dist = distance.distance(coord_i, coord_j).km\n",
    "            distance_matrix[i, j] = dist"
   ]
  },
  {
   "cell_type": "code",
   "execution_count": 288,
   "metadata": {},
   "outputs": [],
   "source": [
    "CUSTOMER_DELIVERY_SERVICE_TIME = data_client_index['d'].values\n",
    "TOTAL_WEIGHT_KG = data_client_index['TOTAL_WEIGHT_KG'].values\n",
    "CUSTOMER_DELIVERY_SERVICE_TIME_FROM_DEPOT = data_depot['TIME_DISTANCE_MIN'].values\n",
    "CUSTOMER_DELIVERY_SERVICE_DISTANCE_FROM_DEPOT = data_depot['DISTANCE_KM'].values\n"
   ]
  },
  {
   "cell_type": "code",
   "execution_count": 286,
   "metadata": {},
   "outputs": [],
   "source": [
    "def choix_client_suivant(client_potentiel,client_courant,methode):\n",
    "        \n",
    "    if methode==0:\n",
    "            client_suivant = random.choice(client_potentiel)\n",
    "     \n",
    "    if methode==1:\n",
    "            client_potentiel_distance = [distance_matrix[client_courant,client] for client in client_potentiel]\n",
    "            client_suivant = client_potentiel[client_potentiel_distance.index(min(client_potentiel_distance))]\n",
    "\n",
    "    return(client_suivant)"
   ]
  },
  {
   "cell_type": "code",
   "execution_count": 1002,
   "metadata": {},
   "outputs": [],
   "source": [
    "def get_route_by_car(client_disponible,Q,V_moy,time_window):\n",
    "    solution = []\n",
    "    t = 480\n",
    "    total_weight = 0\n",
    "    i=0\n",
    "\n",
    "    client_courant = 0\n",
    "    client_potentiel = client_disponible\n",
    "\n",
    "    # chosir le client le plus proche de depot\n",
    " \n",
    "    client_suivant = random.choice(client_potentiel)\n",
    "\n",
    "    \n",
    "    t = t +  CUSTOMER_DELIVERY_SERVICE_TIME_FROM_DEPOT[client_suivant] + CUSTOMER_DELIVERY_SERVICE_TIME[client_suivant]\n",
    "    total_weight = total_weight+TOTAL_WEIGHT_KG[client_suivant]\n",
    "    if total_weight<Q and t<time_window:\n",
    "        solution.append(client_suivant)\n",
    "    \n",
    "     \n",
    "     \n",
    "    client_disponible.remove(client_suivant)\n",
    "\n",
    "    client_courant = client_suivant\n",
    "    client_potentiel = [client for client in client_disponible if  t+distance_matrix[client_courant,client]/V_moy < time_window and total_weight+TOTAL_WEIGHT_KG[client]<Q]\n",
    "    i=1\n",
    "    \n",
    "    while len(client_potentiel)>0:\n",
    "        \n",
    "        client_suivant = random.choice(client_potentiel)\n",
    "         \n",
    "        solution.append(client_suivant)\n",
    "        client_disponible.remove(client_suivant)\n",
    "        \n",
    "\n",
    "        t = t + distance_matrix[client_courant,client_suivant]/V_moy + CUSTOMER_DELIVERY_SERVICE_TIME[client_suivant]\n",
    "        total_weight = total_weight+TOTAL_WEIGHT_KG[client_suivant]\n",
    "        client_courant = client_suivant\n",
    " \n",
    "        client_potentiel = [client for client in client_disponible if  t+distance_matrix[client_courant,client]/V_moy < time_window and total_weight+TOTAL_WEIGHT_KG[client]<Q]\n",
    "        i+=1\n",
    "    return(solution)\n",
    " "
   ]
  },
  {
   "cell_type": "code",
   "execution_count": 1003,
   "metadata": {},
   "outputs": [],
   "source": [
    "def get_route_version0(Q,V_moy,time_window):\n",
    "    client_disponible = [i for i in range(len(data_client_index))]\n",
    "    Global_route = []\n",
    "    k=0\n",
    "    while len(client_disponible)>0:\n",
    "        route_by_car = get_route_by_car(client_disponible,Q,V_moy,time_window)\n",
    "        Global_route.append(route_by_car)\n",
    "        client_disponible = [client for client in  client_disponible if client not in route_by_car]\n",
    "    \n",
    "    print('nombre des voitures utilisées ',len(Global_route))\n",
    "    return(Global_route)"
   ]
  },
  {
   "cell_type": "code",
   "execution_count": 1004,
   "metadata": {},
   "outputs": [
    {
     "name": "stdout",
     "output_type": "stream",
     "text": [
      "nombre des voitures utilisées  20\n"
     ]
    },
    {
     "data": {
      "text/plain": [
       "28965.483115776093"
      ]
     },
     "execution_count": 1004,
     "metadata": {},
     "output_type": "execute_result"
    }
   ],
   "source": [
    "Q = 5000\n",
    "V_moy=60\n",
    "time_window = 950\n",
    "global_route = get_route_version0(Q,V_moy,time_window)\n",
    "cout(global_route)"
   ]
  },
  {
   "cell_type": "code",
   "execution_count": 581,
   "metadata": {},
   "outputs": [
    {
     "name": "stderr",
     "output_type": "stream",
     "text": [
      "C:\\Users\\hicha\\AppData\\Local\\Temp\\ipykernel_120\\1776759628.py:19: UserWarning: color argument of Icon should be one of: {'pink', 'orange', 'purple', 'lightred', 'red', 'black', 'cadetblue', 'lightblue', 'darkgreen', 'white', 'green', 'lightgreen', 'blue', 'gray', 'darkblue', 'lightgray', 'darkred', 'darkpurple', 'beige'}.\n",
      "  icon=folium.Icon(color=couleur)).add_to(carte)\n"
     ]
    }
   ],
   "source": [
    "import random\n",
    "\n",
    "# Définir les couleurs que vous voulez utiliser pour les voitures\n",
    "couleurs_voitures = ['#FF0000', '#00FF00', '#0000FF', '#FFFF00', '#00FFFF', '#FF00FF']\n",
    "\n",
    "# Créer une carte centrée sur les coordonnées moyennes\n",
    "carte = folium.Map(location=[latitude, longitude], zoom_start=10)\n",
    "\n",
    "# Ajouter des marqueurs et des segments pour chaque client et chaque voiture\n",
    "for i, clients in enumerate(global_route[:2]):\n",
    "    # Générer une couleur aléatoire pour chaque voiture\n",
    "    couleur = random.choice(couleurs_voitures)\n",
    "\n",
    "    # Ajouter un marqueur pour chaque client\n",
    "    for j, client in enumerate(clients):\n",
    "        client_data = data_client_index.iloc[client]\n",
    "        folium.Marker(location=[client_data['CUSTOMER_LATITUDE'], client_data['CUSTOMER_LONGITUDE']],\n",
    "                      popup=str(client),\n",
    "                      icon=folium.Icon(color=couleur)).add_to(carte)\n",
    "\n",
    "        # Si ce n'est pas le dernier client visité par la voiture, ajouter un segment reliant ce client au client suivant\n",
    "        if j < len(clients) - 1:\n",
    "            client_suivant = clients[j + 1]\n",
    "            client_suivant_data = data_client_index.iloc[client_suivant]\n",
    "            folium.PolyLine(locations=[[client_data['CUSTOMER_LATITUDE'], client_data['CUSTOMER_LONGITUDE']],\n",
    "                                       [client_suivant_data['CUSTOMER_LATITUDE'], client_suivant_data['CUSTOMER_LONGITUDE']]],\n",
    "                            color=couleur).add_to(carte)\n",
    "\n",
    "\n",
    "# Enregistrer la carte dans un fichier HTML\n",
    "carte.save('carte_clients.html')\n",
    "\n"
   ]
  },
  {
   "cell_type": "code",
   "execution_count": 582,
   "metadata": {},
   "outputs": [],
   "source": [
    "def cout(global_route):\n",
    "    cout = 0\n",
    "    for route in global_route:\n",
    "       \n",
    "        cout_depot_depart = CUSTOMER_DELIVERY_SERVICE_DISTANCE_FROM_DEPOT[route[0]]\n",
    "        cout_depot_retour = CUSTOMER_DELIVERY_SERVICE_DISTANCE_FROM_DEPOT[route[-1]]\n",
    "        cout = cout+sum([distance_matrix[route[i],route[i+1]] for i in range(len(route)-1)])+cout_depot_retour+cout_depot_depart\n",
    "\n",
    "    return(cout+len(global_route))"
   ]
  },
  {
   "cell_type": "code",
   "execution_count": 701,
   "metadata": {},
   "outputs": [],
   "source": [
    " def get_route_version1(list_client,time_window,Q):\n",
    "    Global_route = []\n",
    "    client_numbre = len(list_client)\n",
    "    client_visited = 0\n",
    "\n",
    "    while  client_visited<client_numbre:\n",
    "\n",
    "        client_disponible = list_client[client_visited:]\n",
    "        route_by_car = []\n",
    "        t = 480+CUSTOMER_DELIVERY_SERVICE_TIME_FROM_DEPOT[client_disponible[0]]+CUSTOMER_DELIVERY_SERVICE_TIME[client_disponible[0]]\n",
    "        weight = TOTAL_WEIGHT_KG[client_disponible[0]]\n",
    "         \n",
    "         \n",
    "        i=0\n",
    "        while t<time_window and weight<Q:\n",
    "\n",
    "            route_by_car.append(client_disponible[i])\n",
    "            i+=1\n",
    "            if i>=len(client_disponible):\n",
    "                break\n",
    "            t = t+distance_matrix[client_disponible[i-1],client_disponible[i]]/V_moy + CUSTOMER_DELIVERY_SERVICE_TIME[client_disponible[i]]\n",
    "            weight +=TOTAL_WEIGHT_KG[client_disponible[i]]\n",
    " \n",
    "        client_visited+=i\n",
    "        Global_route.append(route_by_car)\n",
    "        \n",
    "         \n",
    "\n",
    "    return(Global_route)\n",
    "            "
   ]
  },
  {
   "cell_type": "code",
   "execution_count": 620,
   "metadata": {},
   "outputs": [],
   "source": [
    "matrice_temps_Cij= np.zeros((len(data_client_index)+1,len(data_client_index)+1))\n",
    "for i in range(len(data_client_index)+1):\n",
    "    for j in range(len(data_client_index)+1):\n",
    "        if j==i:\n",
    "            matrice_temps_Cij[i,j]=0\n",
    "        elif i==0 or j ==0:\n",
    "            matrice_temps_Cij[i,j] = CUSTOMER_DELIVERY_SERVICE_TIME_FROM_DEPOT[max(i,j)-1]+CUSTOMER_DELIVERY_SERVICE_TIME[max(i,j)-1]\n",
    "        else:\n",
    "            matrice_temps_Cij[i,j] = distance_matrix[i-1,j-1]/V_moy + CUSTOMER_DELIVERY_SERVICE_TIME[j-1]"
   ]
  },
  {
   "cell_type": "code",
   "execution_count": 1015,
   "metadata": {},
   "outputs": [
    {
     "data": {
      "text/plain": [
       "array([[  0.        , 138.73      ,  71.972     , ...,  55.004     ,\n",
       "         34.628     , 134.272     ],\n",
       "       [138.73      ,   0.        ,  22.05474381, ...,   9.31370517,\n",
       "          9.50118257,  11.01094544],\n",
       "       [ 71.972     ,   8.53474381,   0.        , ...,   9.42058138,\n",
       "          9.97203899,  10.53258665],\n",
       "       ...,\n",
       "       [ 55.004     ,   8.49370517,  22.12058138, ...,   0.        ,\n",
       "          9.79099484,  10.905945  ],\n",
       "       [ 34.628     ,   8.20118257,  22.19203899, ...,   9.31099484,\n",
       "          0.        ,  11.13713799],\n",
       "       [134.272     ,   9.22094544,  22.26258665, ...,   9.935945  ,\n",
       "         10.64713799,   0.        ]])"
      ]
     },
     "execution_count": 1015,
     "metadata": {},
     "output_type": "execute_result"
    }
   ],
   "source": [
    "import pickle\n",
    "\n",
    "with open('matrice_temps_Cij.pickle', 'wb') as handle:\n",
    "    pickle.dump(matrice_temps_Cij, handle, protocol=pickle.HIGHEST_PROTOCOL)\n",
    "\n"
   ]
  },
  {
   "cell_type": "code",
   "execution_count": 759,
   "metadata": {},
   "outputs": [],
   "source": [
    "def get_route_version2(list_client,time_window,Q):\n",
    "    arret = [0]\n",
    "    i=0\n",
    "    while i<len(list_client):\n",
    "        weight = TOTAL_WEIGHT_KG[list_client[i]]\n",
    "        time = 480+matrice_temps_Cij[0,list_client[i]+1]\n",
    "\n",
    "        while time<time_window and weight<Q: \n",
    "            i+=1\n",
    "            if i > len(list_client)-1:\n",
    "                break\n",
    "            time+=matrice_temps_Cij[list_client[i-1]+1,list_client[i]+1]\n",
    "            weight+= TOTAL_WEIGHT_KG[list_client[i]]\n",
    "             \n",
    "        arret.append(i)\n",
    "      \n",
    "    \n",
    "    Global_route =[list_client[arret[k]:arret[k+1]] for k in range(len(arret)-1)]\n",
    "    return(Global_route)"
   ]
  },
  {
   "attachments": {},
   "cell_type": "markdown",
   "metadata": {},
   "source": [
    "# RS"
   ]
  },
  {
   "cell_type": "code",
   "execution_count": 706,
   "metadata": {},
   "outputs": [],
   "source": [
    "def Voisinnage(T):\n",
    "    \n",
    "    n = len(T)\n",
    "    i = np.random.randint(n)\n",
    "    j = np.random.randint(n)\n",
    "    T[j] = i\n",
    "    T[i] = j\n",
    "    return(T)"
   ]
  },
  {
   "cell_type": "code",
   "execution_count": 1009,
   "metadata": {},
   "outputs": [],
   "source": [
    "def Voisinnage(T):\n",
    "    \n",
    "    n = len(T)\n",
    "    i = np.random.randint(n)\n",
    "    j = np.random.randint(n)\n",
    "    T[j] = i\n",
    "    T[i] = j\n",
    "    return(T)\n",
    "    \n",
    "def recuit_simule(initial_state,  temperature_initiale=1.0, temperature_finale=1e-8, alpha=0.99):\n",
    "\n",
    "    \"\"\"Implémente l'algorithme de recuit simulé.\"\"\"\n",
    "\n",
    "    history = []\n",
    "    current_state = initial_state\n",
    "    current_energy = cout(get_route_version2(current_state,time_window,Q))\n",
    "    best_state = current_state\n",
    "    best_energy = current_energy\n",
    "    temperature = temperature_initiale\n",
    "    i=0\n",
    "    bete=1\n",
    "    while temperature > temperature_finale:\n",
    "        \n",
    "         \n",
    "        new_state =  Voisinnage(current_state.copy())\n",
    "        new_energy = cout(get_route_version2(new_state,time_window,Q))\n",
    "        delta_energy = new_energy - current_energy\n",
    "        if i==0:\n",
    "            beta = abs(- delta_energy / (temperature * math.log(0.66)))\n",
    "            i=1\n",
    "\n",
    "          \n",
    "\n",
    "        if delta_energy < 0 or math.exp(-delta_energy / beta*temperature) <random.random():\n",
    "        \n",
    "            current_state = new_state\n",
    "            current_energy = new_energy\n",
    "\n",
    "        if current_energy < best_energy:\n",
    "            best_state = current_state\n",
    "            best_energy = current_energy\n",
    "\n",
    "        temperature *= alpha\n",
    "\n",
    "        history.append(best_energy)\n",
    "\n",
    "    #print('best_energy : '  , best_energy)\n",
    "    #print('new state : '  , current_state)\n",
    "\n",
    "\n",
    "    return best_state, best_energy , history"
   ]
  },
  {
   "cell_type": "code",
   "execution_count": 1010,
   "metadata": {},
   "outputs": [
    {
     "name": "stdout",
     "output_type": "stream",
     "text": [
      "best_energy :  15856.12378469949\n",
      "new state :  [144, 427, 359, 310, 193, 501, 202, 433, 243, 112, 172, 79, 380, 79, 376, 15, 448, 251, 263, 314, 572, 84, 384, 23, 246, 25, 229, 39, 165, 319, 263, 62, 302, 431, 69, 543, 540, 43, 185, 27, 437, 120, 203, 404, 196, 390, 456, 75, 51, 550, 350, 397, 52, 486, 65, 209, 501, 194, 31, 268, 486, 150, 548, 63, 388, 232, 551, 140, 458, 34, 210, 470, 141, 332, 82, 275, 87, 286, 86, 199, 80, 315, 74, 382, 21, 358, 78, 351, 136, 569, 81, 148, 186, 473, 357, 385, 568, 210, 98, 544, 391, 101, 333, 492, 570, 350, 366, 295, 386, 130, 198, 378, 391, 203, 19, 379, 306, 293, 158, 550, 430, 326, 64, 283, 300, 149, 389, 323, 183, 487, 231, 32, 58, 156, 36, 294, 516, 297, 557, 215, 67, 72, 455, 206, 0, 45, 491, 149, 91, 147, 409, 160, 62, 85, 507, 461, 133, 215, 371, 159, 151, 396, 172, 402, 67, 28, 214, 84, 570, 348, 308, 254, 65, 423, 358, 455, 85, 161, 262, 247, 417, 497, 265, 533, 186, 323, 92, 364, 209, 254, 305, 4, 482, 4, 57, 195, 44, 290, 411, 296, 294, 466, 6, 113, 204, 393, 143, 207, 540, 55, 70, 556, 387, 347, 166, 157, 468, 57, 78, 455, 515, 522, 480, 233, 505, 55, 367, 215, 59, 55, 230, 130, 65, 223, 234, 115, 311, 163, 215, 518, 410, 345, 242, 8, 472, 555, 24, 20, 550, 486, 349, 288, 78, 499, 449, 147, 256, 257, 220, 28, 4, 40, 178, 30, 143, 182, 562, 378, 324, 373, 341, 491, 232, 61, 182, 75, 276, 564, 340, 279, 22, 302, 475, 123, 49, 441, 77, 330, 423, 482, 197, 157, 566, 386, 285, 107, 313, 137, 455, 454, 124, 301, 281, 212, 448, 381, 515, 209, 170, 431, 490, 366, 437, 296, 19, 384, 389, 523, 313, 29, 29, 544, 429, 555, 268, 476, 346, 380, 361, 88, 486, 392, 73, 26, 245, 546, 348, 129, 336, 469, 531, 381, 358, 486, 55, 147, 326, 213, 336, 521, 391, 482, 96, 409, 562, 65, 29, 437, 342, 160, 358, 137, 563, 556, 187, 313, 424, 457, 287, 431, 391, 158, 244, 367, 374, 375, 408, 291, 446, 115, 12, 305, 83, 393, 22, 440, 108, 212, 450, 316, 525, 100, 331, 205, 137, 401, 161, 51, 491, 351, 490, 395, 163, 160, 43, 318, 196, 217, 548, 150, 57, 403, 403, 258, 378, 174, 485, 531, 292, 419, 249, 514, 431, 288, 366, 425, 73, 54, 428, 521, 120, 369, 1, 211, 69, 409, 551, 40, 366, 342, 214, 285, 84, 216, 423, 445, 378, 223, 465, 254, 388, 9, 404, 455, 299, 298, 495, 367, 68, 311, 499, 155, 216, 551, 446, 548, 201, 224, 216, 339, 71, 108, 244, 315, 163, 282, 325, 170, 348, 381, 222, 543, 192, 483, 318, 516, 232, 129, 323, 197, 400, 146, 100, 519, 407, 456, 100, 181, 536, 22, 262, 130, 70, 185, 416, 224, 304, 84, 546, 143, 358, 424, 567, 457, 421, 220, 136, 492, 239, 493, 138, 349, 450, 505, 430, 390, 363, 6, 533, 529, 0, 340, 430, 183, 254, 491, 498, 412, 9, 73, 208, 113, 446, 481, 321, 125, 335, 42, 160, 229, 119, 66, 127, 493, 202, 323, 211, 138, 85, 559, 298, 258, 266, 348, 288, 501, 292, 512, 549, 89, 168, 120, 20]\n"
     ]
    }
   ],
   "source": [
    "list_client_initial = [i for i in range(len(data_client_index))]\n",
    "random.shuffle(list_client)\n",
    "best_state, best_energy , history = recuit_simule(list_client_initial,  temperature_initiale=4.0, temperature_finale=1e-8, alpha=0.99)"
   ]
  },
  {
   "cell_type": "code",
   "execution_count": 997,
   "metadata": {},
   "outputs": [
    {
     "data": {
      "image/png": "[encoded data removed]",
      "text/plain": [
       "<Figure size 640x480 with 1 Axes>"
      ]
     },
     "metadata": {},
     "output_type": "display_data"
    }
   ],
   "source": [
    "plt.plot(history)\n",
    "plt.xlabel('Iteration')\n",
    "plt.ylabel('Fonction de Cout')\n",
    "plt.title(\"Résultat d'Algo RS\")\n",
    "plt.savefig('Algo_RS')"
   ]
  },
  {
   "cell_type": "code",
   "execution_count": null,
   "metadata": {},
   "outputs": [],
   "source": []
  },
  {
   "attachments": {},
   "cell_type": "markdown",
   "metadata": {},
   "source": [
    "# Genetique"
   ]
  },
  {
   "cell_type": "code",
   "execution_count": 795,
   "metadata": {},
   "outputs": [],
   "source": [
    "def valid(solution):\n",
    "    for i in range(len(solution)):\n",
    "        if i not in solution:\n",
    "            return False\n",
    "    return(True)\n",
    "\n",
    "def valid_pop(pop):\n",
    "    for sol in pop:\n",
    "        if not valid(sol):\n",
    "            return(False)\n",
    "    return(True)"
   ]
  },
  {
   "cell_type": "code",
   "execution_count": 1011,
   "metadata": {},
   "outputs": [
    {
     "name": "stderr",
     "output_type": "stream",
     "text": [
      "C:\\Users\\hicha\\AppData\\Local\\Temp\\ipykernel_120\\2491246541.py:4: DeprecationWarning: Sampling from a set deprecated\n",
      "since Python 3.9 and will be removed in a subsequent version.\n",
      "  participants = random.sample(Couts.keys(), taille_tournoi)\n"
     ]
    }
   ],
   "source": [
    "\n",
    "\n",
    "import copy\n",
    "# Définition de la fonction de sélection par tournoi\n",
    "def selection(Couts, taille_tournoi):\n",
    "    participants = random.sample(Couts.keys(), taille_tournoi)\n",
    "    return min(participants, key=lambda x:Couts[x] )\n",
    "\n",
    "# Définition de la fonction de croisement à un point\n",
    "import random\n",
    "\n",
    "def croisement(parent1, parent2):\n",
    "    # Point de croisement aléatoire\n",
    "    croisement_point = random.randint(1, len(parent1) - 1)\n",
    "\n",
    "    # Croisement\n",
    "\n",
    "    enfant1 = copy.deepcopy(parent1[:croisement_point]) +copy.deepcopy(parent2[croisement_point:])\n",
    "    enfant2 = copy.deepcopy(parent2[:croisement_point]) + copy.deepcopy(parent1[croisement_point:])\n",
    "    \n",
    "    # Correction de la répétition des éléments\n",
    "    enfant_r1 = []\n",
    "    for element in enfant1 :\n",
    "        if enfant1.count(element) > 1 and element not in enfant_r1:\n",
    "            enfant_r1.append(element)\n",
    "    enfant_r2 = []\n",
    "    for element in enfant2 :\n",
    "        if enfant2.count(element) > 1 and element not in enfant_r2:\n",
    "            enfant_r2.append(element)\n",
    "    \n",
    "    \n",
    "    \n",
    "    if len(enfant_r2)!=0:\n",
    "        for i in range(len(enfant_r2)):\n",
    "            enfant2[enfant2.index(enfant_r2[i])],enfant1[enfant1.index(enfant_r1[i])] = enfant_r1[i] , enfant_r2[i]\n",
    "    \n",
    "    return enfant1, enfant2\n",
    "\n",
    "\n",
    "# Définition de la fonction de mutation\n",
    "def mutation(solution, taux_mutation):\n",
    "\n",
    "    if random.random() < taux_mutation : \n",
    "\n",
    "        n = len(solution)\n",
    "        i = np.random.randint(n)\n",
    "        j = np.random.randint(n)\n",
    "        solution[j],solution[i] = solution[i],solution[j]\n",
    "    \n",
    "\n",
    "    return(solution)\n",
    "         \n",
    "# Définition de l'algorithme génétique\n",
    "def genetique(population, taux_mutation, max_iterations):\n",
    "    history = []\n",
    "    taille_population = len(population)\n",
    "    best_cout = float(\"inf\")\n",
    "    best_element = None\n",
    "\n",
    "    for i in range(max_iterations):\n",
    "        Couts = {k: cout(get_route_version2(population[k], time_window, Q)) for k in range(taille_population)}\n",
    "        parents = [population[selection(Couts, 2)] for j in range(taille_population)]\n",
    "        history.append(min(list(Couts.values())))\n",
    "        \n",
    "        enfants = []\n",
    "        for j in range(0, taille_population, 2):\n",
    "            enfants1, enfants2 = croisement(parents[j], parents[j+1])\n",
    "            enfants.append(enfants1)\n",
    "            enfants.append(enfants2)\n",
    "\n",
    "        population = [mutation(enfants[j], taux_mutation) for j in range(taille_population)]\n",
    "        \n",
    "        for k in range(taille_population):\n",
    "            cout_k = cout(get_route_version2(population[k], time_window, Q))\n",
    "            if cout_k < best_cout:\n",
    "                best_cout = cout_k\n",
    "                best_element = population[k]\n",
    "\n",
    "    return best_element, best_cout, history\n",
    "\n",
    "# Exemple d'utilisation\n",
    "population = []\n",
    "list_client_initial = [i for i in range(len(data_client_index))]\n",
    "for j in range(50): \n",
    "    x  = copy.deepcopy(list_client_initial)\n",
    "    random.shuffle(x)\n",
    "    population.append(x)\n",
    "\n",
    "taux_mutation = 0.05\n",
    "max_iterations = 200\n",
    "best_element, best_cout, history = genetique(population, taux_mutation, max_iterations)\n",
    " "
   ]
  },
  {
   "cell_type": "code",
   "execution_count": 1012,
   "metadata": {},
   "outputs": [
    {
     "data": {
      "image/png": "[encoded data removed]",
      "text/plain": [
       "<Figure size 640x480 with 1 Axes>"
      ]
     },
     "metadata": {},
     "output_type": "display_data"
    }
   ],
   "source": [
    "plt.plot(history)\n",
    "plt.xlabel('Generation')\n",
    "plt.ylabel('Fonction de Cout')\n",
    "plt.title(\"Résultat d'Algo Genetique\")\n",
    "plt.savefig('Algo_Genetique')"
   ]
  },
  {
   "attachments": {},
   "cell_type": "markdown",
   "metadata": {},
   "source": [
    "# Tabou"
   ]
  },
  {
   "cell_type": "code",
   "execution_count": 1013,
   "metadata": {},
   "outputs": [
    {
     "name": "stdout",
     "output_type": "stream",
     "text": [
      "Meilleure solution : [396, 500, 516, 535, 4, 361, 164, 537, 12, 559, 10, 447, 66, 13, 282, 475, 16, 75, 232, 495, 67, 530, 497, 479, 121, 363, 474, 169, 525, 445, 405, 546, 85, 130, 570, 314, 120, 284, 389, 39, 491, 529, 98, 391, 493, 211, 200, 275, 7, 49, 238, 463, 481, 53, 250, 166, 572, 416, 40, 32, 50, 181, 466, 192, 467, 331, 159, 219, 221, 408, 245, 142, 456, 48, 287, 150, 76, 165, 191, 382, 59, 409, 544, 406, 182, 56, 459, 156, 369, 350, 99, 256, 69, 124, 94, 423, 558, 303, 42, 354, 465, 505, 189, 206, 511, 176, 96, 30, 128, 338, 386, 462, 1, 113, 342, 341, 116, 534, 45, 368, 385, 301, 43, 127, 168, 318, 352, 288, 84, 244, 248, 383, 522, 436, 272, 105, 201, 103, 138, 97, 203, 473, 431, 143, 207, 174, 478, 106, 148, 149, 71, 151, 152, 517, 154, 155, 434, 477, 158, 348, 527, 400, 519, 399, 6, 246, 81, 89, 294, 281, 569, 171, 227, 489, 547, 311, 336, 58, 27, 175, 270, 162, 273, 269, 360, 532, 533, 15, 496, 223, 427, 186, 410, 422, 194, 258, 0, 313, 202, 199, 208, 83, 61, 480, 204, 316, 17, 178, 276, 469, 79, 503, 20, 504, 214, 18, 454, 384, 209, 23, 367, 484, 483, 430, 297, 407, 70, 545, 293, 557, 378, 553, 563, 337, 234, 101, 236, 237, 34, 531, 571, 482, 107, 239, 190, 452, 432, 398, 362, 249, 395, 28, 295, 394, 321, 21, 366, 257, 267, 259, 93, 543, 357, 119, 353, 262, 562, 401, 260, 552, 565, 217, 22, 549, 453, 376, 146, 172, 412, 279, 153, 213, 302, 271, 494, 11, 215, 129, 304, 92, 78, 233, 292, 381, 417, 435, 280, 347, 37, 145, 161, 490, 358, 411, 307, 471, 387, 451, 188, 433, 263, 90, 510, 460, 210, 218, 193, 14, 449, 5, 64, 212, 115, 224, 131, 252, 507, 242, 160, 243, 390, 110, 520, 54, 364, 440, 195, 536, 141, 235, 506, 340, 551, 343, 344, 528, 346, 274, 197, 55, 349, 226, 111, 487, 540, 134, 356, 455, 289, 486, 25, 82, 109, 298, 118, 132, 555, 46, 68, 550, 268, 278, 122, 73, 228, 375, 372, 135, 492, 317, 222, 173, 319, 373, 328, 414, 509, 418, 309, 220, 429, 74, 144, 157, 291, 312, 329, 339, 286, 163, 518, 198, 556, 265, 187, 560, 539, 437, 57, 498, 320, 371, 561, 413, 19, 415, 330, 502, 41, 419, 420, 35, 426, 91, 36, 3, 541, 52, 179, 261, 31, 47, 167, 548, 441, 29, 9, 253, 87, 439, 515, 117, 442, 102, 444, 458, 33, 526, 355, 326, 322, 290, 112, 365, 283, 254, 370, 255, 147, 225, 177, 512, 392, 247, 183, 77, 216, 335, 123, 323, 310, 88, 196, 501, 424, 485, 476, 388, 241, 568, 379, 448, 457, 229, 488, 44, 345, 231, 472, 508, 300, 351, 2, 315, 51, 277, 403, 514, 359, 499, 325, 86, 8, 296, 62, 100, 513, 380, 38, 333, 114, 133, 60, 450, 443, 524, 136, 140, 404, 240, 205, 521, 428, 523, 104, 251, 139, 470, 137, 184, 332, 438, 425, 108, 538, 306, 374, 324, 230, 402, 468, 377, 464, 305, 63, 80, 308, 264, 185, 266, 334, 285, 461, 446, 554, 24, 180, 397, 126, 26, 125, 65, 564, 72, 170, 393, 566, 567, 421, 542, 95, 327, 299]\n",
      "Meilleure valeur : 16374.895796442574\n"
     ]
    }
   ],
   "source": [
    "import random\n",
    "\n",
    "\n",
    "# Définition de la fonction de voisinage\n",
    "def voisinage(solution):\n",
    "    voisin = solution.copy()\n",
    "    i = random.randint(0, len(solution) - 1)  # Sélection d'un élément au hasard\n",
    "    j = random.randint(0, len(solution) - 1)  # Sélection d'un autre élément au hasard\n",
    "    voisin[i], voisin[j] = voisin[j], voisin[i]  # Échange des deux éléments\n",
    "    return voisin\n",
    "\n",
    "# Définition de l'algorithme Tabou\n",
    "def tabou(liste_initiale, taille_tabou, max_iterations,n_voisin):\n",
    "    \n",
    "    history = []\n",
    "    meilleure_solution = liste_initiale\n",
    "    meilleure_valeur = cout(get_route_version2(meilleure_solution,time_window,Q))\n",
    "    liste_tabou = []\n",
    "    for i in range(max_iterations):\n",
    "        \n",
    "\n",
    "        for i in range(n_voisin):\n",
    "            voisin = voisinage(meilleure_solution)\n",
    "            while voisin in liste_tabou:  # Si le voisin est dans la liste tabou, on en génère un autre\n",
    "                voisin = voisinage(meilleure_solution)\n",
    "\n",
    "            if i==0:\n",
    "                valeur_meilleur_voisin = cout(get_route_version2(voisin,time_window,Q))\n",
    "                meilleur_voisin = voisin\n",
    "            else:\n",
    "                s = cout(get_route_version2(voisin,time_window,Q))\n",
    "                if s<valeur_meilleur_voisin:\n",
    "                    meilleur_voisin = voisin\n",
    "                    valeur_meilleur_voisin = s\n",
    "\n",
    "            \n",
    "        # on passe au meilleur voisin trouvé de la solution courantes\n",
    "        meilleure_solution = meilleur_voisin\n",
    "        meilleure_valeur = valeur_meilleur_voisin\n",
    "            \n",
    "            \n",
    "        liste_tabou.append(meilleure_solution)  # On ajoute le voisin dans la liste tabou\n",
    "        if len(liste_tabou) > taille_tabou:  # Si la taille de la liste tabou dépasse la taille maximale autorisée\n",
    "            liste_tabou.pop(0)  # On supprime le premier élément de la liste tabou\n",
    "            \n",
    "        history.append(meilleure_valeur)\n",
    "         \n",
    "        \n",
    "       \n",
    "        \n",
    "    return meilleure_solution, meilleure_valeur , history\n",
    "\n",
    "# Exemple d'utilisation\n",
    "list_client_initial = [i for i in range(len(data_client_index))]\n",
    "taille_tabou = 30\n",
    "max_iterations = 1000\n",
    "meilleure_solution, meilleure_valeur , history = tabou(list_client_initial, taille_tabou, max_iterations,10)\n",
    "print(\"Meilleure solution :\", meilleure_solution)\n",
    "print(\"Meilleure valeur :\", meilleure_valeur)"
   ]
  },
  {
   "cell_type": "code",
   "execution_count": 1014,
   "metadata": {},
   "outputs": [
    {
     "data": {
      "image/png": "[encoded data removed]",
      "text/plain": [
       "<Figure size 640x480 with 1 Axes>"
      ]
     },
     "metadata": {},
     "output_type": "display_data"
    }
   ],
   "source": [
    "plt.plot(history)\n",
    "plt.xlabel('Iteration')\n",
    "plt.ylabel('Fonction de Cout')\n",
    "plt.title(\"Résultat d'Algo Tabou\")\n",
    "plt.savefig('Algo_Tabou')"
   ]
  },
  {
   "cell_type": "code",
   "execution_count": null,
   "metadata": {},
   "outputs": [],
   "source": []
  }
 ],
 "metadata": {
  "kernelspec": {
   "display_name": "base",
   "language": "python",
   "name": "python3"
  },
  "language_info": {
   "codemirror_mode": {
    "name": "ipython",
    "version": 3
   },
   "file_extension": ".py",
   "mimetype": "text/x-python",
   "name": "python",
   "nbconvert_exporter": "python",
   "pygments_lexer": "ipython3",
   "version": "3.9.13"
  },
  "orig_nbformat": 4
 },
 "nbformat": 4,
 "nbformat_minor": 2
}
