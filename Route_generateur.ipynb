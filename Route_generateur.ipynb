{
 "cells": [
  {
   "cell_type": "code",
   "execution_count": 556,
   "metadata": {},
   "outputs": [],
   "source": [
    "import pandas as pd\n",
    "from os import listdir\n",
    "from os.path import isfile, join\n",
    "import numpy as np\n",
    "import random\n",
    "import scipy \n",
    "from scipy.spatial.distance import pdist , cdist\n",
    "\n",
    "import matplotlib.pyplot as plt\n",
    " \n",
    "from math import sin, cos, sqrt, atan2, radians\n",
    " \n",
    "import pickle\n",
    "import os \n",
    "import sys\n",
    "import math\n"
   ]
  },
  {
   "cell_type": "code",
   "execution_count": 557,
   "metadata": {},
   "outputs": [],
   "source": [
    "parent_dir = sys.path[0]\n",
    " \n",
    "\n",
    "data_depot = pd.read_csv(os.path.join(parent_dir, 'data/data_depot.csv'))\n",
    "data_client_index = pd.read_csv(os.path.join(parent_dir, 'data/data_clients.csv'))\n",
    "\n",
    "\n",
    "with open(os.path.join(parent_dir,'data/distance_matrix.pickle'), 'rb') as handle:\n",
    "    distance_matrix = pickle.load(handle)\n",
    "\n",
    "with open(os.path.join(parent_dir,'data/times.pickle'), 'rb') as handle:\n",
    "    times = pickle.load(handle)\n"
   ]
  },
  {
   "cell_type": "code",
   "execution_count": 48,
   "metadata": {},
   "outputs": [],
   "source": [
    "import folium\n",
    "\n",
    "# Calculer les coordonnées de latitude et de longitude moyennes des clients pour centrer la carte\n",
    "latitude = data_client_index['CUSTOMER_LATITUDE'].mean()\n",
    "longitude = data_client_index['CUSTOMER_LONGITUDE'].mean()\n",
    "\n",
    "# Créer une carte centrée sur les coordonnées moyennes\n",
    "carte = folium.Map(location=[latitude, longitude], zoom_start=10)\n",
    "\n",
    "# Ajouter des marqueurs pour chaque client\n",
    "\n",
    "# Ajouter des marqueurs et des segments pour chaque client\n",
    "for i in range(len(data_client_index)):\n",
    "    # Ajouter un marqueur pour le client\n",
    "    client = data_client_index.iloc[i]\n",
    "    folium.Marker(location=[client['CUSTOMER_LATITUDE'], client['CUSTOMER_LONGITUDE']], popup=str(i)).add_to(carte)\n",
    "\n",
    "    # Si ce n'est pas le dernier client dans la liste, ajouter un segment reliant ce client au client suivant\n",
    "    if i < len(data_client_index) - 1:\n",
    "        client_suivant = data_client_index.iloc[i + 1]\n",
    "        folium.PolyLine(locations=[[client['CUSTOMER_LATITUDE'], client['CUSTOMER_LONGITUDE']], [client_suivant['CUSTOMER_LATITUDE'], client_suivant['CUSTOMER_LONGITUDE']]], color='red').add_to(carte)\n",
    "\n",
    "# Enregistrer la carte dans un fichier HTML\n",
    "carte.save('carte_clients.html')\n"
   ]
  },
  {
   "cell_type": "code",
   "execution_count": 77,
   "metadata": {},
   "outputs": [
    {
     "name": "stderr",
     "output_type": "stream",
     "text": [
      "c:\\Users\\hicha\\anaconda3\\envs\\lib\\site-packages\\seaborn\\_decorators.py:36: FutureWarning: Pass the following variable as a keyword arg: x. From version 0.12, the only valid positional argument will be `data`, and passing other arguments without an explicit keyword will result in an error or misinterpretation.\n",
      "  warnings.warn(\n",
      "c:\\Users\\hicha\\anaconda3\\envs\\lib\\site-packages\\seaborn\\_decorators.py:36: FutureWarning: Pass the following variable as a keyword arg: x. From version 0.12, the only valid positional argument will be `data`, and passing other arguments without an explicit keyword will result in an error or misinterpretation.\n",
      "  warnings.warn(\n"
     ]
    },
    {
     "data": {
      "text/plain": [
       "<AxesSubplot:xlabel='a', ylabel='count'>"
      ]
     },
     "execution_count": 77,
     "metadata": {},
     "output_type": "execute_result"
    },
    {
     "data": {
      "image/png": "[encoded data removed]",
      "text/plain": [
       "<Figure size 640x480 with 1 Axes>"
      ]
     },
     "metadata": {},
     "output_type": "display_data"
    }
   ],
   "source": [
    "import seaborn as sns\n",
    "sns.countplot(data_client_index['b'])\n",
    "sns.countplot(data_client_index['a'])"
   ]
  },
  {
   "cell_type": "code",
   "execution_count": 192,
   "metadata": {},
   "outputs": [],
   "source": [
    "# Calculer la distance entre chaque paire de points\n",
    "from geopy import distance\n",
    "taille_m = len(data_client_index)\n",
    "distance_matrix = np.zeros((taille_m, taille_m))\n",
    "for i, row_i in data_client_index.iterrows():\n",
    "    for j, row_j in data_client_index.iterrows():\n",
    "        if i != j:\n",
    "            coord_i = (row_i['CUSTOMER_LATITUDE'], row_i['CUSTOMER_LONGITUDE'])\n",
    "            coord_j = (row_j['CUSTOMER_LATITUDE'], row_j['CUSTOMER_LONGITUDE'])\n",
    "            dist = distance.distance(coord_i, coord_j).km\n",
    "            distance_matrix[i, j] = dist"
   ]
  },
  {
   "cell_type": "code",
   "execution_count": 288,
   "metadata": {},
   "outputs": [],
   "source": [
    "CUSTOMER_DELIVERY_SERVICE_TIME = data_client_index['d'].values\n",
    "TOTAL_WEIGHT_KG = data_client_index['TOTAL_WEIGHT_KG'].values\n",
    "CUSTOMER_DELIVERY_SERVICE_TIME_FROM_DEPOT = data_depot['TIME_DISTANCE_MIN'].values\n",
    "CUSTOMER_DELIVERY_SERVICE_DISTANCE_FROM_DEPOT = data_depot['DISTANCE_KM'].values\n"
   ]
  },
  {
   "cell_type": "code",
   "execution_count": 286,
   "metadata": {},
   "outputs": [],
   "source": [
    "def choix_client_suivant(client_potentiel,client_courant,methode):\n",
    "        \n",
    "    if methode==0:\n",
    "            client_suivant = random.choice(client_potentiel)\n",
    "     \n",
    "    if methode==1:\n",
    "            client_potentiel_distance = [distance_matrix[client_courant,client] for client in client_potentiel]\n",
    "            client_suivant = client_potentiel[client_potentiel_distance.index(min(client_potentiel_distance))]\n",
    "\n",
    "    return(client_suivant)"
   ]
  },
  {
   "cell_type": "code",
   "execution_count": 1002,
   "metadata": {},
   "outputs": [],
   "source": [
    "def get_route_by_car(client_disponible,Q,V_moy,time_window):\n",
    "    solution = []\n",
    "    t = 480\n",
    "    total_weight = 0\n",
    "    i=0\n",
    "\n",
    "    client_courant = 0\n",
    "    client_potentiel = client_disponible\n",
    "\n",
    "    # chosir le client le plus proche de depot\n",
    " \n",
    "    client_suivant = random.choice(client_potentiel)\n",
    "\n",
    "    \n",
    "    t = t +  CUSTOMER_DELIVERY_SERVICE_TIME_FROM_DEPOT[client_suivant] + CUSTOMER_DELIVERY_SERVICE_TIME[client_suivant]\n",
    "    total_weight = total_weight+TOTAL_WEIGHT_KG[client_suivant]\n",
    "    if total_weight<Q and t<time_window:\n",
    "        solution.append(client_suivant)\n",
    "    \n",
    "     \n",
    "     \n",
    "    client_disponible.remove(client_suivant)\n",
    "\n",
    "    client_courant = client_suivant\n",
    "    client_potentiel = [client for client in client_disponible if  t+distance_matrix[client_courant,client]/V_moy < time_window and total_weight+TOTAL_WEIGHT_KG[client]<Q]\n",
    "    i=1\n",
    "    \n",
    "    while len(client_potentiel)>0:\n",
    "        \n",
    "        client_suivant = random.choice(client_potentiel)\n",
    "         \n",
    "        solution.append(client_suivant)\n",
    "        client_disponible.remove(client_suivant)\n",
    "        \n",
    "\n",
    "        t = t + distance_matrix[client_courant,client_suivant]/V_moy + CUSTOMER_DELIVERY_SERVICE_TIME[client_suivant]\n",
    "        total_weight = total_weight+TOTAL_WEIGHT_KG[client_suivant]\n",
    "        client_courant = client_suivant\n",
    " \n",
    "        client_potentiel = [client for client in client_disponible if  t+distance_matrix[client_courant,client]/V_moy < time_window and total_weight+TOTAL_WEIGHT_KG[client]<Q]\n",
    "        i+=1\n",
    "    return(solution)\n",
    " "
   ]
  },
  {
   "cell_type": "code",
   "execution_count": 1003,
   "metadata": {},
   "outputs": [],
   "source": [
    "def get_route_version0(Q,V_moy,time_window):\n",
    "    client_disponible = [i for i in range(len(data_client_index))]\n",
    "    Global_route = []\n",
    "    k=0\n",
    "    while len(client_disponible)>0:\n",
    "        route_by_car = get_route_by_car(client_disponible,Q,V_moy,time_window)\n",
    "        Global_route.append(route_by_car)\n",
    "        client_disponible = [client for client in  client_disponible if client not in route_by_car]\n",
    "    \n",
    "    print('nombre des voitures utilisées ',len(Global_route))\n",
    "    return(Global_route)"
   ]
  },
  {
   "cell_type": "code",
   "execution_count": 1004,
   "metadata": {},
   "outputs": [
    {
     "name": "stdout",
     "output_type": "stream",
     "text": [
      "nombre des voitures utilisées  20\n"
     ]
    },
    {
     "data": {
      "text/plain": [
       "28965.483115776093"
      ]
     },
     "execution_count": 1004,
     "metadata": {},
     "output_type": "execute_result"
    }
   ],
   "source": [
    "Q = 5000\n",
    "V_moy=60\n",
    "time_window = 950\n",
    "global_route = get_route_version0(Q,V_moy,time_window)\n",
    "cout(global_route)"
   ]
  },
  {
   "cell_type": "code",
   "execution_count": 581,
   "metadata": {},
   "outputs": [
    {
     "name": "stderr",
     "output_type": "stream",
     "text": [
      "C:\\Users\\hicha\\AppData\\Local\\Temp\\ipykernel_120\\1776759628.py:19: UserWarning: color argument of Icon should be one of: {'pink', 'orange', 'purple', 'lightred', 'red', 'black', 'cadetblue', 'lightblue', 'darkgreen', 'white', 'green', 'lightgreen', 'blue', 'gray', 'darkblue', 'lightgray', 'darkred', 'darkpurple', 'beige'}.\n",
      "  icon=folium.Icon(color=couleur)).add_to(carte)\n"
     ]
    }
   ],
   "source": [
    "import random\n",
    "\n",
    "# Définir les couleurs que vous voulez utiliser pour les voitures\n",
    "couleurs_voitures = ['#FF0000', '#00FF00', '#0000FF', '#FFFF00', '#00FFFF', '#FF00FF']\n",
    "\n",
    "# Créer une carte centrée sur les coordonnées moyennes\n",
    "carte = folium.Map(location=[latitude, longitude], zoom_start=10)\n",
    "\n",
    "# Ajouter des marqueurs et des segments pour chaque client et chaque voiture\n",
    "for i, clients in enumerate(global_route[:2]):\n",
    "    # Générer une couleur aléatoire pour chaque voiture\n",
    "    couleur = random.choice(couleurs_voitures)\n",
    "\n",
    "    # Ajouter un marqueur pour chaque client\n",
    "    for j, client in enumerate(clients):\n",
    "        client_data = data_client_index.iloc[client]\n",
    "        folium.Marker(location=[client_data['CUSTOMER_LATITUDE'], client_data['CUSTOMER_LONGITUDE']],\n",
    "                      popup=str(client),\n",
    "                      icon=folium.Icon(color=couleur)).add_to(carte)\n",
    "\n",
    "        # Si ce n'est pas le dernier client visité par la voiture, ajouter un segment reliant ce client au client suivant\n",
    "        if j < len(clients) - 1:\n",
    "            client_suivant = clients[j + 1]\n",
    "            client_suivant_data = data_client_index.iloc[client_suivant]\n",
    "            folium.PolyLine(locations=[[client_data['CUSTOMER_LATITUDE'], client_data['CUSTOMER_LONGITUDE']],\n",
    "                                       [client_suivant_data['CUSTOMER_LATITUDE'], client_suivant_data['CUSTOMER_LONGITUDE']]],\n",
    "                            color=couleur).add_to(carte)\n",
    "\n",
    "\n",
    "# Enregistrer la carte dans un fichier HTML\n",
    "carte.save('carte_clients.html')\n",
    "\n"
   ]
  },
  {
   "cell_type": "code",
   "execution_count": 582,
   "metadata": {},
   "outputs": [],
   "source": [
    "def cout(global_route):\n",
    "    cout = 0\n",
    "    for route in global_route:\n",
    "       \n",
    "        cout_depot_depart = CUSTOMER_DELIVERY_SERVICE_DISTANCE_FROM_DEPOT[route[0]]\n",
    "        cout_depot_retour = CUSTOMER_DELIVERY_SERVICE_DISTANCE_FROM_DEPOT[route[-1]]\n",
    "        cout = cout+sum([distance_matrix[route[i],route[i+1]] for i in range(len(route)-1)])+cout_depot_retour+cout_depot_depart\n",
    "\n",
    "    return(cout+len(global_route))"
   ]
  },
  {
   "cell_type": "code",
   "execution_count": 701,
   "metadata": {},
   "outputs": [],
   "source": [
    " def get_route_version1(list_client,time_window,Q):\n",
    "    Global_route = []\n",
    "    client_numbre = len(list_client)\n",
    "    client_visited = 0\n",
    "\n",
    "    while  client_visited<client_numbre:\n",
    "\n",
    "        client_disponible = list_client[client_visited:]\n",
    "        route_by_car = []\n",
    "        t = 480+CUSTOMER_DELIVERY_SERVICE_TIME_FROM_DEPOT[client_disponible[0]]+CUSTOMER_DELIVERY_SERVICE_TIME[client_disponible[0]]\n",
    "        weight = TOTAL_WEIGHT_KG[client_disponible[0]]\n",
    "         \n",
    "         \n",
    "        i=0\n",
    "        while t<time_window and weight<Q:\n",
    "\n",
    "            route_by_car.append(client_disponible[i])\n",
    "            i+=1\n",
    "            if i>=len(client_disponible):\n",
    "                break\n",
    "            t = t+distance_matrix[client_disponible[i-1],client_disponible[i]]/V_moy + CUSTOMER_DELIVERY_SERVICE_TIME[client_disponible[i]]\n",
    "            weight +=TOTAL_WEIGHT_KG[client_disponible[i]]\n",
    " \n",
    "        client_visited+=i\n",
    "        Global_route.append(route_by_car)\n",
    "        \n",
    "         \n",
    "\n",
    "    return(Global_route)\n",
    "            "
   ]
  },
  {
   "cell_type": "code",
   "execution_count": 620,
   "metadata": {},
   "outputs": [],
   "source": [
    "matrice_temps_Cij= np.zeros((len(data_client_index)+1,len(data_client_index)+1))\n",
    "for i in range(len(data_client_index)+1):\n",
    "    for j in range(len(data_client_index)+1):\n",
    "        if j==i:\n",
    "            matrice_temps_Cij[i,j]=0\n",
    "        elif i==0 or j ==0:\n",
    "            matrice_temps_Cij[i,j] = CUSTOMER_DELIVERY_SERVICE_TIME_FROM_DEPOT[max(i,j)-1]+CUSTOMER_DELIVERY_SERVICE_TIME[max(i,j)-1]\n",
    "        else:\n",
    "            matrice_temps_Cij[i,j] = distance_matrix[i-1,j-1]/V_moy + CUSTOMER_DELIVERY_SERVICE_TIME[j-1]"
   ]
  },
  {
   "cell_type": "code",
   "execution_count": 1015,
   "metadata": {},
   "outputs": [
    {
     "data": {
      "text/plain": [
       "array([[  0.        , 138.73      ,  71.972     , ...,  55.004     ,\n",
       "         34.628     , 134.272     ],\n",
       "       [138.73      ,   0.        ,  22.05474381, ...,   9.31370517,\n",
       "          9.50118257,  11.01094544],\n",
       "       [ 71.972     ,   8.53474381,   0.        , ...,   9.42058138,\n",
       "          9.97203899,  10.53258665],\n",
       "       ...,\n",
       "       [ 55.004     ,   8.49370517,  22.12058138, ...,   0.        ,\n",
       "          9.79099484,  10.905945  ],\n",
       "       [ 34.628     ,   8.20118257,  22.19203899, ...,   9.31099484,\n",
       "          0.        ,  11.13713799],\n",
       "       [134.272     ,   9.22094544,  22.26258665, ...,   9.935945  ,\n",
       "         10.64713799,   0.        ]])"
      ]
     },
     "execution_count": 1015,
     "metadata": {},
     "output_type": "execute_result"
    }
   ],
   "source": [
    "import pickle\n",
    "\n",
    "with open('matrice_temps_Cij.pickle', 'wb') as handle:\n",
    "    pickle.dump(matrice_temps_Cij, handle, protocol=pickle.HIGHEST_PROTOCOL)\n",
    "\n"
   ]
  },
  {
   "cell_type": "code",
   "execution_count": 759,
   "metadata": {},
   "outputs": [],
   "source": [
    "def get_route_version2(list_client,time_window,Q):\n",
    "    arret = [0]\n",
    "    i=0\n",
    "    while i<len(list_client):\n",
    "        weight = TOTAL_WEIGHT_KG[list_client[i]]\n",
    "        time = 480+matrice_temps_Cij[0,list_client[i]+1]\n",
    "\n",
    "        while time<time_window and weight<Q: \n",
    "            i+=1\n",
    "            if i > len(list_client)-1:\n",
    "                break\n",
    "            time+=matrice_temps_Cij[list_client[i-1]+1,list_client[i]+1]\n",
    "            weight+= TOTAL_WEIGHT_KG[list_client[i]]\n",
    "             \n",
    "        arret.append(i)\n",
    "      \n",
    "    \n",
    "    Global_route =[list_client[arret[k]:arret[k+1]] for k in range(len(arret)-1)]\n",
    "    return(Global_route)"
   ]
  }
 ],
 "metadata": {
  "kernelspec": {
   "display_name": "base",
   "language": "python",
   "name": "python3"
  },
  "language_info": {
   "codemirror_mode": {
    "name": "ipython",
    "version": 3
   },
   "file_extension": ".py",
   "mimetype": "text/x-python",
   "name": "python",
   "nbconvert_exporter": "python",
   "pygments_lexer": "ipython3",
   "version": "3.9.13"
  },
  "orig_nbformat": 4
 },
 "nbformat": 4,
 "nbformat_minor": 2
}
